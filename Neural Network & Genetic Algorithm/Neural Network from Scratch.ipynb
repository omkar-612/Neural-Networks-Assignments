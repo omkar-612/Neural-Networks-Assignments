{
  "cells": [
    {
      "cell_type": "code",
      "execution_count": 199,
      "metadata": {
        "colab": {
          "base_uri": "https://localhost:8080/"
        },
        "id": "zaRBxVAUKqUt",
        "outputId": "9c12d3f7-1d05-447c-f708-0b984d03efd1"
      },
      "outputs": [
        {
          "output_type": "stream",
          "name": "stdout",
          "text": [
            "/usr/local/lib/python3.7/dist-packages/gdown/cli.py:131: FutureWarning: Option `--id` was deprecated in version 4.3.1 and will be removed in 5.0. You don't need to pass it anymore to use a file ID.\n",
            "  category=FutureWarning,\n",
            "Downloading...\n",
            "From: https://drive.google.com/uc?id=1pbuliF4iLyRgWiwMWUkM2eAFGdsCZEgl\n",
            "To: /content/train_linear.csv\n",
            "100% 14.3k/14.3k [00:00<00:00, 19.7MB/s]\n",
            "/usr/local/lib/python3.7/dist-packages/gdown/cli.py:131: FutureWarning: Option `--id` was deprecated in version 4.3.1 and will be removed in 5.0. You don't need to pass it anymore to use a file ID.\n",
            "  category=FutureWarning,\n",
            "Downloading...\n",
            "From: https://drive.google.com/uc?id=1C-vXljMme6PScfZc9ySCEUX_lClQ67bN\n",
            "To: /content/test_linear.csv\n",
            "100% 3.30k/3.30k [00:00<00:00, 4.97MB/s]\n",
            "/usr/local/lib/python3.7/dist-packages/gdown/cli.py:131: FutureWarning: Option `--id` was deprecated in version 4.3.1 and will be removed in 5.0. You don't need to pass it anymore to use a file ID.\n",
            "  category=FutureWarning,\n",
            "Downloading...\n",
            "From: https://drive.google.com/uc?id=1HOflxXU22-hBWycQwXG0L9dG-MSEDbcd\n",
            "To: /content/nn_test.csv\n",
            "100% 496k/496k [00:00<00:00, 124MB/s]\n",
            "/usr/local/lib/python3.7/dist-packages/gdown/cli.py:131: FutureWarning: Option `--id` was deprecated in version 4.3.1 and will be removed in 5.0. You don't need to pass it anymore to use a file ID.\n",
            "  category=FutureWarning,\n",
            "Downloading...\n",
            "From: https://drive.google.com/uc?id=1uEamUEu1a43awgIRw3jZqUnZ-wOlAEK5\n",
            "To: /content/nn_train.csv\n",
            "100% 1.98M/1.98M [00:00<00:00, 136MB/s]\n"
          ]
        }
      ],
      "source": [
        "! gdown --id 1pbuliF4iLyRgWiwMWUkM2eAFGdsCZEgl\n",
        "! gdown --id 1C-vXljMme6PScfZc9ySCEUX_lClQ67bN\n",
        "! gdown --id 1HOflxXU22-hBWycQwXG0L9dG-MSEDbcd\n",
        "! gdown --id 1uEamUEu1a43awgIRw3jZqUnZ-wOlAEK5"
      ]
    },
    {
      "cell_type": "markdown",
      "metadata": {
        "collapsed": false,
        "id": "zWyw54XFKqU2"
      },
      "source": [
        "Before you turn this problem in, make sure everything runs as expected. First, **restart the kernel** (in the menubar, select Kernel$\\rightarrow$Restart) and then **run all cells** (in the menubar, select Cell$\\rightarrow$Run All).\n",
        "\n",
        "Make sure you fill in any place that says `YOUR CODE STARTS HERE` or \"YOUR ANSWER HERE\", as well as your name and ID number below:"
      ]
    },
    {
      "cell_type": "code",
      "execution_count": 200,
      "metadata": {
        "id": "kkoMlG0qKqU5"
      },
      "outputs": [],
      "source": [
        "NAME = \"OMKAR R DURGADA\"\n",
        "ID = \"2020A3PS0460P\""
      ]
    },
    {
      "cell_type": "markdown",
      "metadata": {
        "collapsed": false,
        "id": "DKxl94POKqU6"
      },
      "source": [
        "# Assignment 1\n",
        "Welcome to the first NNFL assignment. Please read the instructions given below carefully before attempting the assignment.  \n",
        "- Do NOT import any other modules\n",
        "- Do NOT change the prototypes of any of the functions\n",
        "- Sample test cases are already given, test your code using these sample cases\n",
        "- Grading will be based on hidden test cases\n",
        "- Please solve this notebook using [Google Colab](https://colab.research.google.com/) as the required packages are already installed "
      ]
    },
    {
      "cell_type": "code",
      "execution_count": 201,
      "metadata": {
        "id": "VAhdj5MeKqU7"
      },
      "outputs": [],
      "source": [
        "#DO NOT IMPORT ANY OTHER LIBRARY\n",
        "#Run these cells as it is\n",
        "import pandas as pd\n",
        "import numpy as np\n",
        "import sklearn\n",
        "import matplotlib.pyplot as plt\n",
        "import math\n",
        "from tqdm import tqdm, trange\n",
        "from copy import deepcopy\n",
        "import seaborn as sns\n",
        "from matplotlib.pyplot import figure\n",
        "from tabulate import tabulate\n",
        "\n",
        "# required only for jupyter notebooks / while running on colab\n",
        "%matplotlib inline \n",
        "\n",
        "# set seed\n",
        "seed = 42\n",
        "np.random.seed(seed)"
      ]
    },
    {
      "cell_type": "markdown",
      "metadata": {
        "collapsed": false,
        "id": "-9nCFADaKqU9"
      },
      "source": [
        "# Part A - Data pre-processing + linear regression\n",
        "\n",
        "---\n",
        "\n",
        "\n",
        "\n",
        "---\n",
        "\n",
        "\n",
        "\n",
        "---\n",
        "\n",
        "\n",
        "This is the first section of the assignment. You will implement Linear Regression to create a model that predicts the magnitude of an earthquake given its properties.\n",
        "\n",
        " There is an explanation given before each code block as well as it has been mentioned what you would have to code. Read everything carefully.\n",
        "\n",
        "Introduction: Linear regression is a linear approach for modelling the relationship between a scalar response and one or more explanatory variables. The case of one explanatory variable is called simple linear regression; for more than one, the process is called multiple linear regression. It is used to predict the value of a variable based on the value of another variable(s). It uses the linear activation function. The diagram given below will give you a brief idea. We will explain more about linear regression as we proceed.\n",
        "<!-- ![Alt text](https://miro.medium.com/max/985/1*KP0U9y1o4QUaFMwUsXqXyw.png) -->\n",
        "\n",
        "![Alt text](https://qph.fs.quoracdn.net/main-qimg-791aad9d66fa3113e7036d8121e91213)"
      ]
    },
    {
      "cell_type": "markdown",
      "metadata": {
        "collapsed": false,
        "id": "vauK6F5xKqU-"
      },
      "source": [
        "## Loading the Dataset"
      ]
    },
    {
      "cell_type": "code",
      "execution_count": 202,
      "metadata": {
        "colab": {
          "base_uri": "https://localhost:8080/"
        },
        "id": "AH1rJkNtKqVA",
        "outputId": "b1003e32-0a22-41bc-ce35-be3fabd8df16"
      },
      "outputs": [
        {
          "output_type": "execute_result",
          "data": {
            "text/plain": [
              "(218, 3)"
            ]
          },
          "metadata": {},
          "execution_count": 202
        }
      ],
      "source": [
        "train = pd.read_csv('/content/train_linear.csv')\n",
        "train_x = train[['peakFrequency', 'peakAmplitude', 'powerSum']]\n",
        "y_train = np.array(train['labels']).astype(float)\n",
        "y_train = y_train.reshape(y_train.shape[0], 1)\n",
        "x_train = np.array(train_x).astype(float)\n",
        "x_train = x_train.reshape(x_train.shape[0], 3)\n",
        "x_train.shape"
      ]
    },
    {
      "cell_type": "code",
      "execution_count": 203,
      "metadata": {
        "colab": {
          "base_uri": "https://localhost:8080/"
        },
        "id": "P7hA0UoXKqVB",
        "outputId": "9050531b-dc48-4d65-f849-4750f945b5a3"
      },
      "outputs": [
        {
          "output_type": "execute_result",
          "data": {
            "text/plain": [
              "(52, 3)"
            ]
          },
          "metadata": {},
          "execution_count": 203
        }
      ],
      "source": [
        "test = pd.read_csv('/content/test_linear.csv')\n",
        "test_x = test[['peakFrequency', 'peakAmplitude', 'powerSum']]\n",
        "y_test = np.array(test['labels']).astype(float)\n",
        "y_test = y_test.reshape(y_test.shape[0], 1)\n",
        "x_test = np.array(test_x).astype(float)\n",
        "x_test = x_test.reshape(x_test.shape[0], 3)\n",
        "x_test.shape"
      ]
    },
    {
      "cell_type": "markdown",
      "metadata": {
        "collapsed": false,
        "id": "kFJGlDFJKqVD"
      },
      "source": [
        "## Normalisation [0.25 marks]\n",
        "\n",
        "Normalising the data is a good practice. Normalisation is a technique used to bring each attribute of the data within the same range, generally [ -1, 1]. This helps ensure that all attributes are assigned coefficients proportional to their importance, instead of the model having to account for their different ranges.\n",
        "\n",
        "The formula for Noramlising the data is given below:\n",
        "\n",
        "# $X′= \\frac{X−X_{min}}{X_{max}-X_{min}}\\hspace{4cm}-(a)$\n",
        "\n",
        "where\n",
        "\n",
        "𝑋𝑚𝑖𝑛 : Minimum value of X in the data\n",
        "\n",
        "𝑋𝑚𝑎𝑥: Maximum value of X in the data\n",
        "\n",
        "Numpy provides functions to implement the above\n",
        "\n",
        "For additional information refer [this](https://towardsai.net/p/data-science/how-when-and-why-should-you-normalize-standardize-rescale-your-data-3f083def38ff)."
      ]
    },
    {
      "cell_type": "code",
      "execution_count": 204,
      "metadata": {
        "id": "2Gh-TGA_KqVE"
      },
      "outputs": [],
      "source": [
        "#GRADED - 0.25 MARKS\n",
        "def normalisation(X):\n",
        "    \"\"\"\n",
        "    Args:\n",
        "        'X': numpy ndarray\n",
        "    Returns:\n",
        "        'X_norm': normalized X also in numpy ndarray format\n",
        "    \"\"\"\n",
        "\n",
        "    # YOUR CODE HERE\n",
        "    X_norm = (X - np.min(X, axis=0))/(np.max(X, axis=0) - np.min(X, axis=0))\n",
        "    return X_norm\n",
        "    raise NotImplementedError()"
      ]
    },
    {
      "cell_type": "code",
      "execution_count": 205,
      "metadata": {
        "colab": {
          "base_uri": "https://localhost:8080/"
        },
        "id": "k3fcrND3KqVF",
        "outputId": "19bd296a-7d59-49ca-a38b-8fe6de5183bb"
      },
      "outputs": [
        {
          "output_type": "stream",
          "name": "stdout",
          "text": [
            "Sample Test passed 👍\n"
          ]
        }
      ],
      "source": [
        "# Sample test cases\n",
        "np.random.seed(seed)\n",
        "x = np.random.randint(0, 100, size = (10,2))\n",
        "x = normalisation(x)\n",
        "assert np.allclose(x[1,0], 0.1511627906976744)\n",
        "print('Sample Test passed', '\\U0001F44D')"
      ]
    },
    {
      "cell_type": "code",
      "execution_count": 206,
      "metadata": {
        "id": "RADCoxBuKqVG"
      },
      "outputs": [],
      "source": [
        "# hidden test cases. Do not modify"
      ]
    },
    {
      "cell_type": "markdown",
      "metadata": {
        "collapsed": false,
        "id": "kZW_7U37KqVG"
      },
      "source": [
        "## Initialize parameters [0.25 marks]\n",
        "\n",
        "As uncomplicated it may seem, initializing your weights play an important role in overall performance of your model. If initial wts. are too small/large then it may lead to problem of vanishing/exploding gradients respectively.\n",
        "\n",
        "For introductory purpose, we will be taking weights from Gaussian Distribution. But there are has been tremendous research in this area, and Xavier Initialization has proved to be very effective for multiple tasks. There are in-built methods for Xavier initialization in frameworks like tensorflow, pytorch, caffe. To understand the maths behind Xavier Initialization, refer to the article attached below!\n",
        "\n",
        "Refer to this article to understand the importance of effective initialization. [deeplearning.ai/notes](https://www.deeplearning.ai/ai-notes/initialization/#IV)\n",
        "\n",
        "For our model we will be initialising Weights as an array or random integers and bias as array of zeroes. You can take help of formula $(i)$ from the next section's theory i.e. forward to know the relation between the dimensions of W and b with respect to X and Y."
      ]
    },
    {
      "cell_type": "markdown",
      "metadata": {
        "collapsed": false,
        "id": "SISqzj_HKqVI"
      },
      "source": [
        "###\n",
        "Initialise weights with the shape given in function below having values **between 0 and 1** using numpy.random.rand function.\n",
        "\n",
        "(NOTE : USE **numpy.random.rand** function for this. Different functions can create different random values and this might result in your code not passing the test cases)\n",
        "\n",
        "> Initialise bias with the shape given below as a numpy array having all zeros."
      ]
    },
    {
      "cell_type": "code",
      "execution_count": 207,
      "metadata": {
        "id": "L-OuCQT-KqVJ"
      },
      "outputs": [],
      "source": [
        "#GRADED - 0.25 MARKS\n",
        "def parameters_initialization(X, Y):\n",
        "    \"\"\"\n",
        "    Args:\n",
        "    'Y': ndarray of shape (m,output_size)\n",
        "    'X': ndarray of shape (m, no. of features)\n",
        "    Returns:\n",
        "    'W', 'b': Wts. and biases\n",
        "    'W' : ndarray of shape(no. of features, output_size)\n",
        "    'b' : ndarray of shape(1, output_size)\n",
        "\n",
        "    USE output_size = 1 since we are only predicting whether a passenger survives or not.\n",
        "    \"\"\"\n",
        "    # YOUR CODE HERE\n",
        "    W1 = np.random.rand(X.shape[1], Y.shape[1])\n",
        "    b1 = np.zeros((1, Y.shape[1]))\n",
        "    return W1, b1\n",
        "    raise NotImplementedError()"
      ]
    },
    {
      "cell_type": "code",
      "execution_count": 208,
      "metadata": {
        "colab": {
          "base_uri": "https://localhost:8080/"
        },
        "id": "WI-swH8mKqVK",
        "outputId": "957762b4-bb3b-4b78-9dd6-abf29c6d9173"
      },
      "outputs": [
        {
          "output_type": "stream",
          "name": "stdout",
          "text": [
            "Sample Test passed 👍\n"
          ]
        }
      ],
      "source": [
        "# sample test case\n",
        "np.random.seed(seed)\n",
        "checkw, checkb = parameters_initialization(np.array([[1, 2], [3, 4]]), np.array([[0], [1]]))\n",
        "assert checkw.shape == (2,1)\n",
        "assert checkb.shape == (1,1)\n",
        "assert np.allclose(checkw[0],[0.3745401])\n",
        "print('Sample Test passed', '\\U0001F44D')"
      ]
    },
    {
      "cell_type": "code",
      "execution_count": 209,
      "metadata": {
        "id": "_t9D5BXtKqVL"
      },
      "outputs": [],
      "source": [
        "# hidden test cases. Do not modify"
      ]
    },
    {
      "cell_type": "markdown",
      "metadata": {
        "collapsed": false,
        "id": "K79gEwq_KqVL"
      },
      "source": [
        "## Forward [0.25 marks]\n",
        "\n",
        "This is the function where actual calculation of the prediction values happen with the help of weights and bias.\n",
        "\n",
        "For two varaibles it is a straight line of form $y = mx + c$ there m and c are slope and intercepts of line respectively but for more than one variables since each variable contributes to the output value the equation becomes a dot product of weights with the variables. Where each weight ($w_i$) represent the propotionality factor of prediction values with respect to the corresponding variable ($x_i$). $b$ is refered as bias which is analogus to the intercept value in case of two variables.\n",
        "\n",
        "# $ \\boxed{Y_{pred} = Activation function (w_1 x_1 + w_2 x_2 + .... + w_i x_i + b)}\\hspace{4cm} -(i)$\n",
        "\n",
        "The activation function we'll be using here will be a linear activation function. It gives a range of outputs which are proportional to the input.\n",
        "\n",
        "![Alt text](https://miro.medium.com/max/1400/1*tldIgyDQWqm-sMwP7m3Bww.png)\n",
        "\n",
        "# $ Y_{pred} = (X \\cdot W + b)$"
      ]
    },
    {
      "cell_type": "code",
      "execution_count": 210,
      "metadata": {
        "id": "asQ-HocVKqVM"
      },
      "outputs": [],
      "source": [
        "#GRADED - 0.25 MARKS\n",
        "def forward(X, W, b):\n",
        "    \"\"\"\n",
        "    Args:\n",
        "    'X': ndarray of shape (m,no.of features)\n",
        "    'W': ndarray of shape (no. of features, output_size)\n",
        "    'b': ndarray of shape (1, output_size)\n",
        "    Returns:\n",
        "    calculated Y_pred value using X,W and b\n",
        "    \"\"\"\n",
        "    # YOUR CODE HERE\n",
        "    Y_pred = np.dot(X, W) + b\n",
        "    return Y_pred\n",
        "    raise NotImplementedError()"
      ]
    },
    {
      "cell_type": "code",
      "execution_count": 211,
      "metadata": {
        "colab": {
          "base_uri": "https://localhost:8080/"
        },
        "id": "8VNpg1W_KqVN",
        "outputId": "a7bc6cdf-7bf3-48e5-efaf-63f346f8fed9"
      },
      "outputs": [
        {
          "output_type": "stream",
          "name": "stdout",
          "text": [
            "Sample Test passed 👍\n"
          ]
        }
      ],
      "source": [
        "#sample test case\n",
        "#DO NOT CHANGE THIS CODE\n",
        "np.random.seed(seed)\n",
        "X_test = np.random.randn(2,1)\n",
        "np.random.seed(seed+1)\n",
        "testw = np.random.randn(1,2)\n",
        "np.random.seed(seed+2)\n",
        "b_test = np.random.randn(1,2)\n",
        "forward_test = forward(X_test, testw, b_test)\n",
        "assert np.allclose(forward_test, [[-0.62276053,  0.86510174], [-0.78620394,  1.44196788]])\n",
        "print('Sample Test passed', '\\U0001F44D')"
      ]
    },
    {
      "cell_type": "code",
      "execution_count": 212,
      "metadata": {
        "id": "Sb8791JrKqVO"
      },
      "outputs": [],
      "source": [
        "# hidden test cases. Do not modify"
      ]
    },
    {
      "cell_type": "markdown",
      "metadata": {
        "collapsed": false,
        "id": "xRDeQCOkKqVO"
      },
      "source": [
        "## Loss [0.5 marks]\n",
        "\n",
        "A loss function is a measure of how good a prediction model does in terms of being able to predict the expected outcome. There is not a single loss function that works for all kind of data. It depends on a number of factors including the presence of outliers, choice of machine learning algorithm, time efficiency of gradient descent, ease of finding the derivatives and confidence of predictions.\n",
        "\n",
        "For our dataset, we have chosen Mean Squared Error Loss because of its ease of implementation and wide use in linear regression problems\n",
        "\n",
        "# $ MSE = \\frac{\\sum_{i = 1}^{m} (Y^{true}_i-Y^{pred}_i)^2}{m}*\\frac{1}{2}$\n",
        "\n",
        "here $Y^{pred}_i$ is the $i^{th}$ prediction value corresponding to $i^{th}$  $Y^{true}_i$ (actual)value.\n",
        "$m$ is the number of actual values\n"
      ]
    },
    {
      "cell_type": "code",
      "execution_count": 213,
      "metadata": {
        "id": "CaibXuc1KqVP"
      },
      "outputs": [],
      "source": [
        "#GRADED - 0.5 MARKS\n",
        "def loss(y_pred, y_true):\n",
        "  \"\"\"\n",
        "  Args:\n",
        "  'y_pred': ndarray of shape (m,1) storing output predictions\n",
        "  'y_true': ndarray of shape (m,1) storing ground truths\n",
        "    Returns:\n",
        "  'mse': mean squared error\n",
        "  \"\"\"\n",
        "\n",
        "  # YOUR CODE HERE\n",
        "\n",
        "  m = y_pred.shape[0]\n",
        "\n",
        "  mse = 0.5*np.sum(np.square(y_true - y_pred)) / (m) \n",
        "\n",
        "  return mse\n",
        "  raise NotImplementedError()"
      ]
    },
    {
      "cell_type": "code",
      "execution_count": 214,
      "metadata": {
        "colab": {
          "base_uri": "https://localhost:8080/"
        },
        "id": "Tsy8cy0AKqVQ",
        "outputId": "819a68f1-8ed2-46f5-e55a-20773b6a847b"
      },
      "outputs": [
        {
          "output_type": "stream",
          "name": "stdout",
          "text": [
            "Sample Test passed 👍\n"
          ]
        }
      ],
      "source": [
        "#sample test case\n",
        "y1 = np.array([[0.15], [0.85]])\n",
        "y2 = np.array([[0], [1]])\n",
        "bce_sample = loss(y1, y2)\n",
        "assert np.allclose(bce_sample, 0.011250000000000001)\n",
        "print('Sample Test passed', '\\U0001F44D')"
      ]
    },
    {
      "cell_type": "code",
      "execution_count": 215,
      "metadata": {
        "id": "rgsXX9MwKqVQ"
      },
      "outputs": [],
      "source": [
        "# hidden test cases. Do not modify"
      ]
    },
    {
      "cell_type": "markdown",
      "metadata": {
        "collapsed": false,
        "id": "9ygRLQMKKqVR"
      },
      "source": [
        "## Gradients [0.5 marks]\n",
        "\n",
        "In order to optimise our model and increase it's accuracy we will use a technique called **Stochastic Gradient Decent**(SGD). As per wikipedia Stochastic gradient descent is an iterative method for optimizing an objective function with suitable smoothness properties. From this we understand that we would be minimising the error between our prediction values and actual values.\n",
        "But before that we need to calculate our prediction values using the same formula as in the forward function.\n",
        "\n",
        "Now after getting certain value of loss in our first prediction we would change our weights and bias in a manner that our loss reduces.\n",
        "\n",
        "# $\\boxed{W_j = W_{j-1} - \\alpha * dW }     \\hspace{3cm}    -(i)$\n",
        "# $\\boxed{b_j = b_{j-1} - \\alpha * db }     \\hspace{3cm}    -(ii)$\n",
        "\n",
        "where $\\alpha$ is a constant called **learning rate** and dW is the partial derivative part given by the following formula\n",
        "\n",
        "# $ dW = \\frac{\\partial J(w,b)}{\\partial W} $\n",
        "Same goes for db\n",
        "\n",
        "# $ db = \\frac{\\partial J(w,b)}{\\partial b} $\n",
        "\n",
        "Where J is our MSE loss function:\n",
        "\n",
        "# $ \\frac{\\sum_{i = 1}^{m} (Y^{true}_i-Y^{pred}_i)^2}{m}*\\frac{1}{2}$\n",
        "\n",
        "By applying chain rule we can get vector forms of all dw's as dW and all db's as dB\n",
        "\n",
        "# $ dW =  \\frac{-X^T*(Y_t - Y_p)}{m}  $\n",
        "\n",
        "# $ db =  -\\sum\\frac{(Y_t - Y_p)}{m}  $\n",
        "\n",
        "$dW$ and $db$ are together refered as gradients"
      ]
    },
    {
      "cell_type": "code",
      "execution_count": 216,
      "metadata": {
        "id": "5ytycd8rKqVR"
      },
      "outputs": [],
      "source": [
        "#GRADED - 0.5 MARKS\n",
        "def grads(X, y_pred, y_true):\n",
        "    \"\"\"\n",
        "    Args:\n",
        "    'X': The input matrix\n",
        "    'y_pred': ndarray of shape (m,1) storing output predictions\n",
        "    'y_true': ndarray of shape (m,1) storing true values (survived or not)\n",
        "    Returns:\n",
        "    'dW': gradients of weights\n",
        "    'db': gradient of biases\n",
        "    \"\"\"\n",
        "\n",
        "    # YOUR CODE HERE\n",
        "    m = y_pred.shape[0]\n",
        "\n",
        "    dw = (-1 * (X.T.dot(y_true - y_pred))) / m\n",
        "    db = (-1 * np.sum(y_true - y_pred)) / m\n",
        "    return dw, db\n",
        "    raise NotImplementedError()"
      ]
    },
    {
      "cell_type": "code",
      "execution_count": 217,
      "metadata": {
        "colab": {
          "base_uri": "https://localhost:8080/"
        },
        "id": "TP20zMnCKqVS",
        "outputId": "5be13eb9-07a9-476a-fee9-f5f8440aecee"
      },
      "outputs": [
        {
          "output_type": "stream",
          "name": "stdout",
          "text": [
            "Sample Test passed 👍\n"
          ]
        }
      ],
      "source": [
        "#sample Test Case for function grads\n",
        "np.random.seed(seed)\n",
        "X_test = np.random.randn(3,2)\n",
        "np.random.seed(seed+1)\n",
        "y_pred_test = np.random.randn(3,1)\n",
        "np.random.seed(seed+2)\n",
        "y_true_test = np.random.randn(3,1)\n",
        "gradsop = grads(X_test,y_pred_test,y_true_test)\n",
        "assert np.allclose(gradsop[0],[[-0.18663058], [-1.04915976]])\n",
        "assert np.allclose(gradsop[1],-0.9471557498647226)\n",
        "print('Sample Test passed', '\\U0001F44D')"
      ]
    },
    {
      "cell_type": "code",
      "execution_count": 218,
      "metadata": {
        "id": "A0nqfHizKqVS"
      },
      "outputs": [],
      "source": [
        "# hidden test cases. Do not modify"
      ]
    },
    {
      "cell_type": "markdown",
      "metadata": {
        "collapsed": false,
        "id": "NerJXr3cKqVT"
      },
      "source": [
        "## Stochastic Gradient Decent [0.25 marks]\n",
        "\n",
        "After calculating gradients of weights and bias, we will now do the changes in their respective values with the help of expressions $(ii)$ and $(iii)$ discussed above.\n",
        "Learning Rate ($\\alpha$) gives the measure of The amount that the weights are updated during training. Its value lies between 0.0 and 1.0.\n",
        "\n",
        "The weights are now updated via the learning rules:\n",
        "\n",
        "$$ W = W - \\alpha \\text{ } dW $$\n",
        "$$ b = b - \\alpha \\text{ } db $$\n",
        "\n",
        "![learning_rate.jpg](data:image/jpeg;base64,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)\n",
        "\n",
        "In the above two graphs we see the effect of high learning rates and effect of low learning rates. Each arrow depicts the change in the value at each subsequent step. A higher learning rate might saturate fast towards the local minimum where as the low learning rate takes much more iterations. But high learning rate might also start moving away from the local minimum hence increasing the loss.\n"
      ]
    },
    {
      "cell_type": "code",
      "execution_count": 219,
      "metadata": {
        "id": "4WrQjVagKqVU"
      },
      "outputs": [],
      "source": [
        "#GRADED - 0.25 MARKS\n",
        "def sgd(W, b, grads, alpha):\n",
        "    \"\"\"\n",
        "    Args:\n",
        "    'W' : (n, output_size) array\n",
        "    'b' : (1,output_size)\n",
        "    'grads': list of dW, db\n",
        "    'alpha': learning rate\n",
        "    Return:\n",
        "    Updated parameters\n",
        "    updated_w : updated value of 'W' using the formula given above\n",
        "    updated_b : updated value of 'b' using the formula given above\n",
        "    \"\"\"\n",
        "\n",
        "    # YOUR CODE HERE\n",
        "    dw, db = grads\n",
        "    updated_w = W - alpha*dw\n",
        "    updated_b = b - alpha*db\n",
        "    return updated_w, updated_b\n",
        "    raise NotImplementedError()"
      ]
    },
    {
      "cell_type": "code",
      "execution_count": 220,
      "metadata": {
        "colab": {
          "base_uri": "https://localhost:8080/"
        },
        "id": "fHsVfQDIKqVV",
        "outputId": "439434d3-45e1-4227-ca71-69753de2df93"
      },
      "outputs": [
        {
          "output_type": "stream",
          "name": "stdout",
          "text": [
            "Sample Test passed 👍\n"
          ]
        }
      ],
      "source": [
        "#Sample test case for function sgd\n",
        "#DO NOT CHANGE THIS CODE\n",
        "np.random.seed(seed)\n",
        "testw = np.random.randn(2,1)\n",
        "np.random.seed(seed+1)\n",
        "b_test = np.random.randn(1,1)\n",
        "sgdop = sgd(testw,b_test,[testw,b_test],0.01)\n",
        "assert np.allclose(sgdop[0],[[ 0.49174701], [-0.13688166]])\n",
        "assert np.allclose(sgdop[1],[[0.25482593]])\n",
        "print('Sample Test passed', '\\U0001F44D')"
      ]
    },
    {
      "cell_type": "code",
      "execution_count": 221,
      "metadata": {
        "id": "QnEjV0DfKqVW"
      },
      "outputs": [],
      "source": [
        "# hidden test cases. Do not modify"
      ]
    },
    {
      "cell_type": "markdown",
      "metadata": {
        "collapsed": false,
        "id": "ZavE5s4UKqVW"
      },
      "source": [
        "## Build Model [0.5 marks]\n",
        "\n",
        "Congratulations! Now we have all the helper functions required to build our model. In this final function, we will call above functions in a systematic way and let our model train on given dataset. Follow the instructions carefully."
      ]
    },
    {
      "cell_type": "markdown",
      "metadata": {
        "collapsed": false,
        "id": "1EOH2C8wKqVW"
      },
      "source": [
        "### Steps to follow for building the model\n",
        "The following operations need to be performed in the function \"model\" below:\n",
        "<br/>\n",
        "<br/>\n",
        "1) Standardize X which is input to the model (Note that X is currently NOT standardized). DO NOT standardize Y, there is no need.\n",
        "\n",
        "2) Ensure shape of X is (m,no.of features) where m is the number of data points and no. of features is 3\n",
        "\n",
        "3) Initialise the parameters W and b using X (standardized) and Y with the help of the function *parameters_initialization*\n",
        "\n",
        "4) For N number of iterations :\n",
        "\n",
        "    - Calculate y_predicted by performing a forward pass(No need to standardize this y_predicted)\n",
        "\n",
        "    - Find out the loss using y_predicted and y_true\n",
        "\n",
        "    - Append the current loss to a list of all losses so that we can return it and plot it\n",
        "\n",
        "    - Calculate the Gradients\n",
        "\n",
        "    - Update W and b using SGD\n",
        "\n",
        "    - Now use these updated W and b to perform a forward pass in the next iteration and again compute loss, gradients,sgd and so on\n",
        "\n",
        "NOTE : Use all the functions you have declared uptill now in the model function"
      ]
    },
    {
      "cell_type": "code",
      "execution_count": 222,
      "metadata": {
        "id": "RlKOz7C8KqVX"
      },
      "outputs": [],
      "source": [
        "#GRADED - 0.5 MARKS\n",
        "def model(X , Y, iterations=5000, learning_rate=0.001):\n",
        "    \"\"\"\n",
        "    Args:\n",
        "    'X': ndarray of shape (m,no. of features) which is NOT Standardized\n",
        "    'Y': ndarray of shape (m,1)\n",
        "    'iterations': iterations for training our data\n",
        "    Returns:\n",
        "    y_pred: predicted value of output\n",
        "    y_true: true value of output (no need to standardize)\n",
        "    losses: for grading purpose\n",
        "    W , b : The final TRAINED weights and biases of the model\n",
        "    Return in the following order : [y_pred , y_true, losses , W , b]\n",
        "    \"\"\"\n",
        "\n",
        "    # YOUR CODE HERE\n",
        "    X = normalisation(X)\n",
        "    W, b = parameters_initialization(X, Y)\n",
        "    losses = []\n",
        "\n",
        "    for i in range(iterations):\n",
        "      y_pred = forward(X, W, b)\n",
        "      losses.append(loss(y_pred, Y))\n",
        "      gradients = grads(X, y_pred, Y)\n",
        "      W, b = sgd(W, b, gradients, learning_rate)\n",
        "\n",
        "    # plot loss curve\n",
        "    plt.plot(losses)\n",
        "    plt.title('Training Loss')\n",
        "    plt.ylabel('Loss')\n",
        "    plt.xlabel('Iterations')\n",
        "    plt.show()\n",
        "\n",
        "    return y_pred , Y, losses, W , b\n",
        "\n",
        "    raise NotImplementedError()"
      ]
    },
    {
      "cell_type": "code",
      "execution_count": 223,
      "metadata": {
        "colab": {
          "base_uri": "https://localhost:8080/",
          "height": 295
        },
        "id": "Ub6R2C6sKqVY",
        "outputId": "9eeff2f9-75aa-4e37-bf8d-c8f8ced07619"
      },
      "outputs": [
        {
          "output_type": "display_data",
          "data": {
            "text/plain": [
              "<Figure size 432x288 with 1 Axes>"
            ],
            "image/png": "[encoded data removed]"
          },
          "metadata": {
            "needs_background": "light"
          }
        }
      ],
      "source": [
        "#RUN THIS CELL AS IT IS\n",
        "np.random.seed(seed)\n",
        "y_pred , y_true, sgd_losses, trained_weights , trained_biases = model(x_train, y_train)"
      ]
    },
    {
      "cell_type": "code",
      "execution_count": 224,
      "metadata": {
        "colab": {
          "base_uri": "https://localhost:8080/"
        },
        "id": "o3g5aC_eKqVY",
        "outputId": "025cc5da-214f-41e4-fb09-d5baea00b8fb"
      },
      "outputs": [
        {
          "output_type": "stream",
          "name": "stdout",
          "text": [
            "Sample Test passed 👍\n"
          ]
        }
      ],
      "source": [
        "#Sample test case\n",
        "assert np.allclose(sgd_losses[2000], 0.008022813460124484)\n",
        "print('Sample Test passed', '\\U0001F44D')"
      ]
    },
    {
      "cell_type": "code",
      "execution_count": 225,
      "metadata": {
        "id": "_jYBUHcYKqVZ"
      },
      "outputs": [],
      "source": [
        "def predict(x_test, trained_weights, trained_biases):\n",
        "  x_test = normalisation(x_test)\n",
        "  return forward(x_test, trained_weights, trained_biases)\n",
        "\n",
        "y_test_pred = predict(x_test, trained_weights, trained_biases)"
      ]
    },
    {
      "cell_type": "code",
      "execution_count": 226,
      "metadata": {
        "colab": {
          "base_uri": "https://localhost:8080/"
        },
        "id": "nz7mHIXAKqVZ",
        "outputId": "9c9fc8b1-4d7a-44b2-f297-af3f169f63b2"
      },
      "outputs": [
        {
          "output_type": "stream",
          "name": "stdout",
          "text": [
            "Final MSE loss in testing dataset:  0.002900994235582269\n"
          ]
        }
      ],
      "source": [
        "print(\"Final MSE loss in testing dataset: \", loss(y_test_pred, y_test))"
      ]
    },
    {
      "cell_type": "markdown",
      "metadata": {
        "collapsed": false,
        "id": "oQ-SxgzgKqVa"
      },
      "source": [
        "# Section 2 - Neural Networks "
      ]
    },
    {
      "cell_type": "markdown",
      "metadata": {
        "collapsed": false,
        "id": "yKKEbEnFKqVa"
      },
      "source": [
        "### Overview: (read carefully)\n",
        "This section asks you to complete several functions to implement a multi layered neural network from scratch\n",
        "1. Use the preprocess functions that you have already defined for the new Dataset\n",
        "2. Implement various activation functions.\n",
        "3. Initialize the weight matrices and bias vectors of the neural network depending on its architecture.\n",
        "4. Implement the forward propagation module.\n",
        "5. Compute cross entropy loss function and L2 Regularization\n",
        "6. Implement the backward propagation module to compute gradients of loss function w.r.t. weights of the network.\n",
        "7. With the help of batch gradient descent optimizer, update the weights of the neural network using gradients computed in the previous step.\n",
        "8. Repeat steps 4-7 for several iterations to train the neural network on the given dataset.\n",
        "9. Report the accuracy of the neural network on the data to check for overfitting or underfitting."
      ]
    },
    {
      "cell_type": "markdown",
      "metadata": {
        "collapsed": false,
        "id": "bmJ5VKXFKqVb"
      },
      "source": [
        "## Building the model"
      ]
    },
    {
      "cell_type": "markdown",
      "metadata": {
        "collapsed": false,
        "id": "YJ7Ns8SkKqVb"
      },
      "source": [
        "### Architecture:\n",
        "\n",
        "A four-layer fully-connected neural network. The net has an input dimension of I, a hidden layer dimensions of H1, H2 and H3 and performs classification over 2 classes. Hence the output layer will consist of 1 neuron.\n",
        "\n",
        "We train the network with a sigmoid loss function and L2 regularization on the weight matrices. The network uses a ReLU nonlinearity after the first, second and third fully connected layer and Sigmoid nonlinearity for the fourth full connected layer.\n",
        "\n",
        "In other words, the network has the following architecture:\n",
        "\n",
        "    input - fully connected layer - ReLU - fully connected layer - ReLU - fully connected layer - ReLU - fully connected layer - sigmoid - fully connected layer - sigmoid\n",
        "\n",
        "The outputs of the fourth fully-connected layer give us the results."
      ]
    },
    {
      "cell_type": "markdown",
      "metadata": {
        "collapsed": false,
        "id": "dxQszY1TKqVb"
      },
      "source": [
        "### Step 1: A function to initialization of the parameters [0.5 marks]"
      ]
    },
    {
      "cell_type": "code",
      "execution_count": 227,
      "metadata": {
        "id": "pcHOtY9IKqVc"
      },
      "outputs": [],
      "source": [
        "#GRADED - 0.5 MARKS\n",
        "def Initialization(I, H1, H2, H3, H4, O):\n",
        "    '''\n",
        "    Weights are initialized to random values in the range [0, 0.1) using np.random.rand appropriately and\n",
        "    biases are initialized to zero. The dimensions of the\n",
        "    parameters as as follows:- \n",
        "\n",
        "          W1: First layer weights; has shape (H1, I)\n",
        "          b1: First layer biases; has shape (H1, 1)\n",
        "          W2: Second layer weights; has shape (H2, H1)\n",
        "          b2: Second layer biases; has shape (H2, 1)\n",
        "          W3: Third layer weights; has shape (H3, H2)\n",
        "          b3: Third layer biases; has shape (H3, 1)\n",
        "          W4: Fourth layer weights has shape (H4, H3)\n",
        "          b4: Fourth layer biases; has shape (H4, 1)\n",
        "          W5: Fifth layer weights has shape (O, H4)\n",
        "          b5: Fifth layer biases; has shape (O, 1)\n",
        "\n",
        "          Inputs:\n",
        "          - I: The number of features of the input data.\n",
        "          - H1: The number of neurons in the hidden layer - 1.\n",
        "          - H2: The number of neurons in the hidden layer - 2.\n",
        "          - H3: The number of neurons in the hidden layer - 3.\n",
        "          - H4: The number of neurons in the hidden layer - 4.\n",
        "          - O: The number of outputs(i.e. 1).\n",
        "\n",
        "          Outputs:\n",
        "          - paramters_final: List containing of parameters \n",
        "          after they are initialized with appropriate values in this order:\n",
        "          [W1, b1, W2, b2, W3, b3, W4, b4, W5, b5]\n",
        "        '''\n",
        "    \n",
        "    # YOUR CODE HERE\n",
        "    parameters_final = []\n",
        "    W1 = 0.1*np.random.rand(H1, I)\n",
        "    b1 = np.zeros((H1,1),dtype = 'float64')\n",
        "    W2 = 0.1*np.random.rand(H2, H1)\n",
        "    b2 = np.zeros((H2,1),dtype = 'float64')\n",
        "    W3 = 0.1*np.random.rand(H3, H2)\n",
        "    b3 = np.zeros((H3,1),dtype = 'float64')\n",
        "    W4 = 0.1*np.random.rand(H4,H3)\n",
        "    b4 = np.zeros((H4,1),dtype = 'float64')\n",
        "    W5 = 0.1*np.random.rand(O,H4)\n",
        "    b5 = np.zeros((O,1),dtype = 'float64')\n",
        "    parameters_final.append(W1)\n",
        "    parameters_final.append(b1)\n",
        "    parameters_final.append(W2)\n",
        "    parameters_final.append(b2)\n",
        "    parameters_final.append(W3)\n",
        "    parameters_final.append(b3)\n",
        "    parameters_final.append(W4)\n",
        "    parameters_final.append(b4)\n",
        "    parameters_final.append(W5)\n",
        "    parameters_final.append(b5)\n",
        "    return parameters_final\n",
        "    raise NotImplementedError()"
      ]
    },
    {
      "cell_type": "code",
      "execution_count": 228,
      "metadata": {
        "colab": {
          "base_uri": "https://localhost:8080/"
        },
        "id": "jH_pjZHwKqVc",
        "outputId": "c954b241-6fc8-4d27-8e0a-4aed8d22048d"
      },
      "outputs": [
        {
          "output_type": "stream",
          "name": "stdout",
          "text": [
            "Sample Test passed 👍\n"
          ]
        }
      ],
      "source": [
        "#Sample test case\n",
        "np.random.seed(2)\n",
        "tln = Initialization(2, 4, 3, 2, 1, 1)\n",
        "assert tln[0].shape == (4, 2)\n",
        "assert tln[1].shape == (4, 1)\n",
        "assert tln[2].shape == (3, 4)\n",
        "assert tln[3].shape == (3, 1)\n",
        "assert tln[4].shape == (2, 3)\n",
        "assert tln[5].shape == (2, 1)\n",
        "assert tln[6].shape == (1, 2)\n",
        "assert tln[7].shape == (1, 1)\n",
        "assert tln[8].shape == (1, 1)\n",
        "assert tln[9].shape == (1, 1)\n",
        "assert np.allclose(tln[0][0][0],0.04359949021420038)\n",
        "print('Sample Test passed', '\\U0001F44D')"
      ]
    },
    {
      "cell_type": "code",
      "execution_count": 229,
      "metadata": {
        "id": "VkeO2gPnKqVd"
      },
      "outputs": [],
      "source": [
        "# hidden test cases. Do not modify"
      ]
    },
    {
      "cell_type": "markdown",
      "metadata": {
        "collapsed": false,
        "id": "OseXbZdlKqVd"
      },
      "source": [
        "### Step 2: Implement the activation function [0.3 marks]\n",
        "\n",
        "Activation functions used:\n",
        "\n",
        "$$sigmoid(z) = 1 / (1 + e^{-z})$$\n",
        "$$tanh(z) = (e^{z} - e^{-z})/(e^{z} + e^{-z})$$\n",
        "$$relu(z) = max(0, z)$$\n",
        "\n",
        "![activation-img](data:image/png;base64,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)"
      ]
    },
    {
      "cell_type": "code",
      "execution_count": 230,
      "metadata": {
        "id": "IZc9S5iBKqVf"
      },
      "outputs": [],
      "source": [
        "#GRADED - 0.3 MARKS\n",
        "def relu(z):\n",
        "    # YOUR CODE HERE\n",
        "    return np.maximum(0.0,z)\n",
        "    raise NotImplementedError()"
      ]
    },
    {
      "cell_type": "code",
      "execution_count": 231,
      "metadata": {
        "id": "NIblHfF_KqVg"
      },
      "outputs": [],
      "source": [
        "# SIMILAR TO PART 1\n",
        "def sigmoid(z):\n",
        "    '''\n",
        "    This function is used to calculate the sigmoid of z.\n",
        "    Make sure to keep the array inside the exponent of dtype='float128' so that larger values can be handled\n",
        "\n",
        "    Input: \n",
        "    -z: The sigmoid of all the elements of z needs to be calculated. z can have any shape (1-D or 2-D numpy array), and any of int or float datatype\n",
        "\n",
        "    Returns:\n",
        "    -y: The sigmoid of z\n",
        "\n",
        "    Note: value has the same shape as z\n",
        "\n",
        "    '''\n",
        "\n",
        "    # YOUR CODE HERE\n",
        "    z = z.astype('float64')\n",
        "    z = 1/(1+ np.exp(-z))\n",
        "    return z\n",
        "    pass"
      ]
    },
    {
      "cell_type": "code",
      "execution_count": 232,
      "metadata": {
        "id": "6F3ue_ShKqVg"
      },
      "outputs": [],
      "source": [
        "def tanh(z):\n",
        "    '''\n",
        "    This function is used to calculate the tanh of z.\n",
        "\n",
        "    Input:\n",
        "    -z: The tanh of all the elements of z needs to be calculated.\n",
        "\n",
        "    Return:\n",
        "    - y: The tanh of z\n",
        "\n",
        "    Note: The value has the same shape as z\n",
        "    '''\n",
        "\n",
        "    # YOUR CODE HERE\n",
        "    return np.tanh(z)\n",
        "    pass"
      ]
    },
    {
      "cell_type": "code",
      "execution_count": 233,
      "metadata": {
        "colab": {
          "base_uri": "https://localhost:8080/"
        },
        "id": "5D6UaGUaNZGU",
        "outputId": "e2ebad56-4767-4d90-f8d6-0fa06c4282f4"
      },
      "outputs": [
        {
          "output_type": "execute_result",
          "data": {
            "text/plain": [
              "array([[0.95257413, 0.01798621]])"
            ]
          },
          "metadata": {},
          "execution_count": 233
        }
      ],
      "source": [
        "sigmoid(np.array([[3,-4]]))"
      ]
    },
    {
      "cell_type": "code",
      "execution_count": 234,
      "metadata": {
        "colab": {
          "base_uri": "https://localhost:8080/"
        },
        "id": "DYJRPyPtNcz6",
        "outputId": "c1f1a848-fb3a-496a-f245-9bb8a63301c9"
      },
      "outputs": [
        {
          "output_type": "execute_result",
          "data": {
            "text/plain": [
              "array([[ 3, -4]])"
            ]
          },
          "metadata": {},
          "execution_count": 234
        }
      ],
      "source": [
        "(np.array([[3,-4]]))"
      ]
    },
    {
      "cell_type": "code",
      "execution_count": 235,
      "metadata": {
        "colab": {
          "base_uri": "https://localhost:8080/"
        },
        "id": "kiBjN8SvittN",
        "outputId": "d5cb64ad-e94c-4a42-922d-6a0bea673c5d"
      },
      "outputs": [
        {
          "output_type": "execute_result",
          "data": {
            "text/plain": [
              "array([[ 0.99505475, -0.9993293 ]])"
            ]
          },
          "metadata": {},
          "execution_count": 235
        }
      ],
      "source": [
        "tanh(np.array([[3,-4]]))"
      ]
    },
    {
      "cell_type": "code",
      "execution_count": 236,
      "metadata": {
        "colab": {
          "base_uri": "https://localhost:8080/"
        },
        "id": "7OsMsSYZKqVf",
        "outputId": "c03ef265-eb43-47d0-eb9e-6ceb5776a728"
      },
      "outputs": [
        {
          "output_type": "stream",
          "name": "stdout",
          "text": [
            "Sample Test passed 👍\n"
          ]
        }
      ],
      "source": [
        "# sample test case\n",
        "assert np.allclose(relu(np.array([[3,-4]])), np.array([[3,0]]))\n",
        "assert np.allclose(sigmoid(np.array([[3,-4]])), np.array([[0.95257413, 0.01798621]]))\n",
        "assert np.allclose(tanh(np.array([[3,-4]])), np.array([[ 0.99505475, -0.9993293 ]]))\n",
        "print('Sample Test passed', '\\U0001F44D')"
      ]
    },
    {
      "cell_type": "code",
      "execution_count": 237,
      "metadata": {
        "id": "h6Si2qepKqVf"
      },
      "outputs": [],
      "source": [
        "# hidden test cases. Do not modify"
      ]
    },
    {
      "cell_type": "markdown",
      "metadata": {
        "collapsed": false,
        "id": "OlX-jtuAKqVh"
      },
      "source": [
        "### Step 3: A function to implement forward propagation [0.7 marks]\n",
        "\n",
        "\n",
        "### Terminologies used for describing the computations of the Neural Network:\n",
        "* Superscript $[h]$ denotes a quantity associated with the $h^{th}$ layer. \n",
        "    - Example: $a^{[h]}$ is the $h^{th}$ layer activation. $W^{[h]}$ and $b^{[h]}$ are the $h^{th}$ layer parameters.\n",
        "* Superscript $(i)$ denotes a quantity associated with the $i^{th}$ example. \n",
        "    - Example: $y^{(i)}$ is the ground truth label corresponding to the $i^{th}$ training example.\n",
        "\n",
        "\n",
        "\n",
        "* A layer of the neural network consists of:\n",
        "    - a weight matrix $W^{[h]}$of shape (size of current layer, size of previous layer)\n",
        "    - a bias vector $b^{[h]} $of shape (size of current layer, 1)\n",
        "    - an activation function $ g^{[h]} $\n",
        "* Computation in a layer $h$ of the neural network can be described as follows:\n",
        "  - Let $a^{[h-1]}$ be the activations of the previous layer or input data (if current layer is first hidden layer), of shape (size of previous layer, number of examples).\n",
        "  - Let $ z^{[h]} $ be the pre-activation value. Then, $ z^{[h]} $ is computed as :\n",
        "  $$ z^{[h]} = W^{[h]}.a^{[h-1]}+b^{[h]}$$\n",
        "  where $ . $ denotes matrix multiplication.\n",
        "  So, $z^{[h]}$ will be of shape (size of current layer, number of examples).\n",
        "  - Let $a^{[h]}$ denote post activation value. It is computed as:\n",
        "  $$ a^{[h]} = g^{[h]}(z^{[h]}) $$\n",
        "  Note that shape of $a^{[h]}$ is same as that of $a^{[h]}$.\n",
        "  \n",
        "  - Also note that $A^{[0]}$ is nothing but $X$, the input data.\n",
        "\n",
        "This function carries out computations of a single layer of the neural network:\n",
        " $$ z^{[h]} = W^{[h]}.a^{[h-1]}+b^{[h]}$$\n",
        " $$ a^{[h]} = g^{[h]}(z^{[h]}) $$"
      ]
    },
    {
      "cell_type": "code",
      "execution_count": 238,
      "metadata": {
        "id": "Rpd-zSlrKqVh"
      },
      "outputs": [],
      "source": [
        "#GRADED - 0.7 MARKS\n",
        "def feed_forward(X, params):\n",
        "    '''\n",
        "    Using the formulae given below, apply forward propagation for each layer according to the defined architecture\n",
        "\n",
        "    z = wX + b\n",
        "    a = g(z)  {g being the non linear function i.e the activation function}\n",
        "\n",
        "    Inputs:\n",
        "    - X : Input data of shape (5, total_number_of_rows). Each X[i] is a feature and each X[:][i] is a training sample\n",
        "    - params: List containing the parameters (weights and bias of each layer in the order: w1,b1,w2,b2,w3,b3,w4,b4,w5,b5) of the model\n",
        "\n",
        "    Outputs:\n",
        "    - y_out (or a5) : predicted class\n",
        "    - l : List containing the activation and linear outputs of each layer in the following fashion\n",
        "      [z1,a1,z2,a2,z3,a3,z4,a4,z5,a5]\n",
        "    '''\n",
        "    \n",
        "    # YOUR CODE HERE\n",
        "    z1 = params[0].dot(X) + params[1]\n",
        "    a1 = relu(z1)\n",
        "    z2 = params[2].dot(a1) + params[3]\n",
        "    a2 = relu(z2)\n",
        "    z3 = params[4].dot(a2) + params[5]\n",
        "    a3 = relu(z3)\n",
        "    z4 = params[6].dot(a3) + params[7]\n",
        "    a4 = sigmoid(z4)\n",
        "    z5 = params[8].dot(a4) + params[9]\n",
        "    a5 = sigmoid(z5)\n",
        "    l = []\n",
        "    l.append(z1)\n",
        "    l.append(a1)\n",
        "    l.append(z2)\n",
        "    l.append(a2)\n",
        "    l.append(z3)\n",
        "    l.append(a3)\n",
        "    l.append(z4)\n",
        "    l.append(a4)\n",
        "    l.append(z5)\n",
        "    l.append(a5)\n",
        "    return a5,l\n",
        "    raise NotImplementedError()"
      ]
    },
    {
      "cell_type": "code",
      "execution_count": 239,
      "metadata": {
        "colab": {
          "base_uri": "https://localhost:8080/"
        },
        "id": "mXMjgHoKKqVi",
        "outputId": "7298340c-9aa1-47f2-bd13-28197f5f8b4e"
      },
      "outputs": [
        {
          "output_type": "stream",
          "name": "stdout",
          "text": [
            "Sample Test passed 👍\n"
          ]
        }
      ],
      "source": [
        "np.random.seed(2)\n",
        "para = Initialization(5, 4, 3, 2, 2, 1)\n",
        "y_forward,l = feed_forward(np.random.rand(5,10), para)\n",
        "assert y_forward.shape == (1, 10)\n",
        "assert np.allclose(y_forward[0][5], 0.5153860823502773)\n",
        "assert l[0].shape==(4,10)\n",
        "assert l[2].shape==(3,10)\n",
        "assert l[8].shape==(1,10)\n",
        "assert np.allclose(l[0][0][1], 0.09703085587525487)\n",
        "print('Sample Test passed', '\\U0001F44D')"
      ]
    },
    {
      "cell_type": "code",
      "execution_count": 240,
      "metadata": {
        "id": "6x9Aoo7kKqVj"
      },
      "outputs": [],
      "source": [
        "# hidden test cases. Do not modify"
      ]
    },
    {
      "cell_type": "markdown",
      "metadata": {
        "collapsed": false,
        "id": "eRCSJclFKqVj"
      },
      "source": [
        "### Step 4: A function to calculate the loss [0.5 marks]\n",
        "\n",
        "$L = \\frac{1}{m} * \\sum(-{yd* \\log{(y\\_pred+eps)}} - (1 - yd)*\\log{(1 - y\\_pred+eps)})$ <br>\n",
        "\n",
        "where $yd$ is the desired value of y i.e. the one present in our set whereas $y\\_pred$ is the value of target we have predicted, and m is the no of examples. <br> IMPORTANT: Add epsilon($eps$) inside the log function for numerical stability."
      ]
    },
    {
      "cell_type": "code",
      "execution_count": 241,
      "metadata": {
        "id": "vw7TCdNkKqVj"
      },
      "outputs": [],
      "source": [
        "# DO NOT CHANGE, RUN AS GIVEN\n",
        "\n",
        "eps=1e-8"
      ]
    },
    {
      "cell_type": "code",
      "execution_count": 242,
      "metadata": {
        "id": "EUCk4DbcKqVk"
      },
      "outputs": [],
      "source": [
        "# GRADED - 0.5 Marks\n",
        "def loss_compute(y_pred, yd):\n",
        "    '''\n",
        "    Inputs: \n",
        "    - y_pred: numpy array containing predicted values of target\n",
        "    - yd: numpy array containing desired values of y given in the \n",
        "    dataset\n",
        "\n",
        "    Outputs:\n",
        "    - loss: Calculate and return the loss using the above formula\n",
        "    '''\n",
        "    \n",
        "    # YOUR CODE HERE\n",
        "    m = yd.shape[1]\n",
        "    #bce = (1/m) * (np.sum(np.multiply(-yd,np.log(y_pred+eps)) - np.multiply((1-yd),np.log(1-y_pred+eps))))\n",
        "    L = (1/m)*np.sum(-yd*np.log(y_pred + eps) - (1 - yd)*np.log(1 - y_pred + eps))\n",
        "    return L\n",
        "    raise NotImplementedError()"
      ]
    },
    {
      "cell_type": "code",
      "execution_count": 243,
      "metadata": {
        "colab": {
          "base_uri": "https://localhost:8080/"
        },
        "id": "c3doE3kvKqVk",
        "outputId": "70f57b27-4c14-4994-9639-f27cb46fbe8f"
      },
      "outputs": [
        {
          "output_type": "stream",
          "name": "stdout",
          "text": [
            "Sample Test passed 👍\n"
          ]
        }
      ],
      "source": [
        "# TEST CASE\n",
        "\n",
        "loss = loss_compute(np.array([[1,1]]) , np.array([[1,0]]))\n",
        "assert np.allclose(loss,9.210340366976183)\n",
        "print('Sample Test passed', '\\U0001F44D')"
      ]
    },
    {
      "cell_type": "code",
      "execution_count": 244,
      "metadata": {
        "id": "Oym9qE83KqVl"
      },
      "outputs": [],
      "source": [
        "# hidden test cases. Do not modify"
      ]
    },
    {
      "cell_type": "markdown",
      "metadata": {
        "collapsed": false,
        "id": "hIARXVEnKqVl"
      },
      "source": [
        "### Step 5: A function to add regularization by sum of squares so as to prevent overfitting the data [0.5 marks]\n",
        "\n",
        "**Regularization**:\n",
        "It is a technique that discourages learning a more complex or flexible model, so as to avoid the risk of overfitting. It improves the generalization capability of a model, i.e. its performance on unseen test examples.\n",
        "\n",
        "![1_M0MYxhh2M6-J2_5dd6ZH6w.png](data:image/png;base64,iVBORw0KGgoAAAANSUhEUgAAAwAAAAB9CAIAAACat5NbAAA4hklEQVR42uy9T5DyWnbged9ztVG7Kxq5x92oHR1GMeFp5FoM6lVqh3qFvEJeoZoNqhXyCnmFvGNmg2qFaoXeCr0VetELVJtBtUIvZoHeCr0IR6DP4Wn0IhyDvh5Po89hF8qamsoJxJ8kSSDJTPLPl3l+4XC95ANJ9+rec88959xzfnR1dYUAAAAAAADeE19CFwAAAAAAAAoQAAAAAAAAKEAAAAAAAACgAAEAAAAAAIACBAAAAAAAAAoQAAAAAAAAKEAAAAAAAACgAAEAAAAAAIACBAAAAAAAAAoQAAAAAAAAKEAAAAAAAACgAAEAAAAAAIACBAAAAAAAAAoQAAAAAAAAKEAAAAAAAACgAAEbIs/SVVnS3Tj2LUUUFTtEKHQ0SZQMH7oHAAAAAAUIeIvgNIM5hh/HtuHiDO5atusYVkyTvmm6EfQPAAAAAAoQ8CYJvIAk4oAQRDoOIhJFiJPY2A8plsGhdwAAAABQgIC3iO84ASJYgcFjz3YRolmWQL7jYQxLQe8AAAAAoAABb5HQdQJalBkMId92MU4WyMWHbshwNPQOAADvkDj0/RC6ARQg4PXO0cDRRVYwHjVPI9f2KIEnEUKB40YMz2IIxZ7j0yzpOR4EAQEA8PkReabCs4rzIMnqKgz5Z3/Gym4MHQkKEPAaZ7cm8yz3l1+74aPmaOzZLslzC/0nchx/qf+gKIzx2PMwmoYgIAAAPrONoaEKLPvTn//Sf9AGLrQsXPPHLcK14Bzs2+SLq6sr6IXPeI7HCMNik8d/ajPtwJEI6BIAAIC1dPQU+j/9PKwOQp297+99zydpCvM1TqPt+/8ceP38CLrgswbDkv+HQU8AAADclo44Sj3w9xRNLS+Dg4B9o4ALDAAAAAAOEEcxbDFBAQIAAACA90Rka0aIQwwkKEAAAAAA8I7UH1n6KsBAAXqjQAzQ+53ajiLI9oOOzmOc5qoQEwgAwFsmtCTp6zCdYU5SgJ5KooaWJDQeVo2IEA1bPpTGLfY0QTSCBz0v07B1HgcFCPhswVlFos2/+PqH+/80TZ965D5ydcUkGhoPx9MA4E1vqCxZDnhVZt/MVA9NSfomKjQVMiCwF5SoBK+IOvOzX328/3Xj4Mh1MVqSWYP7xfeX975uingjieHABfaeVSBeM6q5zRGJVL42nF/tZT6bTceDbr2Quc/k8zSekX2hcZr2E3mW4ay2T6HBU7wZ+JZhBy+WgizwTkz/aAk4wcq6YTrBuiUKi3/xBcEp5voSgWMauswSGG/G2/rhdaFZX2NpyQ5dc9MLW/iu9/5SsQWOYa2b7So0o7ihY5ivKydn7Hn+a3kzkcFhJK8apumGq+XPMUTqiy8wWtSd1USKPNs0NIHCKMXbaoZvG/aqIbEt0qzmB7Zh3Wpa7B9sLs6rMqbxvP5GRmpgSPIv44KqC/jJMdBPJVFJ0dDL2Wt1qdAaH7js8rqd6kX6JEMOqxqNi+tDctlKf3bwwtPJsNcsZVNP1uOuTOKMpBvmaiSGri6xFKf9H65lGipPYqy+FLChowoMieMExUrmI6ffFfD50yunUKrQnj7gp/NhPX89YXPVwezo18ftQhqhdKV/13Vng9pFJl/rz059jGa1NdoIi/m42+qO51dXs3691p28QJfOBs16b3pq96cL7RsPOe9XMql8c1dKTTvFdKm7buWsX6t2rr8yG3Za/cVVJt1afbff5oPmy/TDizHpVmtbL2A6aLcH08XIaNeah1aV53/IXr05mL2WLpvdGF6rJ2xdpNLl3m6HDarZfH20mW3tan2rGZNeqzOcJZOy1t4Zw9Nevd4/PC/mo2YhW9iayS/PuJlPoUx1cM832ymmUbqwaP64WaoPX4FE7VeuVaBUvn58EsxHyVPkanc/+bhVuNaWMuXucak37ZYzCKWKnfMP+2Etdz0o159sWrCRstNurdoZTqaTUbd2kd4jZu8DKEDvXAFKZNbWdiFbvmPZX8iTu6brfNQqZNLF9qkr9qxXKR7aK027lVJ7/NxCs12udKend/+uArSQPtnbsmdbAZp0SsVD+7hJu3xLDs0GtVJ9OH8nI3rcKpY7B17AqFmq9l+B1jEfNku1/uz1dNoeBWjWLaX3LVaD2kYBmg9rhUMb//mgVmruaDPTXrV8TMOZdkqZO6XIK1eAEq1kbWcZ1gqLX88GvRNf9hNI1PXb2FatasdVq/mglkudogAl2t61ISpd7ByX29N2MfU8CtC4dZGp9Oc3pey019m8h/mgmn3co4AL7C1436PEKxA/zBaI0YqpFtcT9odvJOloUTFKEGnsDq9AQ1RcsqFJ5GlP4OuqRwsMtnaFmaosirq3doBzmKY5z2lWD3TZpGWBeITvxvVx9mgNWVdTI45fV9kPXUOVBMlcBSSSPBtqhrcbYMD7cuNdFCWKrIaG8WvPaRzYuiIKirXyfdEc5Wlm8NIP6WmKw8ncqw4EjT3bjWmOxY8FujQsUlh/I/ItTRYFdTXfMJYnTNWObkakyIwl6wdrQxCippCWJJmvpIRoFMaX9xOOviYp36JCQ5eppVwNHF3TFTOk8JeRqPscVpcffiHKdnTs2wJ3ogC+4WH79CtZ1I5V/iAEgX2WtEiha/sMx2C7EVHiZtJhOI4TBIm9eAxQsmhxJPbFF198gVGcrLtQPPN5Zrdn6YrQcC7RpavLsrYvfuSECSAZemm9B/j4S1nUjywvJM0Qx9UZSfse5xWROlVdsC2fZDbaAk7TyLUinNyIExq3jFsaUBS4lq6IPCtZ59UJYruhIUF8RAX8yHVcdHvm3tB/TDum6I18IhgqtJ0YX3csQdOhYbq7gkeizIbxpCt/aGv6zSH0mFqSD30DruXg1Ga1wUiWCCwPkesPKIZ0DWvVD5GjqdahPokj3zE1ReTO3oDQbOiEJJD7Bbchc7z2CspH+bYbkSx7ZB2MHMslmc0CjFMM7lsBtllTKIawjZ11lhJETGtY0eH1VObRL2XZeuFFIA4cUxNl4wNCH+2GqOrWCSXBYk8Vt9UfhGiBx13doiSRfBmJekO1MtSNw+qHr8WjaibN0qeqBgSv6xsP26dvFVE9EsmFMyx18MKBpQpUoggQrKTZQYxCR5c5MlENaEE1lxeOfUsVGfyLLwhGPjB9Y9f2aI45pnSGno8JEoO9ihigeb+yeOPZ6mAOTqnPj2lvy8WcvmgeNnLPx4Ph9IinOoNQ5nbUwWEG1Uxm2wI865ZuuJSm7ULqYtdbNBsPeq1SFqFUqXtWY+ykXUjf05u44wJLAoAK+/x/GxfYvFtK5batvZPWRXq7IaNmfo9pd3Hl04zaDwx7Km07N+aTQadZzi/E7b1DKB77ClKF1uSGbfyGWBlUs1s+g/m4Uyk3h/tGwXQ06CVxpplTXAz3YNTM7xvjs3GvXS8lUbD55ujFXWCT1kUqs1ceb1xgo3ruxgxaDLFtP8S8V97jzJ11SumL1viIT7ucRqlj3wCJeqpEPe6wyhxzWM1Gg9HpwvGmhy1fO7KOTwaDI26yWbeU2ply42YeLQbE5Kaf+yJb7s0OucBuxKntjbQctaqPDTc7owss8Bb6dYblGUgb/hlCbB9g+PRdQzzobcEo9uCOJXIM6yNK0dw9BkFinca2FX+X5Jit3RaG3bZg4xTLSwJ99iMJgWW4FPeoo7ye7UTUjQbcbvKtbrP9G54KLOmX3a9hDMeEe6xhh+2Dtu2eaBIMDEH2JV2+3jRiBCMqpiHln3/rHm8PCBS4bshwW7vZZEBsegejRF2OGvs2wwS9GCXU2UeJaxr+vjGOkZykWrqYeR3mYcf2MJY7wQyAbQ1eF2NuOm/3zT6WpT3jcIl0nGHp1OV3uu4+ysrm2bYXvnOJutdhpW0cVh+POaxwmqVPd9He9LB9/wvpsIftuFURpygyCcy4bi5Bkil0GQXbb9O3LFxRDyYT8mwXMUfCCCJXNwlFph+nbZxPAQod27tEadB/PltwVjPk/GYCaKLs3NeGHTum/QkhgqLuoUGQFBHH15MlEcEMve3HiDCCII7K7fPpP5aH0wz1GLeD44bEzQa49k5P4gRBxFF0/QXHI29oXXEU4wSJ35ZoDBnalnfqOq2JfMM+4SXGniI0MFm9GdHy2FqSD145SBLbkp6Jdshum8KjKCaI7dQsGKPIWEPcG5jyBOLIs6yAounbQxJ7TcWJY8d20U0fQmjb3m5fE1gUR1u6ZsRwzLYuGi++c2vOMjThW4c1oKUE+GCb7mP0twYvaN77lqj7e1e4h8PqHtz0sH34SpKsB+mfJEWmEArDzY9j3/UvF59cNz+yVYtSDnsVl7se5tDY9k3dZxsC+dgmf3nG3YZ7iVLM0YA74HWDMQ2jsT7AcPnhq+NRdvsWf9f7hFBqj8Q8AsVxZOCv/cCh70cMR7ruxjEc+CHFMs8yrJLona3YnAduBBDN0ttyXPeJncdneBYFm/1Q4HkYwyB3Y62JgyCi923dSYrCQtc5c3hJaCp6wErCK0lhh7E8G13nm/Fcn+LoyN0kAAqDANsNMcdZkfUbjWcJOwkWg5OkqVc+m13bjReKypaRT7HjnbFNcDwdev5GEXYDmqV8d9P5YRAQDHu7qYvme85h8yJBEqlVT4FEfYREPaRacbpRW1uXLr9riMqZTkdQsqFtPGxJ/PYDXiBOEji6DDfyLbQ0O04vtnUbDcg31FBUDgdTR0kAEB26+0yAgdkwEM+RcRRFoW9r+sPPyPzobLsNy7lEqQLPvTP9J3AM584hglGcwHwWCVKTAwwO/Ze/+oSWUXYi51knL4yxv9Rj8FuZ42PfNgzDtFyfVFx7eTzM11jOIDXb4CURk5xAocil+wMPHRdThY1FyKflxomrTRxYmmqHOBYFfhDijNRoCNsBe5GrKbqPYt8LMIqXFIm/cbJjsVHBaII4dnXTx2iaRDgKNC2QHHv7rFvkGYruXl7imiS5JI6iMHBtOxZddbefOVloqE4kCnhi78Gw0PbxBr8xGQW8vC9/JEYQxKW9UA6o81kZAlN3YsZ4XtNt6JqLEWF7MWd6eiIJY1uiJV+ybJmXOM1yYp7DEnchFntuKK6DUiPHiQV5V3ZiNEtHom6FvHjncI08U9UdhGOh7wcxzsnJCY5TB0nsu94lIZIvaOaJfbOhWiFO0wSGY56qxapn8jdGqqOp1g+XkaWIMU0slh7PtjzaCHZnJilIlGB7KFHZ4xhhkevEgoStxZuDS9qefThBENil4/roQG/jicp/meRNJN+zT+BxEvXYLkE1Gy7z199dLh1Wosy5+jlWX1I0NJv56TdJPuskfptxpHsq+wRFIOSH4dKV7WkGrsiM9FdOYhTCEYos1aQV58hGM44REXtOyIm7gy+yJU786sPlz3+++iBbG/oPH2FnCoAeVDIIpS6a4/eXgueElJvPG0P6+Oi9bmk7LcTJ6Xyupp3CYlNyKC55Pqjm0HXiqvmoVcyuQoHH7fL+3C7TTrV6KI/GvFdKbd9s1q/mM4VNsOG0X82lUrnr686H9XymmKSXmY+aFymEUpncxUWptckI1y2lUPZAlPFsUC/kiuugu1Ezn1o35XZ43sH+2YpSnQ/r5f2JfcatSv1Qjo9Jq5A6eZ71K5kTsmTMOsXDrX5gHrl7RJyj9CYQctqr5jPL9znrV8t7Y2jnw2Zlf+TjsJbdN/Sm7UJqOyJz0i1nM6V16Oh80illUfpi8ybuHCRJjPbRV7B4kCcMgp70qhe5TQMG1cw6B9i+RIiHDh7UtgJMp91KZW/SpVm/VjkUYzuq546lw0sG1eMS5s26pdPy47xhiXpnuqzCPRIO3aPrbyRdPBa/feTtrw4yzHqVYms871fSm4Vw3CyU9gy424kQjxw1ORNncoF5lvMRIZLlntgsHAW+a1vOMyafD11T1xTFOOSK5s3o7l4O9c+qcigh6NtpIRT51JQe18GS2P5NiyIXkG+uQgcwWpYFbmlepyRNCHRjx5UdOrqJyycWEoudhvRVwMqbsDiCU1Ue//CV1FhaSEND0fxVqA1Gyw0hmxxXda1NtcAwihDC90VwRI7McialmeurR2GECHbjGwj98O4xuWUBTqzjqsq62m65gcDWHaqhHvIkYziGLm9c5/EGID+4TOHES5huSbEhZD7Z5sqETfCKJCzjNnFOaxCWtlNaMvYt3WPU/ZGPGIajS9897h6MLEX+Bgmb4AOMFPVGMf5Ok5ahpHcPEhQF4WXyHl6C0BJZwWVNc9WAOIriFH0dPxaGp9SOiaJwK7CZEDQZGbupSyLPNEJROxSlgeFYanGdgxYKbCUSYgQ8WKLe02Gl2Ofp7V0Pm6wH9/SBkTi6THz8vq4jSaQwgiAXUjOMUWQ1LFrZawSLozA4INrC8Em821+eS//5AaEsx9NPbPmNAkPmFSu6n/CJTIFiH5iWg2DoyNSc6ImWB1skvjgKxm0l0friQTyk1bxuVHNL/T8nytyJFtu16+ug1CMXQ8S37GDl6fEJfu3KIFhJ4ckbv4sxWpT5U309nmX9gEhy296OcwKbRj+sooYXC/217oCxHJ26DP3wxviKUArdXtpiR5F+EbCNxsbE7HtuuEl1yMh6gwks0zziDA0c07Q8UtblLU8Tycm7tSNjnBGlIwnMknUlOtC/zs5o+vOvP17+6md/uDOeolurYbRZr55+DO80h+G5zCfHWmlAoRvR6+yQGCUoEoPdHBEEK0uHjujhBJZa6rBHJIhr2h9TJLXdwQTHM6nL1ai8e5AsR/ejAp0jk8fu6DLB2q++ydLXMd9QNhqg53gxuQrSwVhFlwnP2tQC2+/+s03TjnlN24ogxWlREahbk1UWDx8iWnTAZXxY7V8N0Xv0U7zTK3/4019efvr6z2/0Cy7ahy/weNn46iTqSQ6rcmZlqZHls2UoxFjVXMdvZ3n5vtHGyamvMAxDW3VYmccTr1gq0YA8XYslZZ+/nRI1lYsXw/PmpjB0F7IVF3Xl/IV2zxIDFDiOj1DmeOrbs7wVEl+sEPe9D0bzokg+sO/iwAuOn/p7DLSkd7ljWjtGbIX/Xl1dPdtO00+kfvqiYaonx7XjyWGtH1AcR4mrd898ZVnqUnPcSCbx0HIJXsb2KFCbTeZ91M7lqnVTNcDIxWtfLYo0z+X0ryzDaWgLORFFEZbnBWZHvbi8/TZCo2F8yIr69abFswwPMWtdhmAEgblLULH7ZchuG+9sc3zkYBO1M5o8XdIiQd+ONbwxnq6XMvSIjfr9xvAtDYhj01+7jo84OnatiLlhcdjtDfzOEXHHghuHUYyW45PYilggcfRtckaXPGGQ7Bg7H7LBZhSzKxztMnLfgPL1hvUx32hsjg7HjmF9wFmNXv2IvXuhwmlOoI/tXk7s6+XTH7SDrfZAOHG6ZRHb6ZXY0SQDkwyJ2e6XI7L/8eLxKQXsgyTqaetTlCQE0k2FPqNZMvKD8DIpuWHo/H0Xz+UxmMBWtVg0kleWHNu8DD1NDRjFJvYPTX7v0CQY/k75+pIKUGhb3iXK8uLTJ8gOHCdg5PtGay72kg/2zbmWi7HSwWlnCfhffPPpjmtkqoMDXrCnfLePmFSuIsrffkKZona/SUUxVOqrHy4P2jERojkm+3PL8RAXmyEjnVGvxBdzLvD9CG0tt4kcJpdRzRiruy4l8CIb8iyNRaFg2dKNMZt4v7bTV6zHt3uZEa7zO4RmQ/seMRLzAl6jpfnhwNq0O5pwW9ZChheEow9KUmTq8hEW5seNYZzl6JTluiHCbAfnlYfLkCiOL+86gIgtFuRL3wu2o8iTnEKpJHDzhEGCsGRNf5QGRDI8ef8u8y3Lv8zJ13EGvtEwf0ix3ItkHln09mF1M4qixepJ3SejxE6vRMiUTJwTBA599jxYot415m1Z1L67RNmybojn3KT7uiB98/HB6lqyFb70DEdy1NWETHxg35smZXivKFPOQxUgT2N5DVNsW6KWB+BzgnRL/4lCP4xJiowDL8JpEk+O0ehWRBKeYVKqtYwtjzyjYUQ0Fdgeo+qLLUzoaEpDD3nblhd/2Woj4PSFDpJkBOE3607kGbqDSAKLPVMNBNdcCPo4CoIQIyki9r2IpDHPMEzHIyVDZrDQFNj1eUGcVW0j2dNHrqF7GBXbeiCY2tLLETm67mEkHnmmEzMqc2T7q7XZ+M5dF/UZTdbNpKrce1IRi9XsV98FQRCjA9Oc4Zi04bmmEZGCes6JwPB87uc/d00rFDcnUxa7rlReWO8rIs8OeMuTDhn28cUuxd91ooR+cJkiqJVvLfZNw16slzRNxkEQkeSzHu9bqGf3TDNwtwLDkEhfH9l4dgiao5Dm2mYQcY3HtCsKQoTzRxNQJgWSsl9/bZtOzHHr1gZeEKeYdeWkuwbJQp9OXYbx89d5SIK16HWKrdjVDQehFM3S+EsMxIXGzBy8Z5CYO0iGIRHwCIl63PRgSuJXHy5T+Zph8MRZ1TXhkepa4vGKWPna15V84lNi43b0Txw4hqZbSDC1/XkRI0tkVMp0lfP7mB5T9iIJ0Z+0CymUvVVOeD4ZtsvZdKk76tWK2STv/2xQL1wkJWwnrUJ2da5k0ilmlxHh42Y+lSu2R6ss2OtjKZPWxTov/rxfzmzOEE37tUKpPZ4vD++kl1m255NBs5jJVvvDTrWQWf5u3MynV6c6Bp12khp8Puq0+9P1mZCLUnuSNCm7ijKfdMuFcneyTrpf6szeUwL3buJSTuVrDyo9vnhdCB2r17D4RipbPEOF9+VZg+tzJrNBPZ/eOgwxG9bymevzPbNuKZ0pVFudbq/X7w8Gw+F4Mrt15Amldg/SJMeI0sXWaDabDjv1Zn+waEGx1e+2e+PnLvsyqGZPP5N12imwZT2E3IHzF8Na7vyVJG4Lk3T+sYXVF+NqXx2e8WJEpsv9rQoFuVQqv6mlPe1Xcplie/UmTxgkd72D5YGXXP3sp8CSegLZcmc8m036rXpr0K/nUulyZ9Bp9yfPPA7nvXIKHT6zsxQD+Uf1wVs5BfZIiXp4OLSTI2DpQuu8UmjWX+avvr2o32d8dEu7s7FfSWdK3elBuXZstEwH3d7oKZZh9PCzmLViLpsvFAuFUn3v9Es0imqzM5xdzaaz+WxQzWXKvdnVbNgsFqor/WNYy6VXNXW2qtJMWheZrU/XPTOsZbO1wbrYTHZzEnVUz286b9YtZYq1Vnc0n8+ms9XZ0JtFaWbDTmc1FCftQmZxmfmkWymUlqdrJ+1Ctrg6pLdblurN8/hJNUum+7FDwP1K9vFVgmbDzqroUjpfbnbXk2M+6dXLhUKpXK3Xa9Vqc3tkzkedci6dupHXOJUttbfOeCZlvPK7J5znw1Ypl06ns4VKazhdFuNJ54qt4fMXvVvofKcfLT5VAUrO599aseeTQbdVWWZxy1xUmu3e+Gl2ApPWRa7ySPUnOVF/a1hNB+3F9itpQLW1UVfn426tVCiWKrXFKKm1twoxnTBIkpU5Vdx3cHw+7nea5eXxmWyx1uz0J+ccI4stZDadzuQK1c5ixI+aF+l0vtwZP/9ATMqMVfrzg+NpsWfoPEpyvg0F6InUlPmwnoQoXyd0OO+J/VS+/jjxNqiXdxbOUbPcPKIwZ18kVwx6uksPa7nM9T5r0iqk0oVap91qdQbT+Zbit7IWjOr5zCo5wFLtmC5TueRT654ZXxcgHNVzm9qR88WN1lNxsYJlCtsVHXvlzA3RPu23e+Ot5S5XbnXarY1wn/XKmc3VFtpUvj56L9rP9aTqPmZSJdlTcodq6SUV7F4kXdR00KwtlZb5bDqZjEfDQb/brhSqW2J8MfTS96nk+swMa9mbdUKPv4l2pdw8rTbxuFXIHtyePbFS16s91vpzNR/ULs5hVDxpkCRW7+znldvr/AagdPpgGeLEyJt7rMFjPmyVK+2Xkr6zUadWvMhl0ulsvlBu9qcvKFEPGmkev2+4LQbW6tqziuZOcbG0z2eThNn8xovoNaulYuVphNPTKUCjZn6r+msyYfZtGCa9WqnS6rTrlWp7XdB5UM0mu/BkB5pdKz3TdiG92s6Om/nUumL3tFvObNKfzROX1XZXDarZbVE17nUGm38dJ4843jHFXV9tvDSqvxOZtphUi51rrnrSpJoOOr0Dk2Q+qudT+9N9zQatZu9FltlR4gmd3bZTNpvDG6txOZN9soLrZ9h3P5lFctqrXJTaz25MmHSb7UdWdF48erF6jqXgxEGSyKJ88x3XOh/Wcgf1n1mvkn20AeHFt4IXmXypUqtVK8VcYgPNVnqzF5OojzLSTPqd09S3LXXtlO/Php3uaH4mdTqTTLtJp1ptD6e7F+1Xnkwmo6cV1dMbisX678mgtzY6L6Rueae7x82LbLU/HXY6g1GrkC62R8PBaD5LAn3Gk+FgPB/Vc8uLzUfddrOczdcHw/7iksPa0s22/RiZci/50eIFb3xfazG28VPORv3+eH417693NrNhp1ZaXG0yGoznb16irSfVxYmCa9YpHUuGO24XM5mNCXw+7rXb/fF01G12Ri/Tl4vhg9L5Srs3GC12GIv9/bDXrtVaw9mOLeG4N/pFX1K7kHlKM81s2KrWupNnscZ12t3hZDJot/qPbM+kV6+1h7NnHSSJbfh0S9ybY9TMZw/4v6a9cjZ7br/MMzNuFbdbMOkksvGeUuHMEvW2keZEg+e4Vdjrrj2grqVOVNeu5v1KvnYW68BC5BZa4+moP9jrZB9fR8R8NgrQ0lwzvSGnqhfZ7EW51mxt6Y3jVimfy6SzhUpzE2Ewal5kcsVadzxPDPMXlWTRnHXL2YtKaxnUMW4Xs5l8qdrsT2aDai5XaiautlE9v9NTiwsUqp2F/JouNiapTKG5GI+zYW8wvZoPW8VcJles1pvtlWFoNqhfZDL5YrnWHQ+bF7lCrTt6++rPelKd7EVYLMXHx+Rs2CxkVy7QZRxqvtx5ya6cDlrli8wquCOVzuZLtc5w/3wr5F+lDWiSPNgTd+FsMnn6mP8k7jmVLdT709f1vCcPkqthPX/Reqc2oNGhtk/71Xyu1P7MJea4Vb0VvpJHKFW6xyL8BBJ120iTLZ+6Dxo187kTpNlGXTu17MUssdpMzzOccplCuVioDw9uS7ZtKZ+HBegki1trtXWbjrr1YnbfEY5zSvbZbDbpt6uFi0pn3K8Vau/Zh/+4SZUYue8W//Nxp1Io1JJFbv5KZGIS2TGd39UhhXL3tR39mw9qhXO7/F+0Pa93lTxlkCx2zIWnlVivlFmvUtinh0/71ULxDCrtK3j9s/mudaZ4n4J4TyVRZ/3KykgzOFEOTDqlU85B3Ftdmw9r+dSZ3FLj1kW21OnVcge8jElEzFOZ5F9SARpUL66VkPmgWnimbfd8OhoMJ5+v5JoOO/VKqZDP5hbydz7uVgvZdDq3nGzzUadSyKa3ws+vTpxUJ/5gNmxX8ukkB8IpXTif9HvDz27Vno9aldqrUjbmo+bhCqnAy2gCg3q5OZy/u0ZX9loJZssohJeeJ+N+q1YuXuSySQzibNAq5TPpzMXyPU379cWf2dI94+XHzXzqZC/MU0nUyT2NNNNBMzkne5cB6FpdOy06czbqVi8yjyt0u/2YSQD0LAmauWiN55PxZH41G3ba3eVwGjfzTxiI+8UzVle4lf7INxp6RNEEhsVRGBOceHLdp/dObAn4X9h8L2hEDQMTpbhB/cyXhq7gNhxSYn2RbcQNz7s7/3Vg8sxPf/kRoXS+wBB39H4cBYEf/PDpMpmGLd+V33CWs9BWTeyMxXUemZjVUD1WESCr3CsjMFWbUiT63QgeV9ciXuGI1/yQnkr/pwZqejZjqR4j0zb3nzWyE+iYpsW8jGv0X9hcLzT5k6d2oLG0yTkn5eF7KonqayzzV99+QiiTL9J3dX8cBn7w4WNSoSBV6obW4VzwkS0yf/71B4TSuQJD3vm8YeD7y+dFufrIVx898iNLoHTOs0UidlVOtCnV0HnCkSnuF0gaBhplcJQl+pbwRGn3YR/3OTJuJqn4us1lyOriz3S53W0mpzWTAIvMKdb5leXzIWTewem4+evx0szncxj1MEheQ3Nf/yP2y2mUq3U7y3wG8145ncrXu+16EpuUHNG/10nK+aCaP9Xq8kQSdW2keQhHM3KurEoPIVV62iiBWa/VmSTZBJ8yE/GXsIn7HK0TruMhCgtCpiGQCEXJn3EQ80mVYd9xP6bvLhAUu4qgfPvpgaOf+qyqezyMR1X8frOPArznN/MZtNaz3U8ZIgwwOaka6TleTBBhSCoSja1kJXd6cevIUdRIsU6pCPFUEjWyJeHn31+eX1L7mij98uMDu5miqCeshRg4/+XDbwgUu5bPSvzT3QgUoM/SDm27l5cRwUtJmbrkTxQzgph4EAPHCVIMd4fv5lGTCiGCogh4EQAAvDJ8x/kBxYgVlg5j33GDyxjnRW4jK0mWPXX3FhiyTqmGcIKweyqJGhii+PUPD+4Oijmguj1KXUMofa86t/eGZP6n6f9u6LpNqavynE/DS8YAAQ/UfxyJ/M8G1fKdpcd48adJd31rWdrV4AgpVtf/CAAA8G4IdJb6y0Ds+3pS7DY0OPJngTz0lwWtXZliTcYKDO4ES1Zoy7In6AqDQ7e+VcAC9PnhWc7HFCuuI2I92w3TrLCKS4yXJl6OjH3Pj6GzAAB4P0SO5V5meWGl4ESu7aI8LzAr7ch1A4zlGSzyvPCuCymyzWnb2k/k6oYLXfym+BF0weeGn7i45PVBjMBxfMTIazOh73gRTlOxZfiUSEFvAQDwbogd273MCvxK4Yldy4lJgafR9e6QFgjPsBAnHruMp/KiTfCxKtsb9cd3fEoHBQgUIOAlCWzLR4zGr/Sf0LE9xGjsep8SI4Qhz3AkQ4acAgAAvCv9x3I+ZXlhfQDEs52POLvWf1CEMAILLCM09GNRPYHBc3/97UeEfvH9jc/zTZWBPn5bQAzQOyc0eNYSHOvuML84dIxGw2MtXQCfOAAAwL20M99qKA2LUD2dO9feNHQNTTNDTjfEpwj59FRG8BTX5N+sxIcYoHcOzgiSQN89viPf9TzbckPoMgAAgPuCUSwVByTDnNEyTzA08n2MfKIDLySnKNKbjgEHF9i7n5WCfEqoEE6xXGwTyIcuAwAAuDex63gUp59Vn4g8L2Skp/LM4TQvvu13Ahagd0zkmaosiroHXQEAAPCkeLaLsyx5Xp3K9miOQVGQEJ7v3G8cOLoscJzqggIEvE1wmkauFeEkQq5CE/g+KBnOPQAAADwS33FiljvvyVzXckmOJbDY0xpWgPDzedcwkuXIwEXE204nBy6w90zkuT7NMThCjOqFKnQIAADAUxA6dkhL9FmP5nq2i7Ei5tseqRj8mXPzx74XUCzztjP+gwXoHRO7tktyDGSMBgAAeNLNpmP7FMeeNQAocNwA91VeQyx9fj3Fd1yMZt54LjlQgN4xi/0DwyRJMsAFBgAA8FSbTc/xSI4lzq1T0YLEIEszz386N3TdiOHeeuIjUIDeL6HvRwxHum6wdIFF+/C17SkQI6iuAQAAcD9820EMg3vu+eoTxY7tUYLAiRLjqqobL+T5GTU21/EplsZAAQLe6qYkRnjouBh9ig8s9m1ds4NL3zRsD5IBAQAA3EPYYnjoehh9vvz8ru0SHEsgQlRVypYlOybP6GDzHI9g3n54BGSCBgAAAABgg68xfKDdtP+/RcACBAAAAAAAQpFrmF4UODYmSe+g8hkcgwcAAAAAAKHQswwvCkhRl6l30FxwgQEAAAAA8O4AFxgAAAAAAKAAAQAAAAAAgAIEPA2xJRCMFkBHAADw/nAkklagDjMACtC7BGNYyrds0IAAAHh3+z/HcmKapaAnAFCA3iUELzJeQzEhqyAAAO8KX1P0mBdZDLoCAAXonWpAgiJglsTLDuhAAAC8D2LfEPiGx8jyOfQfX6UJ0YYKPUAytkweZ/UAFKDPAoxVDYn0fsExrGx6EXQIAABveX0KHU1kmJ99EzHqmfLMkAyDOZYLGhCAUGRb7v0KeEAeoJcmtERW+PrDJUpl8izHCYLAsTQBpmEAAN7IuhS4tmValm1/++ETQumLum2rzJkKV8WOTHGO4LoqDVLzfavXjkxzDu96Kg0K0GclH1xdEpVvFrJhRSqdIRbgu1P6N//wd/9nTPzZf/jxkU2W/7f/DRH/kfp3R8TB7379z7/+/X/14yN5wH/zD3/n//1v/uhPf/LHPz7y5L/59T//7g/+1bEbRf/1b4J/wsn/+U+Oibt4fvl7/zL1L45845/+/m/+7r9jf/KTP/03x575029/m/7RHxzdgd7VOc92o/O9hd/Mpv/8L//9H96+EYbhCwgCJ0iG5TiGvHuFiHzHdlzPD6MoDKMoiuI9LzT+o//4kz/+Axg5r3haPedb+O1/n85+/9//29s3iqNwwcdPl5uPMoWapqsCdU5dJdBZWg5Y3TZFCnSg96r9eBrPKR5jeJZA3ON3V8CrYD4ZdGqlfCb1PMPlR//DeYqg/OGPz3KZf32e3eCP/u2/eKbuO8+NzvUW/uD3TvlWKpMvVluD6Xzf+JuNuvVyIZd+NoH1JkfOK5tWz3Yj7O5QilS2UGl2R7MnkZ7jdjGDUDpfbg0mc1hM3t3a2W+WFqIrW+pO7vlbsAC9NmuQ7zqu4zheEEXL/dPNHdT5FKDf/j+/PYsAnf3TWZaxf4zOsoz99v/+f59HATrHjc71Fv7g99Cv/79Tv5zOV3RLF7asQaGjCMLPv/34rAP9TY6cVzatnu1G2Jco/h3aMWAnxkeCIEiaZVmGpcmntM7Erspxf/3tJ4TS2QLHL+BYEocF5e2afCLftS3TtGz7ux8uEcoU244l3dcECAoQALx5UREEQeB7tqmb1kpYdFxbTGIFQ1ti+a8+XCKUzhUFSeQZiiLJPd5XAHjdwzywFFHSv/242S6mUhmCvBVJEIf+34Yx+vF/+Mmf/tFtg93yX3+HvvzxIbfpnU7V437D5F//8XcI/f6/O+Cg/Me//5v/+g9f7vnXxKW9UCxJkmY4jqXuVvDi0HNsx/ODIFzsqKMo3vJpJ37Sf/od+vJf/8lP/sdbrdn8K/bHBzy/x/3Cj+zJ3/y3v/X/r1//DqEv/82NnoyjKIqCIPx0ef2es0VZ1xvcQ1RsMKABwPthNu7Vi9kUSuXrw/nV1aRdTCdGofZwCr4D4C2M71alkE29B40vnSuU6we8ivPJoFV9vpCKl+uCYrXVHz9cdIEFCADeG6EtcbyBqbbsCKLHQPQo8NasQaHnOEkkQRJEsAwneIJQgldAKlNsWKaydagu9g2Rl7758MZauzkZlLhWSYblGJZ57IFpUIAA4B3iayyjuDEiJdvTICEvAHxO6l3gB4HvmoZh/ur7Twil8jXb0Vg80X40jvmrbxcfZi94QRQ4miIpkgSXNihAAACshagtkn9u0p3AFgnoDQD4THUhx1Bk5evvsVLXswTMkRjuq4Aoypqm8BQEgYMCBADAPtEZOJZPcBxISQD4vKeyp/Oc7HOmQTQ4HZMse2kNAkABAgAAAIC3TGSLNG+GCGN1b3W+EwAFCAAAAADeOoHGUn8VSkNfY6AzQAECAAAAgHdC5Fl2zAgMhPSBAgQAAAAAAHCYL6ELAOBdEViWB48HAAAoQNAFAPB+iFxFkK0QHg8AAFCAoAsA4GkXdc9UVU3XZJ4TDS9e/ClynGqZIk1SkhOjyDNUVTd0VRIExQqSYj2xbyiqblrGQiGIFldxNEUzLFOTBG2fhST2LVVRFIlnOdHwY4RCV5c4WtBtQ+ZpgmBkJ0IocE3XD31T1azvPji6zDOiYascRXJ6gFBgL+5haIrIi7obIRQHtiZxjKhZisCQBMkkl44DS6QwjJbt5FlDW2JYzYt3H0dTNV1XBE7Q3GjZD3c2c+vxdq4HAM+hfxsyS3zxBUYLmuXvjsDQUQWGxHGCYiXTf8LxGQeOqcmCaPinPrctUoz6YMPpI3/+WQPVYwDgCZl2y8XmKCnPM6hmM5X+/GrSLqTSheZwMh70BtNpt5RffLpg0i6kl0W6+pXc8sN5v9OdXl1NWoVCa7L4zrjTGdwu/TOsl5d3uRrV86l8ffHf42Y+lSt3J1dX88WHhc706upqUM2mK/1l3aRBNZvKVbrjyajXH89G9YvVLZaPWlrcdz6s5VK5an86v5qPO6VM6qI1XrSqU0xnV08961Vr/ZvVeGb9aqE2SD4bNfPpYmd2dVoztx8PAJ6fea+cSuWb4z0TuVbtDCfTyahbu0jv/coZn2IhI3L10clSZtjt3bci1qTXGz3i5+di6zFeALAAAcATEpi6T3P04j8xVvd9ncMQSRAYQbMMSbE8G5uaTbD0MlE9KUhsoOtOjEgKs2RRdyOME3gCIZwkfFWUrSCmBOH2OVdHN3zP1hY4hKiKDLYsHo0IliERwiiaRJG/41rCCRJHJMtRJM1zpKsZIc0sM4hgrCTgtmb6CMMJDKNYlsAQRomKQHiWHSBECLKALN2KEIocB+NvFtOILN0mueVntOIGlogHpzUTAF6WZIRit+tGhG7MqSJDEiQtqKpA+M7SrvlET0EQ9ypyRTACf69yfjd9zff++flMbi/s8gYFCACeUgHytm3l2O2KPGGwPf1xkiTiMIwQpVgmFygsxSrOQtDivG43cEugaMEMEpVHppLSgARJy04URTHOivIGntpjWN8radeyPlrc9fo7JEXuPNr60zhefAnjJIl0dCNI9B/mZrMC348RdqPRJzYTAF4nBC9y+GZE4zhBkNhNr9WOQznyDFVRZJFjOdkKNgu+rqiazDGsbCZO4MjTeRJjVH+hYhkijZGSc1uIWKqqW6Ym8YLmxbfvFYeuqcm6m3xXFzhJ1XRdlzniC4I3w8R5pym6aeqyICzn2Q1f8/bPl750VTMMTRZ4OfH0xYGtiSwtGY4mcTRBsqp7S5Z8ti5vsHkCwNMxrOVShfbk2rQ9mV1d9crpXG24sgC3CqlsbePUWrvJptPp4tuDZjGTKrQmV7PpdH51NRt1Kvl0ptLfNVf3K5lMuTe7togPJ4mnaX3vebe0sqhv+5jGzXy61F3+at6vZFLFxEuWXKFdSCcOseV35uuHvciU1zefdorpXLVeqw92n2bculh54ZaXnk5mJzYTXGDAC9Mrp1Z+3sMOp07pIvHg3nD73nAoT/vV8mrqLT5fTsNZv5Iv9+bLSZ/KlWrt4exq1immLlb+tH4lk60OVp649NoF1q9klv+5mHGlzuzWvcaDZiGdKveSKToYJLed9sqZ9Gr2j+q5TGWwuurF0s19PdFm2z+f9av50koKzLqlTLbSnyViLJvK1waLydqvZtNJI96EyxssQADwhNAiT7kNUbX9MPRtreHEO0V6SFHmkWXYS/uH53qELHNY7BqGhzCSVTSZjuIIBaZmRwinRb3BYfGt3RIr8pglS4YXxpFvqw0XI2/YfOJtk08cRRGKo+SO8fpaGCfLtGsszUsocp2Qk1cp9eM4Xj5dYNtIVLjVzpcQZD4yTMQxu2YtihcYX5dkywvDwNEbVoid2MzdxwOA10bsmS6rN3ZH/Q2HMuHoVuCZmqZpukfJqpDMJM+y48S1RYoii+GsJDGnlOxiVdtSaBQHnhvG4WJi3LgXRVAsS69tyyTLkghFdkO2SEWXkvvSsuWoDEKh54coCnc94Vs/jyzNRMwqlyLOS1xsatZyWiIy+RyjKDIx3m47sj5fl/ePYDwDwNOB0Q1Tj6SGwGgEI2qGSoWubnqfAswwXFJkCITzhhXJDVkJWCr2MdWSaYRiLLRVlRTIyA15rUGj0PH1ho5YzHcItcHvqhwYq5pqJDVYSiEYQdU1GkWuafuXgW25vIhZpncZRqYT0ozA07wiyPH/+r8QPTu4DCzdZiSOwhGtWCaSFUnjGCwMecvg8WsTvBISRBTGsqXSWzcVeRoX2NvBA6RsmIGkSKyB0YJqaIvF4qRmonj9eGpDpGH4AK+NyNVNQlHpvREz2w7lmBRl+eZExTAs9P0QMQRGEDiBn6gBYDge6IoeUxxJYN6te63+3FbR3IZs4LIjrx3hBB7qDT0gFxc44Apf/k8Yhtsee4omkbGrMGFo159+msvbDyPEKZYZCgJLmbJhqhwBChAAvHEViBJ1R9SvP2Ak05duKkmibok3f8RpDpf8Fy8sRYhs2ct/4vffBmdk05NvfKDYobL6Q7KC9S0J1Q3V5X9eOJG6fQ2CU0xuXwsEVRX2SPzQj1lhf+UhktdsXkP3bSbCmOvHA4BXYvNxPJJlcBT7pu6zjbuLjeIEgTzHi9fRcYHrYgzDNKyGKIlKzOM+pWniaRXbI1vmVMp2FDIyrVN+4GuyHou2srZRxa7CyUh3VQaz3eM/JUgSS8IWlyHRURhjJEkgFBwXcQQe2baH2OWWJQ6DmCBJZHk+QksdJ45jnCBwFIaLKe/xmiTwAuE78ku/WnCBAQBwRPiv/++GTA48PwxtzaVFqLwIvLHxfsvmo6k2whEKzIaBeI6MoygKfVvTnd0vbxzKOCewkS7Jph/FoWfKmk8QC83Ai3nDUiVJ0RSe3Nh3FjpHhFDkeUEcr6+x8XN7lhUk5p7Yd4M4Xnuf4puO8Hg9SwNdUgNeU9mFehU7lh37lu0jHMcQ8v0gilanGHZd4cnPcV4WCcdYncsKXA+JMo/vNnK3hz5nlzcEvQEAcCAdybhXK6RRttTsjWZbQc7NixRC6YvmaA59BLwdZqNuvZhBKJUrVqq1Wq1WLRcvsqlMpT+f9au51PbKma1th0HPx/36cqb0x8uZMh3US/lMOp3Jl5qDZVTxuF3MpDPZXD5/cVEs19rLj+fDZjGbyV6Um/1evVAo13ueP2iVsihdqPXGs6vZoFnMJf/e6zUvMtnC//b1f7lxr9moW71IoVy5PZxOu+UMyhTr7Xa73WrWSoXa4Go+apfymWy+VOv2W6Vs9qLam1zNh/WLTLZY64yCrZ8n5zR6tXK51up0Ws1mbzJPmlK7SKNcpTOaTQfNQhplSq3hbCebT62Yy6TT2UK1O1n2y3zUqZYq9Xan06q3Vk3t1wrlZrfXbddrzcFsmcBs9RizF3njUAwVAIB775PDIMRIEoeeAIATiVzDCBmRwaMoXOBaPqsrYEJ9SSAGCACA+4IRJAm9AACn46mSGqkuTiRJhMjADRmcgm55WcACBAAAAABPTGApima7ASIpgqAEWREZSH4OChAAAAAAAMDzAqfAAAAAAAAABQgAAAAAAAAUIAAAAAAAAFCAAAAAAAAAQAECAAAAAAAABQgAAAAAAAAUIAAAAAAAAFCAAAAAAAAAQAECAAAAAAAABQgAAAAAAAAUIAAAAAAAAFCAAAAAAAAAHsb/HwAA///jdsfSAeUjxAAAAABJRU5ErkJggg==)\n",
        "\n",
        "where (k, j) refer to the shape of W and l refers to the layer number"
      ]
    },
    {
      "cell_type": "code",
      "execution_count": 245,
      "metadata": {
        "id": "y3G7BzdOKqVm"
      },
      "outputs": [],
      "source": [
        "# GRADED - 0.5 Marks\n",
        "def regularization_L2(Lambda, W1, W2, W3, W4, W5, m):\n",
        "    '''\n",
        "    Inputs:\n",
        "    - Lambda: Regularization parameter\n",
        "    - W1, W2, W3, W4: numpy arrays containing weights of the model\n",
        "    - m: no of examples\n",
        "\n",
        "    Outputs:\n",
        "    - total_regularization_loss: sum of L2 regularization loss of each layer\n",
        "    '''\n",
        "    \n",
        "    # YOUR CODE HERE\n",
        "    total_regularization_loss = (1/m)*(Lambda/2)*(np.sum(np.square(W1)) + np.sum(np.square(W2)) + np.sum(np.square(W3)) + np.sum(np.square(W4)) + np.sum(np.square(W5)))\n",
        "    return total_regularization_loss\n",
        "    raise NotImplementedError()"
      ]
    },
    {
      "cell_type": "code",
      "execution_count": 246,
      "metadata": {
        "colab": {
          "base_uri": "https://localhost:8080/"
        },
        "id": "PWDrzsHfKqVn",
        "outputId": "172e0675-c583-44d0-f8e7-3eab1515856a"
      },
      "outputs": [
        {
          "output_type": "stream",
          "name": "stdout",
          "text": [
            "Sample Test passed 👍\n"
          ]
        }
      ],
      "source": [
        "# TEST CASE\n",
        "assert np.allclose(regularization_L2(1,np.array([[1]]),np.array([[1]]),np.array([[1]]),np.array([[1]]),np.array([[1]]),1), 2.5)\n",
        "print('Sample Test passed', '\\U0001F44D')"
      ]
    },
    {
      "cell_type": "code",
      "execution_count": 247,
      "metadata": {
        "id": "yvwNOEeMKqVn"
      },
      "outputs": [],
      "source": [
        "# hidden test cases. Do not modify"
      ]
    },
    {
      "cell_type": "markdown",
      "metadata": {
        "collapsed": false,
        "id": "0lIYPS2yKqVo"
      },
      "source": [
        "### Step 6: Making helper functions for backpropagation [2.75 marks]\n"
      ]
    },
    {
      "cell_type": "markdown",
      "metadata": {
        "collapsed": false,
        "id": "lckHd6amKqVo"
      },
      "source": [
        "Our next step will be to create some helper functions before starting backpropagation\n",
        "\n",
        "We would need derivatives of **ReLU** function and **Sigmoid** function \n",
        "\n",
        "Hint: ReLU function derivative can be calculated in one step using lambda functions. For more information, refer to this link: https://www.w3schools.com/python/python_lambda.asp\n",
        "\n",
        "\n",
        "Note the following rules for different activation functions:\n",
        "$$ \\frac{\\partial \\mathcal{(relu(z))} }{\\partial z} =   \\left\\{\n",
        "\\begin{array}{ll}\n",
        "      1 & z>=0 \\\\\n",
        "      0& z < 0 \\\\\n",
        "\\end{array} \n",
        "\\right.  $$\n",
        "$$\\frac{\\partial \\mathcal{(sigmoid(z))} }{\\partial z} = sigmoid(z) * (1-sigmoid(z))$$\n"
      ]
    },
    {
      "cell_type": "code",
      "execution_count": 248,
      "metadata": {
        "id": "_XlskbA9KqVp"
      },
      "outputs": [],
      "source": [
        "# GRADED - 0.5 Marks\n",
        "\n",
        "# Define two functions ReLu_derivative, Sigmoid_derivative, and Tanh_derivative which return the respective derivatives\n",
        "# input can be of any 1D, 2D shape\n",
        "\n",
        "def ReLu_derivative(z):\n",
        "    \n",
        "    # YOUR CODE HERE\n",
        "    return 1*(z>=0)\n",
        "    raise NotImplementedError()\n",
        "\n",
        "def Sigmoid_derivative(z):\n",
        "    \n",
        "    # YOUR CODE HERE\n",
        "    y = sigmoid(z)\n",
        "    return y*(1-y)\n",
        "    raise NotImplementedError()\n",
        "\n",
        "def Tanh_derivative(z):\n",
        "\n",
        "    # YOUR CODE HERE\n",
        "    return 1 - np.tanh(z) * np.tanh(z)\n",
        "    raise NotImplementedError()"
      ]
    },
    {
      "cell_type": "code",
      "execution_count": 249,
      "metadata": {
        "colab": {
          "base_uri": "https://localhost:8080/"
        },
        "id": "vjB2XPfJKqVp",
        "outputId": "e316175f-c90f-4263-adbc-0b9392b52e67"
      },
      "outputs": [
        {
          "output_type": "stream",
          "name": "stdout",
          "text": [
            "Sample Test passed 👍\n"
          ]
        }
      ],
      "source": [
        "# TEST CASE\n",
        "\n",
        "assert np.allclose(ReLu_derivative(np.array([[2,-3]])), np.array([[1,0]]))\n",
        "assert np.allclose(Sigmoid_derivative(np.array([[1,-3]])), np.array([[0.19661193,0.04517666]]))\n",
        "assert np.allclose(Tanh_derivative(np.array([[1, 2]])), np.array([[0.41997434, 0.07065082]]))\n",
        "print('Sample Test passed', '\\U0001F44D')"
      ]
    },
    {
      "cell_type": "code",
      "execution_count": 250,
      "metadata": {
        "id": "i53tZ9ByKqVq"
      },
      "outputs": [],
      "source": [
        "# hidden test cases. Do not modify"
      ]
    },
    {
      "cell_type": "markdown",
      "metadata": {
        "collapsed": false,
        "id": "-BWYHeDDKqVq"
      },
      "source": [
        "Now, we would be creating a helper function to calculate and return the values of dz, dW, and db for each layer. Refer to the formulae provided below to get a clear understanding of it's implementation.\n",
        "\n",
        "Note that the value of **dz depends on the derivatives of activation functions** used for that layer and the functions that we have created above may come in handy."
      ]
    },
    {
      "cell_type": "markdown",
      "metadata": {
        "collapsed": false,
        "id": "NAJ4MLa8KqVr"
      },
      "source": [
        "This function computes  $dZ^{[h]} = \\frac{\\partial \\mathcal{L} }{\\partial Z^{[h]}}$, given  $dA^{[h]} = \\frac{\\partial \\mathcal{L} }{\\partial A^{[h]}}$ and $Z^{[h]}$as inputs. It is based on the following chain rule from calculus:\n",
        "$$ dZ^{[h]} = dA^{[h]} * \\frac{\\partial \\mathcal{A^{[h]}} }{\\partial Z^{[h]}}$$\n",
        "\n",
        "\n",
        "\n",
        "  - $ dW^{[h]} = \\frac{\\partial \\mathcal{L} }{\\partial W^{[h]}} = \\frac{1}{m} dZ^{[h]} A^{[h-1] T}$\n",
        "  - $ db^{[h]} = \\frac{\\partial \\mathcal{L} }{\\partial b^{[h]}} = \\frac{1}{m} \\sum_{i = 1}^{m} dZ^{[h](i)}$\n",
        "  - $ dW_{total}^{[h]} = dW^{[h]} + dW_{reg}^{[h]} $\n",
        "\n",
        "where $ dW_{reg}^{[h]} = \\frac{1}{m} * lambda * weight^{[h]} $ \n",
        "\n",
        "Try to use vectorization as far as possible instead of loops as it would be simpler for you to debug."
      ]
    },
    {
      "cell_type": "code",
      "execution_count": 251,
      "metadata": {
        "id": "K7oJcic0KqVr"
      },
      "outputs": [],
      "source": [
        "# GRADED - 0.75 Marks\n",
        "\n",
        "def back_prop_linear(da_layer, z_layer, input, act_fxn, m, Lambda, weight):\n",
        "    '''\n",
        "    Inputs:\n",
        "    - da_layer: derivative of variable 'a' of that layer\n",
        "    - z_layer: numpy array of 'z' values\n",
        "    \n",
        "    - input: input value of that layer, for example, X is the\n",
        "    input for the first layer, and for other layers, it is the activation A of the previous layer\n",
        "    \n",
        "    - act_fxn: string containing the name of the activation \n",
        "    function used in that layer,i.e. 'sigmoid' or 'relu' (depending on this, the appropriate function is called)\n",
        "    \n",
        "    - m: number of datapoints\n",
        "    - Lambda: regularization parameter\n",
        "    - weight: weights of that particular layer\n",
        "  \n",
        "      Outputs:\n",
        "    - dz: returns the derivative of linear function variable\n",
        "    - dW: returns the change in weights for that layer\n",
        "    - db: returns the change in bias for that layer\n",
        "    '''\n",
        "    \n",
        "    # YOUR CODE HERE\n",
        "    if act_fxn=='relu':\n",
        "        dz = da_layer * ReLu_derivative(z_layer)\n",
        "    elif act_fxn =='sigmoid':\n",
        "        dz = da_layer * Sigmoid_derivative(z_layer)\n",
        "    else:\n",
        "        dz = da_layer * Tanh_derivative(z_layer)\n",
        "\n",
        "    dW = ((1/m)*dz.dot(input.T)) + ((1/m)*Lambda*weight)\n",
        "    db = (1/m)*np.sum(dz, axis=1)\n",
        "    db = db.reshape(-1,1)\n",
        "    return dz,dW,db\n",
        "    raise NotImplementedError()"
      ]
    },
    {
      "cell_type": "code",
      "execution_count": 252,
      "metadata": {
        "colab": {
          "base_uri": "https://localhost:8080/"
        },
        "id": "IAfa1dfdKqVs",
        "outputId": "00cbd3e2-32e2-4a0c-ccf2-10093d5c1ae0"
      },
      "outputs": [
        {
          "output_type": "stream",
          "name": "stdout",
          "text": [
            "Sample Test passed 👍\n"
          ]
        }
      ],
      "source": [
        "# TEST CASE\n",
        "\n",
        "m=1\n",
        "# previous layer has 2 neurons and current layer has 2 neurons\n",
        "z_h=np.array([[1],[2]])\n",
        "da_h=np.array([[0.1],[0.2]])\n",
        "inp=np.array([[1],[0]])\n",
        "weights=np.array([[1,1],[2,0]])\n",
        "dz, dW, db = back_prop_linear(da_h, z_h, inp, 'relu' , m, 1, weights)\n",
        "assert np.allclose(dz,np.array([[0.1],[0.2]]))\n",
        "assert np.allclose(dW,np.array([[1.1,1],[2.2,0]]))\n",
        "assert np.allclose(db,np.array([[0.1],[0.2]]))\n",
        "dz, dW, db = back_prop_linear(da_h, z_h, inp, 'sigmoid' , m, 1, weights)\n",
        "assert np.allclose(dz,np.array([[0.01966119], [0.02099872]]))\n",
        "assert np.allclose(dW,np.array([[1.01966119,1],[2.02099872,0]]))\n",
        "assert np.allclose(db,np.array([[0.01966119],[0.02099872]]))\n",
        "dz, dW, db = back_prop_linear(da_h, z_h, inp, 'tanh' , m, 1, weights)\n",
        "assert np.allclose(dz,np.array([[0.04199743], [0.01413016]]))\n",
        "assert np.allclose(dW,np.array([[1.04199743, 1],[2.01413016, 0]]))\n",
        "assert np.allclose(db,np.array([[0.04199743], [0.01413016]]))\n",
        "print('Sample Test passed', '\\U0001F44D')"
      ]
    },
    {
      "cell_type": "code",
      "execution_count": 253,
      "metadata": {
        "id": "QoBqwWuKKqVs"
      },
      "outputs": [],
      "source": [
        "# hidden test cases. Do not modify"
      ]
    },
    {
      "cell_type": "markdown",
      "metadata": {
        "collapsed": false,
        "id": "0o-y0MbYKqVs"
      },
      "source": [
        "Next we would need a helper function to calculate the derivatives of activation function variables\n",
        "\n",
        "We will calculate dA for the last layer separately in the subsequent function.\n",
        "\n",
        "For all other layers, we proceed as follows : \n",
        "\n",
        "\n",
        "\n",
        "Using this formula $ Z^{[h]} = W^{[h]}.A^{[h-1]}+b^{[h]}$\n",
        "\n",
        "\n",
        "  - $ dA^{[h-1]} = \\frac{\\partial \\mathcal{L} }{\\partial A^{[h-1]}} = W^{[h] T} dZ^{[h]}$"
      ]
    },
    {
      "cell_type": "code",
      "execution_count": 254,
      "metadata": {
        "id": "wZ1vTJwjKqVt"
      },
      "outputs": [],
      "source": [
        "# GRADED - 0.25 Marks\n",
        "\n",
        "def back_prop_actf(W_plusone, dz_plusone):\n",
        "    '''\n",
        "    Inputs:\n",
        "    - W_plusone: Weights of the next layer\n",
        "    - dz_plusone: Derivative of the linear function of the next\n",
        "    layer\n",
        "\n",
        "    Outputs:\n",
        "    - act_dtive: returns the derivative of activation function variable\n",
        "    '''\n",
        "    \n",
        "    # YOUR CODE HERE\n",
        "    act_dtive = np.dot(W_plusone.T,dz_plusone)\n",
        "    return act_dtive\n",
        "    raise NotImplementedError()"
      ]
    },
    {
      "cell_type": "code",
      "execution_count": 255,
      "metadata": {
        "colab": {
          "base_uri": "https://localhost:8080/"
        },
        "id": "8EKUeOcvKqVt",
        "outputId": "f3ffd8db-f6ab-4596-f80f-1b907e8ae316"
      },
      "outputs": [
        {
          "output_type": "stream",
          "name": "stdout",
          "text": [
            "Sample Test passed 👍\n"
          ]
        }
      ],
      "source": [
        "# TEST CASE\n",
        "\n",
        "# next layer has 2 neurons and current layer has 1, training samples=1\n",
        "der=back_prop_actf(np.array([[1],[2]]), np.array([[2],[3]]))\n",
        "assert np.allclose(der,np.array([[8]]))\n",
        "print('Sample Test passed', '\\U0001F44D')"
      ]
    },
    {
      "cell_type": "code",
      "execution_count": 256,
      "metadata": {
        "id": "ME7LbFe_KqVt"
      },
      "outputs": [],
      "source": [
        "# hidden test cases. Do not modify"
      ]
    },
    {
      "cell_type": "markdown",
      "metadata": {
        "collapsed": false,
        "id": "qPF3bKmQKqVu"
      },
      "source": [
        "Now we will be creating the main function for backpropagation where we combine all the helper functions to update the weights. We will first compute errors at the last layer and backpropagate them through the network to get the desired $dW$ and $db$ for each layer.\n",
        "\n",
        "We would using a single function to return these values as the formula remains the same.\n",
        "\n",
        "To backpropagate through this network, we know that the output is, $ ypred = A^{[H]} = sigmoid(Z^{[H]})$. Your code thus needs to compute $ dA^{[H]} = \\frac{\\partial \\mathcal{L}}{\\partial A^{[H]}}$. To do so, use this formula:\n",
        "$$ dA^{[H]} = -(Y / A^{[H]} - (1-Y)/(1-A^{[H]}))$$\n",
        "where $ \"/\" \\ denotes \\ elementwise \\ division$\n",
        "\n",
        "Remember: This is only for the last layer, use the above helper function for the other layers.\n",
        "\n",
        "**HINT:** Use the back_prop_linear function to obtain $dz,dW,db$ at each layer.\n",
        "\n",
        "Refer to the architecture to decide which activation function to pass as parameter to back_prop_linear at each step."
      ]
    },
    {
      "cell_type": "code",
      "execution_count": 257,
      "metadata": {
        "id": "rQKgtIC0KqVu"
      },
      "outputs": [],
      "source": [
        "# GRADED - 1.25 Marks\n",
        "\n",
        "def BackPropagation_1(X, yd, l, y_pred, parameters, Lambda):\n",
        "    '''\n",
        "      Inputs:\n",
        "      - X: Input features - shape (no of features, no of examples)\n",
        "      - yd: y desired values(labels given in dataset)\n",
        "      - l: list containing values of 'z' and 'a' of each layer\n",
        "      - parameters: list containing weights and biases of each layer\n",
        "      - Lambda: regularization parameter\n",
        "\n",
        "      Outputs:\n",
        "      - grad: dictionary containing the change in the values of weights\n",
        "      and biases with keys 'dW1','db1','dW2','db2','dW3','db3','dW4','db4', 'dW5', 'db5'\n",
        "    '''\n",
        "    \n",
        "    # YOUR CODE HERE\n",
        "    m = X.shape[1]\n",
        "    z1 = l[0]\n",
        "    a1 = l[1]\n",
        "    z2 = l[2]\n",
        "    a2 = l[3]\n",
        "    z3 = l[4]\n",
        "    a3 = l[5]\n",
        "    z4 = l[6]\n",
        "    a4 = l[7]\n",
        "    z5 = l[8]\n",
        "    a5 = l[9]\n",
        "    w1 = parameters[0]\n",
        "    b1 = parameters[1]\n",
        "    w2 = parameters[2]\n",
        "    b2 = parameters[3]\n",
        "    w3 = parameters[4]\n",
        "    b3 = parameters[5]\n",
        "    w4 = parameters[6]\n",
        "    b4 = parameters[7]\n",
        "    w5 = parameters[8]\n",
        "    b5 = parameters[9]\n",
        "    da5 = - (np.divide(yd, y_pred) - np.divide(1 - yd, 1 - y_pred))\n",
        "    dz5, dw5, db5 = back_prop_linear(da5, z5, a4,'sigmoid',m, Lambda, w5)\n",
        "    da4 = back_prop_actf(w5, dz5)\n",
        "    dz4, dw4, db4 = back_prop_linear(da4, z4, a3,'sigmoid',m, Lambda, w4)\n",
        "    da3 = back_prop_actf(w4, dz4)\n",
        "    dz3, dw3, db3 = back_prop_linear(da3, z3, a2, 'tanh', m, Lambda, w3)\n",
        "    da2 = back_prop_actf(w3, dz3)\n",
        "    dz2, dw2, db2 = back_prop_linear(da2, z2, a1, 'relu', m, Lambda, w2)\n",
        "    da1 = back_prop_actf(w2, dz2)\n",
        "    dz1, dw1, db1 = back_prop_linear(da1, z1, X, 'relu', m, Lambda, w1)\n",
        "    grad = {\n",
        "        \"dW1\": dw1,\n",
        "        \"db1\": db1,\n",
        "        \"dW2\": dw2,\n",
        "        \"db2\": db2,\n",
        "        \"dW3\": dw3,\n",
        "        \"db3\": db3 ,\n",
        "        \"dW4\": dw4 ,\n",
        "        \"db4\": db4,\n",
        "        \"dW5\": dw5 ,\n",
        "        \"db5\": db5\n",
        "    }\n",
        "    return grad\n",
        "    raise NotImplementedError()"
      ]
    },
    {
      "cell_type": "code",
      "execution_count": 258,
      "metadata": {
        "colab": {
          "base_uri": "https://localhost:8080/"
        },
        "id": "5AlZB700KqVu",
        "outputId": "5c094271-57eb-4a56-c805-1e136389978a"
      },
      "outputs": [
        {
          "output_type": "stream",
          "name": "stdout",
          "text": [
            "Sample Test passed 👍\n"
          ]
        }
      ],
      "source": [
        "# TEST CASE\n",
        "\n",
        "grads_check ={'dW1': np.array([[0.00483656, 0.0027376 ], [0.00486371, 0.00357437]]),\n",
        " 'dW2': np.array([[3.49065410e-03, 1.08269007e-03], [4.88214063e-03, 3.20085553e-05]]),\n",
        " 'dW3': np.array([[0.00126557, 0.00217464],[0.00389912, 0.00099074]]),\n",
        " 'dW4': np.array([[0.00431502, 0.00491709],[0.00082173, 0.00299018]]),\n",
        " 'dW5': np.array([[0.00253189, 0.00441175]]), # Fix this\n",
        " 'db1': np.array([[2.71091720e-08],[5.53020048e-09]]),\n",
        " 'db2': np.array([[2.53131697e-07],[9.67703679e-08]]),\n",
        " 'db3': np.array([[8.78659793e-07],[2.96264067e-06]]),\n",
        " 'db4': np.array([[1.11085493e-06],[4.77877572e-05]]),\n",
        " 'db5': np.array([[0.00494478]])} # Fix this\n",
        "\n",
        "np.random.seed(4)\n",
        "parameters = Initialization(2, 2, 2, 2, 2, 1)\n",
        "X = np.array([[1,2],[2,3]])\n",
        "y_pred, l = feed_forward(X, parameters)\n",
        "grads = BackPropagation_1(X, np.array([[1,0]]), l, y_pred, parameters, Lambda = 0.1)\n",
        "# print(grads)\n",
        "for key in grads_check.keys():\n",
        "    assert np.allclose(grads_check[key],grads[key])\n",
        "print('Sample Test passed', '\\U0001F44D')"
      ]
    },
    {
      "cell_type": "code",
      "execution_count": 259,
      "metadata": {
        "id": "-5kR-F8FKqVv"
      },
      "outputs": [],
      "source": [
        "# hidden test cases. Do not modify"
      ]
    },
    {
      "cell_type": "markdown",
      "metadata": {
        "collapsed": false,
        "id": "aq87MhSwKqVv"
      },
      "source": [
        "The weights are now updated in each iteration via the learning rules:\n",
        "\n",
        "$$ W^{[h]} = W^{[h]} - \\alpha \\text{ } dW^{[h]} $$\n",
        "$$ b^{[h]} = b^{[h]} - \\alpha \\text{ } db^{[h]} $$\n",
        "\n",
        "- We are done with most of the code now, yet there is the most important function left to be created - where we will be training our model.\n",
        "\n",
        "- Refer to the overview again before writing a code for this function.\n",
        "\n",
        "- You will have to call the above functions repeatedly and update the weights and bias with each iteration\n",
        "\n",
        "- The values of number of iterations(num_iters), learning rate($\\alpha$) and regularization parameter(Lambda) **have been already tuned**. If you wish to experiment on these variables for a better understanding, you are free to do so. The final result, however, will be evaluated using the values given."
      ]
    },
    {
      "cell_type": "markdown",
      "metadata": {
        "collapsed": false,
        "id": "JAWs2zllKqVv"
      },
      "source": [
        "### Step 7: Training function [1.25 marks]"
      ]
    },
    {
      "cell_type": "markdown",
      "metadata": {
        "collapsed": false,
        "id": "JuWN7WcZKqVw"
      },
      "source": [
        "For training the model you need to do the following in the next function:\n",
        "\n",
        "1) You are provided with *X, yd, parameters* as arguments. *X* and *yd* are scaled so **DO NOT** scale them again inside this *training* function \n",
        "\n",
        "2) Store W1 to W4 and b1 to b4 (weights and biases) in **seperate variables** by accessing the *parameters* argument\n",
        "\n",
        "3) Initialise an empty list to which you will append the loss of every iteration\n",
        "\n",
        "4) Now for N number of iterations:\n",
        "     - compute y_predicted and a5 using feedforward\n",
        "     \n",
        "     - compute loss using y_predicted and yd - say loss_1\n",
        "     \n",
        "     - calculate regularization loss say loss_2\n",
        "     \n",
        "     - total loss = loss_1 + loss_2\n",
        "     \n",
        "     - append this to the list you created in step 3\n",
        "     \n",
        "     - calculate gradients\n",
        "     \n",
        "     - update W1 to W4 and b1 to b4 by using the gradients calculated above\n",
        "     \n",
        "     - in the next iteration, when using feed forward use these updated W1 to W4 and b1 to b4\n",
        "     \n",
        "     - And then follow this for N iterations\n",
        "     \n",
        "5) Return the history of loss (that list you created in step 3 populated with loss of every iteration) and the trained *W* and *b*"
      ]
    },
    {
      "cell_type": "code",
      "execution_count": 260,
      "metadata": {
        "id": "5AhtiMbFKqVw"
      },
      "outputs": [],
      "source": [
        "# GRADED - 1.25 Marks\n",
        "\n",
        "# Make a habit to print the value of loss after a fixed number of iterations to \n",
        "# check whether your model is working well or not.\n",
        "\n",
        "def training(X, yd, parameters, alpha = 0.01, num_iters=3000, Lambda = 0.0001):\n",
        "    '''\n",
        "      Inputs:\n",
        "      - X: Input features - shape (no of features, no of examples)\n",
        "      - yd: y desired values(labels given in dataset)\n",
        "      - alpha: learning rate\n",
        "      - num_iters: number of iterations\n",
        "      - Lambda: regularization parameter\n",
        "\n",
        "      Outputs:\n",
        "      - history: list of loss at the start of each iteration \n",
        "      - parameters: the final parameters \n",
        "    '''\n",
        "    \n",
        "    # YOUR CODE HERE\n",
        "    history = []\n",
        "    for i in trange(num_iters):\n",
        "        y_pred,l = feed_forward(X, parameters)\n",
        "        loss_1 = loss_compute(y_pred, yd)\n",
        "        W1 = parameters[0]\n",
        "        b1 = parameters[1]\n",
        "        W2 = parameters[2]\n",
        "        b2 = parameters[3]\n",
        "        W3 = parameters[4]\n",
        "        b3 = parameters[5]\n",
        "        W4 = parameters[6]\n",
        "        b4 = parameters[7]\n",
        "        W5 = parameters[8]\n",
        "        b5 = parameters[9]\n",
        "        loss_2 = regularization_L2(Lambda, W1, W2, W3, W4, W5, X.shape[1])\n",
        "        total_loss = loss_1 + loss_2\n",
        "        history.append(total_loss)\n",
        "        gradients = BackPropagation_1(X, yd, l, y_pred, parameters, Lambda)\n",
        "        W1prime = W1 - alpha*gradients['dW1']\n",
        "        b1prime = b1 - alpha*gradients['db1']\n",
        "        W2prime = W2 - alpha*gradients['dW2']\n",
        "        b2prime = b2 - alpha*gradients['db2']\n",
        "        W3prime = W3 - alpha*gradients['dW3']\n",
        "        b3prime = b3 - alpha*gradients['db3']\n",
        "        W4prime = W4 - alpha*gradients['dW4']\n",
        "        b4prime = b4 - alpha*gradients['db4']\n",
        "        W5prime = W5 - alpha*gradients['dW5']\n",
        "        b5prime = b5 - alpha*gradients['db5']\n",
        "\n",
        "        parameters = [W1prime,b1prime,W2prime,b2prime,W3prime,b3prime,W4prime,b4prime,W5prime,b5prime]\n",
        "    return history,parameters\n",
        "    raise NotImplementedError()"
      ]
    },
    {
      "cell_type": "code",
      "execution_count": 261,
      "metadata": {
        "colab": {
          "base_uri": "https://localhost:8080/"
        },
        "id": "KGorjZkYKqVw",
        "outputId": "b5d95f17-8a7b-4bb1-c86c-0f9eef376d18"
      },
      "outputs": [
        {
          "output_type": "stream",
          "name": "stderr",
          "text": [
            "100%|██████████| 2000/2000 [00:01<00:00, 1503.07it/s]"
          ]
        },
        {
          "output_type": "stream",
          "name": "stdout",
          "text": [
            "Sample Test passed 👍\n"
          ]
        },
        {
          "output_type": "stream",
          "name": "stderr",
          "text": [
            "\n"
          ]
        }
      ],
      "source": [
        "# SAMPLE TEST CASE\n",
        "'''\n",
        "You can also play around with the model hyper-parameters to see if you can improve on our results\n",
        "Try changing:\n",
        "    - The model architecture (number of layers, number of neurons in each layer)\n",
        "    - The batch size\n",
        "    - The learning rate\n",
        "    \n",
        "Make sure you set the parameters to their original values before submitting the assignment\n",
        "'''\n",
        "np.random.seed(4)\n",
        "parameters = Initialization(2, 100, 100, 50, 50, 1)\n",
        "losses,parameter = training(np.array([[1,2],[2,3],[1,7],[4,3],[0,2],[5,3],[1,4],[2,2],[1,5],[2,8],[1,0],[2,6],[1,4]]).T, np.array([[1,0,1,1,0,0,0,0,1,1,1,0,0]]), parameters ,alpha = 0.001, num_iters=2000, Lambda = 0.1)\n",
        "assert len(losses)==2000\n",
        "assert np.allclose(losses[1500],0.9114531929354283)\n",
        "print('Sample Test passed', '\\U0001F44D')"
      ]
    },
    {
      "cell_type": "code",
      "execution_count": 262,
      "metadata": {
        "id": "AeQdRNrpKqVx"
      },
      "outputs": [],
      "source": [
        "# hidden test cases. Do not modify"
      ]
    },
    {
      "cell_type": "code",
      "execution_count": 263,
      "metadata": {
        "id": "y6RLnIYlKqVx"
      },
      "outputs": [],
      "source": [
        "# DATASET PREPARATION (UNGRADED)\n",
        "df = pd.read_csv('nn_train.csv')\n",
        "X_df = df.iloc[:,:-1]\n",
        "Y = np.array(df['dep_delayed_15min']).astype(int)\n",
        "Y = Y.reshape(1, Y.shape[0])\n",
        "X = np.array(X_df).astype(float)\n",
        "X = X.reshape(X.shape[0],5)\n",
        "X = normalisation(X)\n",
        "\n",
        "test_df = pd.read_csv('nn_test.csv')\n",
        "test_X_df = test_df.iloc[:,:-1]\n",
        "Yt = np.array(test_df['dep_delayed_15min']).astype(int)\n",
        "Yt = Yt.reshape(1, Yt.shape[0])\n",
        "Xt = np.array(test_X_df).astype(float)\n",
        "Xt = Xt.reshape(Xt.shape[0],5)\n",
        "Xt = normalisation(Xt)"
      ]
    },
    {
      "cell_type": "code",
      "execution_count": 264,
      "metadata": {
        "colab": {
          "base_uri": "https://localhost:8080/"
        },
        "id": "5qBBCva-KqVy",
        "outputId": "561a32a7-7891-409f-d0b0-4320fc0325e8"
      },
      "outputs": [
        {
          "output_type": "stream",
          "name": "stderr",
          "text": [
            "100%|██████████| 50/50 [00:10<00:00,  4.93it/s]\n"
          ]
        }
      ],
      "source": [
        "# DO NOT CHANGE, RUN AS GIVEN\n",
        "\n",
        "## run this cell to begin training . This may take a few minutes to run.\n",
        "\n",
        "np.random.seed(4)\n",
        "parameters = Initialization(5, 10, 20, 10, 5, 1)\n",
        "losses, parameters_final = training(X.T, Y ,parameters, alpha = 0.05, num_iters=50, Lambda = 0.0001)"
      ]
    },
    {
      "cell_type": "markdown",
      "metadata": {
        "collapsed": false,
        "id": "3zQt3YJTKqVy"
      },
      "source": [
        "To self-evaluate the result obtained, plot the loss function with respect to the number of iterations and rethink the algorithm if your loss function is not reaching a minimum value."
      ]
    },
    {
      "cell_type": "code",
      "execution_count": 265,
      "metadata": {
        "colab": {
          "base_uri": "https://localhost:8080/",
          "height": 295
        },
        "id": "Af2Gk_pvKqVy",
        "outputId": "9b058822-cbee-4c92-df6e-a517d4422fa7"
      },
      "outputs": [
        {
          "output_type": "display_data",
          "data": {
            "text/plain": [
              "<Figure size 432x288 with 1 Axes>"
            ],
            "image/png": "[encoded data removed]"
          },
          "metadata": {
            "needs_background": "light"
          }
        }
      ],
      "source": [
        "# DO NOT CHANGE, RUN AS GIVEN\n",
        "\n",
        "plt.plot(losses)\n",
        "plt.ylabel('loss')\n",
        "plt.xlabel('iterations')\n",
        "plt.title(\"Learning rate =\" + str(0.05))\n",
        "plt.show()"
      ]
    },
    {
      "cell_type": "markdown",
      "metadata": {
        "collapsed": false,
        "id": "zWlnEJ4OKqVy"
      },
      "source": [
        "### LAST STEP [0.5 marks]\n",
        "**Checking the accuracy on test and train data to check if the model is overfitting or underfitting the given data.** \n",
        "\n",
        "- Run the forward propagation using the updated parameter values and check for the given conditions in the value of 'y' received. **If they are greater than 0.5 then the result is '1', otherwise '0'.**\n",
        "\n",
        "Henceforth, compare the values of these 1s and 0s to 'yd' and calculate accuracies.\n",
        "\n",
        "The accuracy you should get should be between 0.80 to 0.85. "
      ]
    },
    {
      "cell_type": "code",
      "execution_count": 266,
      "metadata": {
        "id": "JuoM0FwEKqVz"
      },
      "outputs": [],
      "source": [
        "# GRADED - 0.5 Marks\n",
        "\n",
        "def predict(X, yd, parameters_final):\n",
        "    '''\n",
        "      Inputs:\n",
        "      - X: Input features\n",
        "      - yd: y desired values(labels given in dataset)\n",
        "      - parameters_final: final updated values of parameters\n",
        "\n",
        "      Outputs: \n",
        "      - Returns the accuracy \n",
        "    '''\n",
        "    \n",
        "    # YOUR CODE HERE\n",
        "    y_pred,l = feed_forward(X, parameters_final)\n",
        "    y_pred[y_pred>0.5] = 1\n",
        "    y_pred[y_pred<=0.5] = 0\n",
        "    accuracy = np.sum(y_pred == yd)/y_pred.size\n",
        "    return accuracy\n",
        "    raise NotImplementedError()"
      ]
    },
    {
      "cell_type": "code",
      "execution_count": 267,
      "metadata": {
        "colab": {
          "base_uri": "https://localhost:8080/"
        },
        "id": "jmfRSIklKqVz",
        "outputId": "92ce371d-9ec5-4420-f38a-d5abf632347f"
      },
      "outputs": [
        {
          "output_type": "stream",
          "name": "stdout",
          "text": [
            "Sample Test passed 👍\n"
          ]
        }
      ],
      "source": [
        "#SAMPLE TEST CASE\n",
        "\n",
        "parameters=[np.array([[0.1,-0.2]]),np.array([[0]]),np.array([[0.2]]),np.array([[0]]),np.array([[0.2]]),np.array([[0.1]]), np.array([[0.2]]), np.array([[0.2]]), np.array([[0.2]]), np.array([[0.2]])]\n",
        "acc=predict(np.array([[1,2,3,4],[3,2,1,-5]]),np.array([[1,0,0,0]]),parameters)\n",
        "assert np.allclose(acc,0.25)\n",
        "print('Sample Test passed', '\\U0001F44D')"
      ]
    },
    {
      "cell_type": "code",
      "execution_count": 268,
      "metadata": {
        "id": "xI7siHIBKqVz"
      },
      "outputs": [],
      "source": [
        "# hidden test cases. Do not modify"
      ]
    },
    {
      "cell_type": "code",
      "source": [],
      "metadata": {
        "id": "pgUHyLzEluG7"
      },
      "execution_count": 268,
      "outputs": []
    },
    {
      "cell_type": "code",
      "execution_count": 269,
      "metadata": {
        "colab": {
          "base_uri": "https://localhost:8080/"
        },
        "id": "_UKWDUE0KqV0",
        "outputId": "16ed5ae8-635c-467f-ec0c-530744cfece6"
      },
      "outputs": [
        {
          "output_type": "stream",
          "name": "stdout",
          "text": [
            "Training Accuracy: 81.11625000000001 %\n"
          ]
        }
      ],
      "source": [
        "\n",
        "# DO NOT CHANGE, RUN AS GIVEN\n",
        "\n",
        "acc=predict(X.T, Y, parameters_final)\n",
        "print(\"Training Accuracy: {} %\".format(acc*100))"
      ]
    },
    {
      "cell_type": "code",
      "execution_count": 270,
      "metadata": {
        "colab": {
          "base_uri": "https://localhost:8080/"
        },
        "id": "eenl-4f7KqV0",
        "outputId": "be717a6e-b5d1-4b60-85ef-57f9f946b1d2"
      },
      "outputs": [
        {
          "output_type": "stream",
          "name": "stdout",
          "text": [
            "Testing Accuracy: 80.315 %\n"
          ]
        }
      ],
      "source": [
        "# DO NOT CHANGE, RUN AS GIVEN\n",
        "\n",
        "acc=predict(Xt.T, Yt, parameters_final)\n",
        "print(\"Testing Accuracy: {} %\".format(acc*100))"
      ]
    },
    {
      "cell_type": "markdown",
      "metadata": {
        "deletable": false,
        "editable": false,
        "id": "-XsQWmhzkJ70",
        "nbgrader": {
          "cell_type": "markdown",
          "checksum": "105a055b5e52a136f18adc291defe8ce",
          "grade": false,
          "grade_id": "cell-f5b66e13a0782f4b",
          "locked": true,
          "schema_version": 3,
          "solution": false,
          "task": false
        }
      },
      "source": [
        "# Part III - Using Genetic Algorithm to solve 0-1 Knapsack Problem"
      ]
    },
    {
      "cell_type": "markdown",
      "metadata": {
        "deletable": false,
        "editable": false,
        "id": "E-00hekc5YdO",
        "nbgrader": {
          "cell_type": "markdown",
          "checksum": "52eddc373cd7b39e9c7bb19276a35de3",
          "grade": false,
          "grade_id": "cell-170420e6081d4dfe",
          "locked": true,
          "schema_version": 3,
          "solution": false,
          "task": false
        }
      },
      "source": [
        "## 0-1 Knapsack Problem\n",
        "\n",
        "It is midnight, and you are a thief who has entered the house of the richest man in your city. You have with you a sack made of jute. Everyone is sound asleep, and the person is too gullible to have arranged any security system. You enter the vault, and see it filled with valuable stuff. You have a special pair of goggles, wearing which you can get the weight and market-value of every item you see; however, your jute sack would break if it contains a load more than a certain known value.\n",
        "\n",
        "The problem presented by the above scenario is called the 0-1 knapsack problem. Formally, given a set of N valuable items, each with a weight w_i and value v_i  (for 1<= i<=N), you need to maximize the value that you carry back in your sack, with the constraints that the sack cannot carry more that W weight and you cannot break any of the N items (i.e., you cannot carry a “fraction” of any item).\n"
      ]
    },
    {
      "cell_type": "markdown",
      "metadata": {
        "deletable": false,
        "editable": false,
        "id": "3Bnr2XpR5mds",
        "nbgrader": {
          "cell_type": "markdown",
          "checksum": "d208dc99ddfc3491c8b12baffbfbb865",
          "grade": false,
          "grade_id": "cell-f95c040200c5ffb4",
          "locked": true,
          "schema_version": 3,
          "solution": false,
          "task": false
        }
      },
      "source": [
        "The following class \"Item\" defines each item in the vault, whih has a name (a number in the range [1, total_number_of_items]), a weight, and a value."
      ]
    },
    {
      "cell_type": "code",
      "metadata": {
        "deletable": false,
        "editable": false,
        "id": "5n3fDizOwJjT",
        "nbgrader": {
          "cell_type": "code",
          "checksum": "95ebeee91ee01cec0320894d354494b5",
          "grade": false,
          "grade_id": "cell-a9f6c84c1a7d3192",
          "locked": true,
          "schema_version": 3,
          "solution": false,
          "task": false
        }
      },
      "source": [
        "class Item:\n",
        "    def __init__(self,name,value,weight):\n",
        "        self.name = name\n",
        "        self.value = value\n",
        "        self.weight = weight"
      ],
      "execution_count": 271,
      "outputs": []
    },
    {
      "cell_type": "markdown",
      "metadata": {
        "deletable": false,
        "editable": false,
        "id": "Bx1GcxWe_8RK",
        "nbgrader": {
          "cell_type": "markdown",
          "checksum": "efb629741abf865166daa2c893ccc32a",
          "grade": false,
          "grade_id": "cell-663eb5749e3f162a",
          "locked": true,
          "schema_version": 3,
          "solution": false,
          "task": false
        }
      },
      "source": [
        "We now generate the data for 50 items using np.random.randint(). This will serve as the problem instance that needs to be solved."
      ]
    },
    {
      "cell_type": "code",
      "metadata": {
        "deletable": false,
        "editable": false,
        "id": "E-7r6vNxjWaZ",
        "nbgrader": {
          "cell_type": "code",
          "checksum": "df4045dfb77644e419cfd4d7e270673d",
          "grade": false,
          "grade_id": "cell-c94b976be943afb7",
          "locked": true,
          "schema_version": 3,
          "solution": false,
          "task": false
        }
      },
      "source": [
        "np.random.seed(100)\n",
        "items = []\n",
        "itemName = ['Cash','Necklace','Rings','Diamonds','Gold','Watch','Phone','Laptop'\n",
        "        ,'Earrings','Bangles']\n",
        "for i in range(10):\n",
        "    item = Item(itemName[i],np.random.randint(1000,10000),np.random.randint(1,50))\n",
        "    items.append(item)"
      ],
      "execution_count": 272,
      "outputs": []
    },
    {
      "cell_type": "code",
      "metadata": {
        "colab": {
          "base_uri": "https://localhost:8080/"
        },
        "id": "WOB2gR6RjSfe",
        "outputId": "616daa19-38f0-45d5-ff8e-191b42b3c245"
      },
      "source": [
        "len(items)"
      ],
      "execution_count": 273,
      "outputs": [
        {
          "output_type": "execute_result",
          "data": {
            "text/plain": [
              "10"
            ]
          },
          "metadata": {},
          "execution_count": 273
        }
      ]
    },
    {
      "cell_type": "code",
      "metadata": {
        "deletable": false,
        "editable": false,
        "id": "Wk_vm-7tplCR",
        "nbgrader": {
          "cell_type": "code",
          "checksum": "bbc9130ac02e6e17310126b5a540a030",
          "grade": false,
          "grade_id": "cell-4b27d1e0bd633c5b",
          "locked": true,
          "schema_version": 3,
          "solution": false,
          "task": false
        },
        "colab": {
          "base_uri": "https://localhost:8080/"
        },
        "outputId": "4eaaabf1-049a-40a8-8efc-fce7efdaebeb"
      },
      "source": [
        "#Printing all items with their weights and values\n",
        "total_val, total_wt = 0,0\n",
        "printItems = []\n",
        "for i in items:\n",
        "    printItems.append([i.name,i.value,i.weight])\n",
        "    total_val += i.value\n",
        "    total_wt += i.weight\n",
        "\n",
        "print(f\"Total value of all items is {total_val} and weight is {total_wt}\")\n",
        "print(tabulate(printItems,headers=['Name','Value','Weight']))"
      ],
      "execution_count": 274,
      "outputs": [
        {
          "output_type": "stream",
          "name": "stdout",
          "text": [
            "Total value of all items is 48450 and weight is 263\n",
            "Name        Value    Weight\n",
            "--------  -------  --------\n",
            "Cash         6640        25\n",
            "Necklace     9039        24\n",
            "Rings        1079        49\n",
            "Diamonds     1350        35\n",
            "Gold         5149         3\n",
            "Watch        8906        15\n",
            "Phone        1802        49\n",
            "Laptop       5376        16\n",
            "Earrings     2340        17\n",
            "Bangles      6769        30\n"
          ]
        }
      ]
    },
    {
      "cell_type": "markdown",
      "metadata": {
        "deletable": false,
        "editable": false,
        "id": "O4ig2v24AVFx",
        "nbgrader": {
          "cell_type": "markdown",
          "checksum": "df310985fb5887303951c72efaafc4df",
          "grade": false,
          "grade_id": "cell-7021f2b5ccd6fa4b",
          "locked": true,
          "schema_version": 3,
          "solution": false,
          "task": false
        }
      },
      "source": [
        "## Genetic Algorithm\n",
        "A genetic algorithm (GA) is a method for solving both constrained and unconstrained optimization problems based on a natural selection process that mimics biological evolution.\n",
        "source:https://www.sciencedirect.com/topics/engineering/genetic-algorithm\n"
      ]
    },
    {
      "cell_type": "markdown",
      "metadata": {
        "deletable": false,
        "editable": false,
        "id": "2CI9zXCXAqGZ",
        "nbgrader": {
          "cell_type": "markdown",
          "checksum": "ee01fad321269b21c8202e8a9a19b71c",
          "grade": false,
          "grade_id": "cell-2039d08bdb20d211",
          "locked": true,
          "schema_version": 3,
          "solution": false,
          "task": false
        }
      },
      "source": [
        "In Summary, the Genetic Algorithm entails the following: -\n",
        "\n",
        "Step 0. Initialize the population of genes with random values. In this case, a value in a gene is simply a boolean value representing whether or not an item of the corresponding index is present or absent from the set of chosen objects in the knapsack.\n",
        "\n",
        "Step 1. Fitness calculation: Calculating the fitness of each \"gene\" in the population, which in this case is the sum total of the value of the objects in the knapsack represented by the gene. Find the best fitness among these, and update the Global Best accordingly. Note that if the total weight of the solution presented by the gene is greater than the weight of the knapsack, its fitness would be 0 (or a very small value, such that we do not encounter a division_by_0 error later).\n",
        "    \n",
        "Step 2. Natural Selection: Creating a mating pool from all these genes, keeping in mind the 'survival of the fittest' principle: A gene with higher fitness has higher chance of being selected. \n",
        "\n",
        "Step 3. Generating a New Population: We create a new population of size \"popSize - esize the following way: Each new member will be formed by \"Crossing Over\" two randomly selected genes from the mating pool. The new member will then undergo mutation with a probability = mutationRate\n",
        "\n",
        "Step 4. This process from steps 1 to 3 continues for certain number of iterations (also called generations). Note that you have to keep incrementing the generations attribute when generating a new generation of the population.\n",
        "    \n",
        "Apart from the above basic steps, there is another behavior called \"Elitism\": the best \"esize\" number of genes from every generation are directly passed to the next generation."
      ]
    },
    {
      "cell_type": "markdown",
      "metadata": {
        "id": "MLkmXEKNAhSn"
      },
      "source": [
        "The following is a DNA class wherein we encode the items present in the candidate as a binary list of items(of fixed length since the total number of items is fixed). For example, [1,0,1,1] means that the 1st, 3rd and the 4th item are present in the candidate solution. We also have implemented functions getDNA(), getItems() which are used to get a binary string indicating the items present and string containing items(names) present in the candidate. You are to implement calculate_Fitness(), crossover() and mutate(). You can find their description in the docstring for each of them.\n",
        "\n",
        "***NOTE*: wherever random number needs to be generated use the np.random.randint() or np.random.random() functions. Please do the tasks in the order in which they are specified, since random numbers are being generated in accordance with the seed, your answer may not correspond to the solution, but may be correct. No such recheck requests will be entertained.**"
      ]
    },
    {
      "cell_type": "code",
      "metadata": {
        "deletable": false,
        "id": "FHb0OsDFhA09",
        "nbgrader": {
          "cell_type": "code",
          "checksum": "c998e3e2aab0ab72a9fa7a87e9504c61",
          "grade": false,
          "grade_id": "cell-b1e57c1cbac4bb58",
          "locked": false,
          "schema_version": 3,
          "solution": true,
          "task": false
        }
      },
      "source": [
        "class DNA:\n",
        "    '''\n",
        "    This class is used to denote the candidate solutions present in a generation\n",
        "    \n",
        "    genes: contains a binary list indicating the presence of an item in itemList, based on their index in the itemList\n",
        "    fitness: the fitness value in the current generation\n",
        "    weight: the weight of the knapsack for the candidate solution\n",
        "    '''\n",
        " \n",
        "    def __init__(self,len):\n",
        "        '''\n",
        "        This function is used to initialize an object of class DNA, list of items present is generated\n",
        "        randomly by generating a random number between 1 and 10 and apply a mod 2 over \n",
        "        each instance\n",
        "        '''\n",
        "        self.genes = [np.random.randint(1,10)%2 for i in range(len)]\n",
        "        self.fitness = 0\n",
        "        self.weight = 0\n",
        "\n",
        " \n",
        "    def getDNA(self):\n",
        "        '''\n",
        "        This function is used to get a binary string representation of the items present in the \n",
        "        candidate solution  \n",
        "        '''\n",
        "        return \"\".join([str(i) for i in self.genes])\n",
        " \n",
        "    def calculate_Fitness(self, itemList, totalWeight,regulate=0.001):\n",
        "        '''\n",
        "        This function is used to set and return the fitness of the given candidate \n",
        "        solution and hence check the feasibility of the candidate solution.\n",
        " \n",
        "        THE REASON FOR THE REGULATE ARGUMENT: IF THE FITNESS OF ALL THE \n",
        "        CANDIDATE SOLUTIONS IS ZERO THEN IT MIGHT CAUSE UNDEFINED BEHAVIOUR OR CAUSE AN \n",
        "        ERROR, SO WE SET THE FITNESS VALUE TO SOME SMALL NON-ZERO VALUE\n",
        "        '''\n",
        "        # We set the initial value of the weight and value\n",
        "        weight = 0\n",
        "        value = 0\n",
        " \n",
        "        # Tasks:\n",
        "        # Enumerate through the itemList, and add the weight and value of item if present in the candidate solution ...\n",
        "        # ... (remember the genes list is a binary list indicating the presence of items in the itemList list)\n",
        "        # set the self.weight equal to the weight\n",
        "        # if the weight > weight of knapsack set the self.fitness to regulate else value \n",
        "        # return the fitness value\n",
        " \n",
        "        # YOUR CODE HERE\n",
        "        for i in range(len(itemList)):\n",
        "            if self.genes[i]==1:\n",
        "                weight = weight + itemList[i].weight\n",
        "                value = value + itemList[i].value\n",
        "        if weight > totalWeight:\n",
        "            self.fitness = regulate\n",
        "        else:\n",
        "            self.fitness = value\n",
        "            self.weight = weight        \n",
        "        return self.fitness\n",
        "\n",
        "        raise NotImplementedError()\n",
        "  \n",
        "    def crossover(self, partner):\n",
        "        '''\n",
        "        This function is used to implement single point crossover between partner and the current object\n",
        "        \n",
        "        Just like in genetics we have chromosomes crossing over, here inherit some genes from parent1 and some other genes from parent2\n",
        "        This can be done by copying the some portions of genes from parent1 and parent2\n",
        "        '''\n",
        " \n",
        "        # Tasks:\n",
        "        # Create a \"new\" child object \n",
        "        # get the point for crossover by getting a random int between 0 (incl) and len(self.genes) (excl)\n",
        "        # set child.genes equal to self.genes for genes > (after) crossover point and ... \n",
        "        # ... partner.genes <= (before and at that) crossover point\n",
        "        # return the child\n",
        " \n",
        "        # YOUR CODE HERE\n",
        "        child = DNA(len(self.genes))\n",
        "        crossover = np.random.randint(0,len(self.genes))\n",
        "        for j in range(len(child.genes)):\n",
        "            if j >crossover:\n",
        "                child.genes[j] = self.genes[j]\n",
        "            else:\n",
        "                child.genes[j] = partner.genes[j]\n",
        "        return child\n",
        "        raise NotImplementedError()\n",
        "  \n",
        "    def mutate(self, mutationRate):\n",
        "        '''\n",
        "        This function is used to cause mutations in the candidate solution (/genes)\n",
        "\n",
        "        Just like in genetics, we will try and emulate mutation which might lead to better or worse candidate solution, \n",
        "        thereby focussing more on exploration than exploitation\n",
        "        This can be done by generating a probability value for each of the gene(item) and toggling it (if set then reset and vice-versa)\t\n",
        "        '''\n",
        "        # Tasks:\n",
        "        # iterate over genes and generate a random number between 0 and 1 (prob) for each gene/item\n",
        "        # if prob generated < mutationRate, toggle the bit\n",
        " \n",
        "        # YOUR CODE HERE\n",
        "        for i in range(len(self.genes)):\n",
        "            prob = np.random.rand()\n",
        "            if prob < mutationRate:\n",
        "                if self.genes[i] == 0:\n",
        "                    self.genes[i] = 1\n",
        "                else:\n",
        "                    self.genes[i] = 0\n",
        "        return self.genes[i]\n",
        "        raise NotImplementedError()\n",
        " \n",
        "    def getItems(self, itemList):\n",
        "        '''\n",
        "        This function is used to get a list of items (named list of items) present in the \n",
        "        candidate solution  \n",
        "        '''\n",
        "        items = []\n",
        "        for i, item in enumerate(itemList):\n",
        "            if self.genes[i] == 1:\n",
        "                items.append(item.name)\n",
        "        \n",
        "        return \",\".join(items)"
      ],
      "execution_count": 275,
      "outputs": []
    },
    {
      "cell_type": "code",
      "metadata": {
        "deletable": false,
        "editable": false,
        "id": "sYGiKAEe4tT0",
        "nbgrader": {
          "cell_type": "code",
          "checksum": "4a83a9d401701d77c36ac42a030d0699",
          "grade": false,
          "grade_id": "cell-cfb399945aad7c56",
          "locked": true,
          "schema_version": 3,
          "solution": false,
          "task": false
        }
      },
      "source": [
        "items = []\n",
        "np.random.seed(1)\n",
        "for i in range(20):\n",
        "    item = Item(f'{i+1}',np.random.randint(1,50),np.random.randint(1,50))\n",
        "    items.append(item)"
      ],
      "execution_count": 276,
      "outputs": []
    },
    {
      "cell_type": "code",
      "metadata": {
        "deletable": false,
        "editable": false,
        "id": "5RXBNz5BeJyx",
        "nbgrader": {
          "cell_type": "code",
          "checksum": "d70ae98d8e8e7b9352e87650b89fd26a",
          "grade": false,
          "grade_id": "cell-9c91ff5c8e4497ca",
          "locked": true,
          "schema_version": 3,
          "solution": false,
          "task": false
        },
        "colab": {
          "base_uri": "https://localhost:8080/"
        },
        "outputId": "6c065ec6-2187-43a5-bf14-7a4add6c6e0c"
      },
      "source": [
        "# Sample Test Case for calculate_Fitness()\n",
        "np.random.seed(0)\n",
        "dna1 = DNA(len(items))\n",
        "dna2 = DNA(len(items))\n",
        "dna3 = DNA(len(items))\n",
        "\n",
        "print(f'Fitness of dna1 corresponding to the \\\"items\\\" list and the weight 1000 is {dna1.calculate_Fitness(items,1000)}')\n",
        "print(f'Fitness of dna2 corresponding to the \\\"items\\\" list and the weight 20 is {dna2.calculate_Fitness(items,20)}')\n",
        "print(f'Fitness of dna3 corresponding to the \\\"items\\\" list and the weight 1000 is {dna3.calculate_Fitness(items,100)}')\n",
        "#print('Can you guess why is the fitness 0.001 in case of dna2 and dna3?')\n",
        "\n",
        "assert np.allclose(dna1.calculate_Fitness(items,1000),149)\n",
        "assert np.allclose(dna2.calculate_Fitness(items,20),0.001)\n",
        "assert np.allclose(dna3.calculate_Fitness(items,100),0.001)\n",
        "\n",
        "print('Sample Test passed', '\\U0001F44D')"
      ],
      "execution_count": 277,
      "outputs": [
        {
          "output_type": "stream",
          "name": "stdout",
          "text": [
            "Fitness of dna1 corresponding to the \"items\" list and the weight 1000 is 149\n",
            "Fitness of dna2 corresponding to the \"items\" list and the weight 20 is 0.001\n",
            "Fitness of dna3 corresponding to the \"items\" list and the weight 1000 is 0.001\n",
            "Sample Test passed 👍\n"
          ]
        }
      ]
    },
    {
      "cell_type": "code",
      "metadata": {
        "deletable": false,
        "editable": false,
        "id": "1cQ64r1ugDHe",
        "nbgrader": {
          "cell_type": "code",
          "checksum": "db90b5855b2ed05ff747f6f756cb8e20",
          "grade": true,
          "grade_id": "cell-88ca253eb2fea3f4",
          "locked": true,
          "points": 1,
          "schema_version": 3,
          "solution": false,
          "task": false
        }
      },
      "source": [
        "# hidden test cases. Do not modify - 1 MARK"
      ],
      "execution_count": 278,
      "outputs": []
    },
    {
      "cell_type": "code",
      "metadata": {
        "deletable": false,
        "editable": false,
        "id": "NxV2G0hVhlml",
        "nbgrader": {
          "cell_type": "code",
          "checksum": "ee478e927fea5f894b62f42027b8bcdf",
          "grade": false,
          "grade_id": "cell-9f538a4c789f0322",
          "locked": true,
          "schema_version": 3,
          "solution": false,
          "task": false
        },
        "colab": {
          "base_uri": "https://localhost:8080/"
        },
        "outputId": "57d76c37-9c63-4455-d148-5bd92f066d16"
      },
      "source": [
        "# Sample Test Case for crossover()\n",
        "np.random.seed(0)\n",
        "dna1 = DNA(len(items))\n",
        "dna2 = DNA(len(items))\n",
        "dna3 = DNA(len(items))\n",
        "dna4 = DNA(len(items))\n",
        "\n",
        "print('Crossover between dna1 and dna2, can you spot the crossover site?')\n",
        "print(dna1.genes)\n",
        "print(dna2.genes)\n",
        "child12 = dna1.crossover(dna2)\n",
        "print(child12.genes)\n",
        "\n",
        "assert np.allclose(child12.genes,[1, 1, 0, 0, 0, 0, 0, 1, 1, 0, 1, 1, 1, 0, 1, 0, 0, 1, 0, 0])\n",
        "\n",
        "print('\\n\\nCrossover between dna3 and dna4, can you spot the crossover site?')\n",
        "print(dna3.genes)\n",
        "print(dna4.genes)\n",
        "child34 = dna3.crossover(dna4)\n",
        "print(child34.genes)\n",
        "\n",
        "assert np.allclose(child34.genes,[0, 1, 1, 0, 0, 1, 1, 1, 1, 1, 1, 1, 0, 1, 1, 0, 0, 0, 0, 1])\n",
        "\n",
        "print('\\nSample Test passed', '\\U0001F44D')"
      ],
      "execution_count": 279,
      "outputs": [
        {
          "output_type": "stream",
          "name": "stdout",
          "text": [
            "Crossover between dna1 and dna2, can you spot the crossover site?\n",
            "[0, 1, 0, 0, 0, 0, 0, 1, 1, 0, 1, 1, 1, 0, 1, 0, 0, 1, 0, 0]\n",
            "[1, 1, 0, 1, 0, 0, 1, 1, 0, 1, 0, 0, 0, 0, 0, 1, 0, 1, 1, 0]\n",
            "[1, 1, 0, 0, 0, 0, 0, 1, 1, 0, 1, 1, 1, 0, 1, 0, 0, 1, 0, 0]\n",
            "\n",
            "\n",
            "Crossover between dna3 and dna4, can you spot the crossover site?\n",
            "[0, 1, 0, 1, 1, 1, 1, 0, 0, 1, 1, 1, 0, 1, 1, 0, 0, 0, 0, 1]\n",
            "[0, 1, 1, 0, 0, 1, 1, 1, 1, 1, 0, 1, 1, 1, 1, 0, 0, 0, 0, 1]\n",
            "[0, 1, 1, 0, 0, 1, 1, 1, 1, 1, 1, 1, 0, 1, 1, 0, 0, 0, 0, 1]\n",
            "\n",
            "Sample Test passed 👍\n"
          ]
        }
      ]
    },
    {
      "cell_type": "code",
      "metadata": {
        "deletable": false,
        "editable": false,
        "id": "ayDklUmRhlmm",
        "nbgrader": {
          "cell_type": "code",
          "checksum": "2f84603420b8ac6a55a4561ae464bdb0",
          "grade": true,
          "grade_id": "cell-667b4dd97ea1fa0d",
          "locked": true,
          "points": 0.5,
          "schema_version": 3,
          "solution": false,
          "task": false
        }
      },
      "source": [
        "# hidden test cases. Do not modify - 0.5 MARK"
      ],
      "execution_count": 280,
      "outputs": []
    },
    {
      "cell_type": "code",
      "metadata": {
        "deletable": false,
        "editable": false,
        "id": "c6diZ_5GhmVA",
        "nbgrader": {
          "cell_type": "code",
          "checksum": "066541c3f593e339ccba0a3e1bab6082",
          "grade": false,
          "grade_id": "cell-9da651180597c8c6",
          "locked": true,
          "schema_version": 3,
          "solution": false,
          "task": false
        },
        "colab": {
          "base_uri": "https://localhost:8080/"
        },
        "outputId": "c9102fcc-fe13-4b94-e921-f010fbf46751"
      },
      "source": [
        "# Sample Test Case for mutate()\n",
        "np.random.seed(0)\n",
        "dna1 = DNA(len(items))\n",
        "dna2 = DNA(len(items))\n",
        "dna3 = DNA(len(items))\n",
        "\n",
        "strDNA1 = dna1.getDNA()\n",
        "strDNA2 = dna2.getDNA()\n",
        "strDNA3 = dna3.getDNA()\n",
        "\n",
        "dna1.mutate(0.1)\n",
        "dna2.mutate(0.5)\n",
        "dna3.mutate(0.9)\n",
        "\n",
        "mutateDNA1 = dna1.getDNA()\n",
        "mutateDNA2 = dna2.getDNA()\n",
        "mutateDNA3 = dna3.getDNA()\n",
        "\n",
        "print(f'{strDNA1} mutates to {mutateDNA1}')\n",
        "print(f'{strDNA2} mutates to {mutateDNA2}')\n",
        "print(f'{strDNA3} mutates to {mutateDNA3}')\n",
        "\n",
        "assert np.allclose(dna1.genes,[0, 1, 0, 0, 0, 0, 0, 1, 1, 0, 1, 1, 1, 0, 1, 0, 0, 1, 0, 0])\n",
        "assert np.allclose(dna2.genes,[0, 1, 1, 1, 1, 0, 0, 1, 0, 1, 1, 1, 1, 1, 1, 0, 1, 0, 1, 0])\n",
        "assert np.allclose(dna3.genes,[1, 0, 1, 0, 1, 0, 0, 1, 1, 0, 0, 0, 1, 0, 0, 1, 1, 1, 0, 0])\n",
        "\n",
        "print('Sample Test passed', '\\U0001F44D')"
      ],
      "execution_count": 281,
      "outputs": [
        {
          "output_type": "stream",
          "name": "stdout",
          "text": [
            "01000001101110100100 mutates to 01000001101110100100\n",
            "11010011010000010110 mutates to 01111001011111101010\n",
            "01011110011101100001 mutates to 10101001100010011100\n",
            "Sample Test passed 👍\n"
          ]
        }
      ]
    },
    {
      "cell_type": "code",
      "metadata": {
        "deletable": false,
        "editable": false,
        "id": "ZW4eDy15hmVB",
        "nbgrader": {
          "cell_type": "code",
          "checksum": "d49d7c6c990ab4b04a9938a4fce26ded",
          "grade": true,
          "grade_id": "cell-01c02dd3ae355e12",
          "locked": true,
          "points": 0.5,
          "schema_version": 3,
          "solution": false,
          "task": false
        }
      },
      "source": [
        "# hidden test cases. Do not modify - 0.5 MARK"
      ],
      "execution_count": 282,
      "outputs": []
    },
    {
      "cell_type": "code",
      "metadata": {
        "deletable": false,
        "id": "IlOb5gvtrP7I",
        "nbgrader": {
          "cell_type": "code",
          "checksum": "58e17c7fe0ba0a65d1b3d97e73f0775e",
          "grade": false,
          "grade_id": "cell-56f5edfb19d19b7a",
          "locked": false,
          "schema_version": 3,
          "solution": true,
          "task": false
        }
      },
      "source": [
        "class Population:\n",
        "    '''\n",
        "    This class defines a population of \"DNA\", i.e., a population of genes. The class first initializes a population of size \"popSize\" randomly: this is the 0th generation.\n",
        "    The class then defines the behavior of each \"gene\" of the population in each generation. These behaviors are: -\n",
        "\n",
        "    1. Fitness calculation: Calculating the fitness of each \"gene\" in the population, which in this case is the sum total of the value of the objects in the knapsack represented by the gene. \n",
        "    Find the best fitness among these, and update the Global Best accordingly.\n",
        "    2. Natural Selection: Creating a mating pool from all these genes, keeping in mind the 'survival of the fittest' principle: A gene with higher fitness has higher chance of being selected.\n",
        "    3. Generating a New Population: We create a new population of size \"popSize - esize\" in the following way: Each new member will be formed by \"Crossing Over\" two randomly selected genes from the mating pool. The new member will then undergo mutation with a probability = mutationRate\n",
        "    4. This process continues. Note that you have to keep incrementing the generations attribute for each new generation of the population.\n",
        "    \n",
        "    Apart from the above basic steps, there is another behavior called \"Elitism\": the best \"esize\" number of genes from every generation are directly passed to the next generation.\n",
        "    '''\n",
        "    def __init__(self, itemList, totalWeight, esize, mutationRate = 0.01, popSize = 50):\n",
        "        '''\n",
        "        This is the class constructor. It initializes the class variables like elite[], which contains the \"elite\" genes of each generation. The size of the list is esize.\n",
        "        Also initialized here is the initial population (0th generation): randomly generated sets of possible solutions.\n",
        "        '''\n",
        "        \n",
        "        self.esize = esize\n",
        "        self.elite = []\n",
        "        self.population = []\n",
        "        self.matingPool = []\n",
        "        self.generations = 0\n",
        "        self.itemList = itemList\n",
        "        self.totalWeight = totalWeight\n",
        "        self.popSize = popSize\n",
        "        self.mutationRate = mutationRate\n",
        "        self.bestScore = 0\n",
        "        self.best = \"\"\n",
        "        \n",
        "        for i in range(self.popSize):\n",
        "            self.population.append(DNA(len(itemList)))\n",
        "        \n",
        "        self.calculate_Population_Fitness()\n",
        "\n",
        "    \n",
        "    def calculate_Population_Fitness(self):\n",
        "        '''\n",
        "        A very basic function which calculates the fitness of each gene in the population.\n",
        "        '''\n",
        "        for i in range(self.popSize):\n",
        "            self.population[i].calculate_Fitness(self.itemList,self.totalWeight)\n",
        "  \n",
        "    \n",
        "    def getE(self):\n",
        "        '''\n",
        "        This function is used to get the \"elitSize\" number of genes from the population which have the highest fitness\n",
        "        '''\n",
        " \n",
        "        # Tasks:\n",
        "        # Use splicing to get the first \"esize\" elements from this sorted list\n",
        "        # Set the population to be equal to the remaining part of the sorted list\n",
        "        # reduce the popSize to popSize-esize\n",
        "\n",
        "\n",
        "        #return self.elite\n",
        "        # YOUR CODE HERE\n",
        "        #raise NotImplementedError()\n",
        "        sortedPop = sorted(self.population, key=lambda x: x.calculate_Fitness(self.itemList,self.totalWeight), reverse=True)\n",
        "        self.elite = sortedPop[:esize]\n",
        "        self.population = sortedPop[esize:]\n",
        "        self.popSize = self.popSize - self.esize\n",
        "\n",
        "    def naturalSelection(self):\n",
        "        '''\n",
        "        This function generates the matingPool attribute of the population object.\n",
        "        The idea is to assign to each gene a \"probability\" of being selected to the mating pool, such that the \"probability\" is proportional to its fitness\n",
        "        '''\n",
        " \n",
        "        # Tasks:\n",
        "        # Re-initialize the mating pool attribute to an empty list. This is required because each generation must have a unique mating pool.\n",
        "        # Find the sum total of fitnesses of all genes in the population\n",
        "        # Scale each fitness to a value between 0 and 1000 by dividing each fitness value by the sum total of fitnesses and multiplying it by 1000...\n",
        "        # ... also take the floor of each scaled fitness value and convert the array to have integer values\n",
        "        # Now append each gene to the mating pool as many times as its scaled fitness values\n",
        "        # (What are we trying to do here? HINT: Think about roulette wheel selection)\n",
        "\n",
        "        # YOUR CODE HERE\n",
        "        self.matingPool= []\n",
        "        total_fitness = 0\n",
        "        for i in range(self.popSize):\n",
        "            total_fitness+= self.population[i].fitness\n",
        "        for i in range(len(self.population)):\n",
        "            f = self.population[i].fitness\n",
        "            f = (f/total_fitness)*1000\n",
        "            f = math.floor(f)\n",
        "            f = int(f)\n",
        "            self.population[i].fitness\n",
        "            for j in range(f):\n",
        "                self.matingPool.append(self.population[i])\n",
        "        #return self.matingPool\n",
        "        #raise NotImplementedError()\n",
        "\n",
        "\n",
        "    def generateNewPopulation(self):\n",
        "        '''\n",
        "        This function generates a new generation of the population. Each member of the new generation (except elite members which need to be added to the new generation (see merge() function below)) will be created by selecting two random genes (\"parents\") from the mating pool and \"crossing over\" them.\n",
        "        The child will then be mutated with a probability equal to mutationRate \n",
        "        '''\n",
        " \n",
        "        # Tasks: run a loop for i in the range 0 to popSize, and in each step do the following: -\n",
        "        # select two random genes from the mating pool: generate two random integers (which will act as index numbers) in the range [0, size_of_mating_pool) ...\n",
        "        # ... then get the genes corresponding to these index numbers from the mating pool, make sure in this step you are using np.random.randint() to generate indices ...\n",
        "        # ... and then indexing the parents from self.matingPool \n",
        "        # create a new gene by using the crossover() function on these 2 genes\n",
        "        # mutate the new gene with rate =  mutationRate\n",
        "        # assign the ith index of the population to this new Size\n",
        "\n",
        "        # Now exit the loop, and increment the generations attribute of the population by 1.\n",
        "\n",
        "        # YOUR CODE HERE\n",
        "        for i in range(self.popSize):\n",
        "            genes_rand = np.random.randint(len(self.matingPool), size=2)\n",
        "            gene1 = self.matingPool[genes_rand[0]]\n",
        "            gene2 = self.matingPool[genes_rand[1]]\n",
        "            new_gene = gene1.crossover(gene2)\n",
        "            mutated_gene = new_gene.mutate(self.mutationRate)\n",
        "            self.population[i] = new_gene\n",
        "        self.generations+=1\n",
        "        #return self.population\n",
        "        #raise NotImplementedError()\n",
        "  \n",
        "    def getBest(self):\n",
        "        return self.best\n",
        "  \n",
        "    def evaluate(self):\n",
        "        worldrecord = 0\n",
        "        index = 0\n",
        "        for i in range(self.popSize):\n",
        "            if self.population[i].fitness > worldrecord:\n",
        "                index = i\n",
        "                worldrecord = self.population[i].fitness\n",
        "\n",
        "        if self.bestScore < worldrecord:\n",
        "            self.best = self.population[index]\n",
        "            self.bestScore = worldrecord\n",
        "\n",
        "    def merge(self):\n",
        "        '''\n",
        "        This function appends the list elite[] to the population\n",
        "        '''\n",
        " \n",
        "        # Tasks:\n",
        "        # append elite[] to population[]\n",
        "        # increase popSize to popSize + esize\n",
        "        \n",
        "        # YOUR CODE HERE\n",
        "        for i in range(len(self.elite)):\n",
        "            self.population.append(self.elite[i])\n",
        "        self.popSize = self.popSize + self.esize\n",
        "        #raise NotImplementedError()\n",
        "  \n",
        "    def getGenerations(self):\n",
        "        return self.generations\n",
        "\n",
        "    def averageFitness(self):\n",
        "        return np.average(np.array([self.population[i].fitness for i in range(self.popSize)]))"
      ],
      "execution_count": 283,
      "outputs": []
    },
    {
      "cell_type": "code",
      "metadata": {
        "deletable": false,
        "editable": false,
        "id": "YpyH-t7eFBY2",
        "nbgrader": {
          "cell_type": "code",
          "checksum": "87839ed29ec8dcdb860056132a194bb5",
          "grade": false,
          "grade_id": "cell-9e8de891566794ad",
          "locked": true,
          "schema_version": 3,
          "solution": false,
          "task": false
        }
      },
      "source": [
        "def generateSummary(population):\n",
        "    summary = []\n",
        "    summary.append(population.getGenerations())\n",
        "    best = population.getBest()\n",
        "    summary.append(population.averageFitness())\n",
        "    \n",
        "    summary.append(best.fitness)   \n",
        "\n",
        "    summary.append(best.weight)\n",
        "     \n",
        "    summary.append(best.getItems(items))\n",
        "    return summary"
      ],
      "execution_count": 284,
      "outputs": []
    },
    {
      "cell_type": "code",
      "metadata": {
        "deletable": false,
        "editable": false,
        "id": "VSYw-m-3tDav",
        "nbgrader": {
          "cell_type": "code",
          "checksum": "ce9296072d257b9afb678621501e6f4d",
          "grade": false,
          "grade_id": "cell-32066d4c53a2f840",
          "locked": true,
          "schema_version": 3,
          "solution": false,
          "task": false
        }
      },
      "source": [
        "totalWeight = 300\n",
        "popSize = 200\n",
        "mutationRate = 0.02\n",
        "esize = 10\n",
        "iterations = 500\n",
        "history = []\n",
        "\n",
        "np.random.seed(100)\n",
        "items = []\n",
        "for i in range(50):\n",
        "    item = Item(f'{i+1}',np.random.randint(1,50),np.random.randint(1,50))\n",
        "    items.append(item)"
      ],
      "execution_count": 285,
      "outputs": []
    },
    {
      "cell_type": "code",
      "metadata": {
        "deletable": false,
        "editable": false,
        "id": "xKPiqG2BP8MX",
        "nbgrader": {
          "cell_type": "code",
          "checksum": "43d4f751b2b760c8f78c5632a4540037",
          "grade": false,
          "grade_id": "cell-9d570a2562eb6ad3",
          "locked": true,
          "schema_version": 3,
          "solution": false,
          "task": false
        }
      },
      "source": [
        "def plotGenerations(history):\n",
        "    '''\n",
        "    This is a function to visualize the maximum fitness and avg fitness across generations\n",
        "    '''\n",
        "\n",
        "    maxFitness = [x[2] for x in history]\n",
        "    avgFitness = [x[1] for x in history]\n",
        "    figure(figsize=(8, 6), dpi=80)\n",
        "    plt.plot(maxFitness, '-bx')\n",
        "    plt.plot(avgFitness, '-rx')\n",
        "    plt.xlabel('Generation')\n",
        "    plt.ylabel('Fitness')\n",
        "    plt.legend(['Max Fitness', 'Avg Fitness'])\n",
        "    plt.title('Fitness vs Generation')"
      ],
      "execution_count": 286,
      "outputs": []
    },
    {
      "cell_type": "code",
      "metadata": {
        "deletable": false,
        "editable": false,
        "id": "yw9aeUq6Zk5X",
        "nbgrader": {
          "cell_type": "code",
          "checksum": "b1b60f843347919932f16d542cf23862",
          "grade": false,
          "grade_id": "cell-e332077fdf3f426d",
          "locked": true,
          "schema_version": 3,
          "solution": false,
          "task": false
        },
        "colab": {
          "base_uri": "https://localhost:8080/"
        },
        "outputId": "136e3376-d879-46d4-f7ed-2aa6d47c0229"
      },
      "source": [
        "#sample test case for getE()\n",
        "np.random.seed(100)\n",
        "esize = 5\n",
        "population = Population(items, totalWeight, esize, mutationRate, popSize)\n",
        "population.getE()\n",
        "\n",
        "assert np.allclose([i.genes for i in population.elite],[[1, 1, 0, 0, 0, 1, 1, 1, 0, 1, 1, 1, 0, 1, 1, 1, 1, 1, 1, 1, 0, 0, 0, 1, 1, 0, 0, 0, 0, 0, 0, 1, 1, 0, 1, 0, 1, 0, 1, 0, 1, 1, 1, 1, 1, 0, 0, 1, 0, 0], [1, 1, 1, 0, 0, 1, 0, 1, 0, 1, 0, 1, 0, 1, 1, 1, 0, 0, 1, 1, 1, 1, 1, 0, 0, 1, 1, 1, 0, 1, 0, 0, 1, 1, 1, 0, 0, 1, 1, 0, 1, 1, 0, 1, 1, 0, 0, 1, 0, 1], [0, 0, 0, 0, 1, 1, 1, 0, 1, 1, 1, 0, 1, 0, 0, 1, 1, 1, 1, 1, 0, 0, 1, 0, 1, 1, 0, 0, 0, 1, 1, 1, 1, 1, 0, 1, 0, 1, 0, 0, 1, 0, 0, 0, 1, 1, 0, 0, 0, 1], [0, 1, 1, 1, 0, 0, 0, 1, 1, 0, 0, 0, 1, 0, 1, 0, 0, 1, 1, 1, 1, 0, 1, 1, 0, 0, 0, 1, 0, 0, 1, 1, 0, 1, 1, 1, 0, 0, 1, 0, 1, 0, 1, 0, 0, 1, 1, 0, 1, 0], [1, 0, 0, 0, 1, 1, 1, 1, 1, 1, 1, 0, 0, 1, 1, 1, 0, 1, 1, 1, 0, 0, 1, 1, 0, 0, 1, 1, 1, 0, 0, 0, 1, 0, 0, 1, 1, 0, 0, 0, 1, 0, 0, 1, 0, 0, 1, 0, 1, 1]])\n",
        "assert np.allclose(population.popSize, 195)\n",
        "\n",
        "print('Sample Test passed', '\\U0001F44D')"
      ],
      "execution_count": 287,
      "outputs": [
        {
          "output_type": "stream",
          "name": "stdout",
          "text": [
            "Sample Test passed 👍\n"
          ]
        }
      ]
    },
    {
      "cell_type": "code",
      "metadata": {
        "deletable": false,
        "editable": false,
        "id": "njsNDM5tvhx6",
        "nbgrader": {
          "cell_type": "code",
          "checksum": "a27b269bd0716cb3607d434d657139b2",
          "grade": true,
          "grade_id": "cell-7bf0a983a78ae138",
          "locked": true,
          "points": 0.25,
          "schema_version": 3,
          "solution": false,
          "task": false
        }
      },
      "source": [
        "# hidden test cases. Do not modify - 0.25 MARK"
      ],
      "execution_count": 288,
      "outputs": []
    },
    {
      "cell_type": "code",
      "metadata": {
        "deletable": false,
        "editable": false,
        "id": "ruYhYcMLv9Hi",
        "nbgrader": {
          "cell_type": "code",
          "checksum": "94576bbbba0fd81b21fd0483e4bdfd4f",
          "grade": false,
          "grade_id": "cell-0cc221d88b9033bb",
          "locked": true,
          "schema_version": 3,
          "solution": false,
          "task": false
        },
        "colab": {
          "base_uri": "https://localhost:8080/"
        },
        "outputId": "ede68d2f-3860-47f5-90cd-001a96462c25"
      },
      "source": [
        "#sample test cases for naturalSelection()\n",
        "np.random.seed(100)\n",
        "population = Population(items, totalWeight, esize, mutationRate, popSize)\n",
        "population.naturalSelection()\n",
        "\n",
        "assert np.allclose(len(population.matingPool), 800)\n",
        "assert np.allclose([i.genes for i in population.matingPool[560:570]], [[0, 1, 1, 1, 1, 1, 0, 1, 0, 0, 1, 1, 0, 0, 0, 0, 1, 1, 0, 1, 0, 0, 0, 0, 0, 0, 0, 1, 0, 0, 1, 0, 1, 1, 1, 0, 0, 1, 1, 0, 1, 0, 1, 1, 1, 0, 1, 0, 1, 0], [0, 1, 1, 1, 1, 1, 0, 1, 0, 0, 1, 1, 0, 0, 0, 0, 1, 1, 0, 1, 0, 0, 0, 0, 0, 0, 0, 1, 0, 0, 1, 0, 1, 1, 1, 0, 0, 1, 1, 0, 1, 0, 1, 1, 1, 0, 1, 0, 1, 0], [0, 1, 1, 1, 1, 1, 0, 1, 0, 0, 1, 1, 0, 0, 0, 0, 1, 1, 0, 1, 0, 0, 0, 0, 0, 0, 0, 1, 0, 0, 1, 0, 1, 1, 1, 0, 0, 1, 1, 0, 1, 0, 1, 1, 1, 0, 1, 0, 1, 0], [0, 1, 1, 1, 1, 1, 0, 1, 0, 0, 1, 1, 0, 0, 0, 0, 1, 1, 0, 1, 0, 0, 0, 0, 0, 0, 0, 1, 0, 0, 1, 0, 1, 1, 1, 0, 0, 1, 1, 0, 1, 0, 1, 1, 1, 0, 1, 0, 1, 0], [1, 0, 0, 0, 1, 1, 0, 1, 1, 0, 1, 1, 1, 1, 0, 0, 1, 1, 1, 0, 0, 0, 1, 0, 1, 1, 0, 0, 0, 0, 0, 1, 1, 1, 1, 0, 0, 1, 0, 1, 1, 1, 1, 1, 1, 1, 1, 0, 1, 0], [1, 0, 0, 0, 1, 1, 0, 1, 1, 0, 1, 1, 1, 1, 0, 0, 1, 1, 1, 0, 0, 0, 1, 0, 1, 1, 0, 0, 0, 0, 0, 1, 1, 1, 1, 0, 0, 1, 0, 1, 1, 1, 1, 1, 1, 1, 1, 0, 1, 0], [1, 0, 0, 0, 1, 1, 0, 1, 1, 0, 1, 1, 1, 1, 0, 0, 1, 1, 1, 0, 0, 0, 1, 0, 1, 1, 0, 0, 0, 0, 0, 1, 1, 1, 1, 0, 0, 1, 0, 1, 1, 1, 1, 1, 1, 1, 1, 0, 1, 0], [1, 0, 0, 0, 1, 1, 0, 1, 1, 0, 1, 1, 1, 1, 0, 0, 1, 1, 1, 0, 0, 0, 1, 0, 1, 1, 0, 0, 0, 0, 0, 1, 1, 1, 1, 0, 0, 1, 0, 1, 1, 1, 1, 1, 1, 1, 1, 0, 1, 0], [0, 1, 1, 0, 1, 0, 1, 1, 0, 0, 0, 0, 0, 1, 1, 1, 1, 0, 1, 1, 0, 0, 1, 1, 1, 1, 1, 1, 1, 0, 1, 0, 1, 1, 0, 0, 1, 0, 0, 0, 0, 1, 0, 0, 1, 1, 1, 0, 1, 0], [0, 1, 1, 0, 1, 0, 1, 1, 0, 0, 0, 0, 0, 1, 1, 1, 1, 0, 1, 1, 0, 0, 1, 1, 1, 1, 1, 1, 1, 0, 1, 0, 1, 1, 0, 0, 1, 0, 0, 0, 0, 1, 0, 0, 1, 1, 1, 0, 1, 0]])\n",
        "print('Sample Test passed', '\\U0001F44D')"
      ],
      "execution_count": 289,
      "outputs": [
        {
          "output_type": "stream",
          "name": "stdout",
          "text": [
            "Sample Test passed 👍\n"
          ]
        }
      ]
    },
    {
      "cell_type": "code",
      "metadata": {
        "deletable": false,
        "editable": false,
        "id": "a-WhALtAx96A",
        "nbgrader": {
          "cell_type": "code",
          "checksum": "3bb87efc8647665e1ecb7494294456a9",
          "grade": true,
          "grade_id": "cell-33c5fa9cf0ae7266",
          "locked": true,
          "points": 1,
          "schema_version": 3,
          "solution": false,
          "task": false
        }
      },
      "source": [
        "# hidden test cases. Do not modify - 1 MARK"
      ],
      "execution_count": 290,
      "outputs": []
    },
    {
      "cell_type": "code",
      "metadata": {
        "deletable": false,
        "editable": false,
        "id": "lOx8Z88Yykrs",
        "nbgrader": {
          "cell_type": "code",
          "checksum": "084e5b0d0b5cbb87ced0e9a7c6b39d5a",
          "grade": false,
          "grade_id": "cell-f18dc6168e9715ec",
          "locked": true,
          "schema_version": 3,
          "solution": false,
          "task": false
        },
        "colab": {
          "base_uri": "https://localhost:8080/"
        },
        "outputId": "faa165c5-a4da-47ee-9d13-9b27f389ba7f"
      },
      "source": [
        "#Sample Test Case for generateNewPopulation()\n",
        "np.random.seed(100)\n",
        "population = Population(items, totalWeight, esize, mutationRate, popSize)\n",
        "population.naturalSelection()\n",
        "population.generateNewPopulation()\n",
        "\n",
        "assert np.allclose([i.genes for i in population.population[160:170]], [[0, 0, 0, 0, 1, 1, 0, 1, 0, 0, 1, 1, 1, 1, 0, 1, 0, 1, 0, 1, 1, 0, 1, 0, 0, 1, 1, 0, 0, 0, 1, 1, 1, 1, 0, 0, 1, 1, 0, 1, 0, 1, 0, 1, 1, 1, 1, 1, 0, 1], [1, 1, 1, 1, 1, 1, 0, 1, 1, 1, 1, 1, 0, 1, 0, 0, 1, 0, 1, 0, 0, 0, 1, 1, 1, 1, 0, 0, 1, 0, 0, 1, 1, 1, 1, 0, 0, 0, 0, 1, 0, 1, 1, 1, 0, 1, 1, 0, 0, 0], [1, 1, 1, 1, 0, 0, 0, 0, 1, 0, 0, 1, 0, 1, 1, 1, 1, 0, 1, 0, 1, 1, 0, 1, 1, 0, 0, 1, 1, 1, 0, 0, 0, 0, 0, 1, 0, 1, 1, 0, 0, 0, 1, 0, 0, 1, 1, 1, 1, 1], [0, 1, 1, 1, 1, 1, 0, 0, 0, 1, 1, 0, 1, 1, 1, 1, 1, 1, 0, 0, 1, 1, 1, 1, 1, 0, 0, 0, 1, 1, 1, 0, 0, 1, 0, 1, 1, 1, 1, 0, 1, 1, 0, 1, 0, 1, 0, 1, 1, 1], [1, 1, 1, 0, 1, 1, 1, 1, 0, 1, 1, 1, 1, 0, 1, 0, 0, 0, 1, 1, 1, 1, 1, 0, 1, 1, 1, 0, 1, 1, 1, 0, 0, 1, 0, 0, 0, 0, 0, 1, 0, 1, 0, 1, 1, 0, 0, 1, 1, 1], [1, 1, 0, 0, 1, 0, 0, 0, 1, 0, 1, 0, 1, 1, 1, 1, 1, 1, 0, 1, 1, 0, 0, 1, 1, 0, 0, 0, 1, 1, 1, 0, 0, 0, 1, 0, 0, 0, 1, 0, 0, 0, 1, 0, 0, 1, 1, 0, 0, 1], [1, 0, 1, 1, 1, 0, 1, 1, 0, 1, 1, 1, 0, 1, 0, 1, 1, 0, 1, 1, 0, 0, 0, 0, 1, 0, 1, 1, 1, 0, 1, 1, 1, 1, 1, 0, 1, 1, 1, 1, 1, 0, 1, 0, 1, 1, 1, 1, 0, 0], [0, 1, 0, 1, 0, 1, 1, 1, 0, 1, 0, 0, 1, 1, 1, 0, 0, 0, 0, 0, 1, 1, 1, 1, 1, 0, 0, 1, 0, 1, 1, 1, 0, 1, 1, 1, 1, 0, 0, 0, 0, 1, 0, 0, 0, 1, 1, 0, 1, 1], [1, 1, 0, 0, 1, 1, 0, 1, 1, 1, 0, 1, 1, 1, 0, 1, 1, 1, 1, 1, 0, 1, 0, 1, 0, 1, 0, 1, 0, 1, 0, 0, 1, 0, 0, 1, 0, 1, 1, 1, 1, 0, 1, 0, 1, 0, 1, 1, 0, 0], [0, 1, 1, 0, 1, 0, 1, 1, 1, 1, 1, 0, 1, 0, 1, 1, 1, 0, 1, 0, 0, 1, 1, 1, 0, 0, 0, 0, 0, 1, 1, 1, 1, 1, 0, 1, 0, 0, 1, 0, 1, 1, 1, 1, 0, 1, 1, 1, 0, 0]])\n",
        "assert np.allclose(population.generations, 1)\n",
        "\n",
        "print('Sample Test passed', '\\U0001F44D')"
      ],
      "execution_count": 291,
      "outputs": [
        {
          "output_type": "stream",
          "name": "stdout",
          "text": [
            "Sample Test passed 👍\n"
          ]
        }
      ]
    },
    {
      "cell_type": "code",
      "metadata": {
        "deletable": false,
        "editable": false,
        "id": "3WMX4sdG2NMZ",
        "nbgrader": {
          "cell_type": "code",
          "checksum": "fc9164f6dcc8458dba7c0520866b13c0",
          "grade": true,
          "grade_id": "cell-d040518924fda701",
          "locked": true,
          "points": 0.75,
          "schema_version": 3,
          "solution": false,
          "task": false
        }
      },
      "source": [
        "# hidden test cases. Do not modify - 0.75 MARK"
      ],
      "execution_count": 292,
      "outputs": []
    },
    {
      "cell_type": "code",
      "metadata": {
        "deletable": false,
        "editable": false,
        "id": "oYl3dIJyMDV6",
        "nbgrader": {
          "cell_type": "code",
          "checksum": "52203c205d1c206c8e1ea78ecd6d8d9e",
          "grade": false,
          "grade_id": "cell-be479ba18243054e",
          "locked": true,
          "schema_version": 3,
          "solution": false,
          "task": false
        },
        "colab": {
          "base_uri": "https://localhost:8080/"
        },
        "outputId": "0ef6c9b0-c7fa-40f3-8677-c3a9e02e20a7"
      },
      "source": [
        "# Sample Test Case without Elitism\n",
        "# Test your code to see whether your code is working properly or not\n",
        "items = []\n",
        "np.random.seed(101)\n",
        "for i in range(20):\n",
        "    item = Item(f'{i+1}',np.random.randint(1,50),np.random.randint(1,50))\n",
        "    items.append(item)\n",
        "\n",
        "totalWeight = 300\n",
        "popSize = 250\n",
        "mutationRate = 0.01\n",
        "esize = 10\n",
        "iterations = 50\n",
        "history = []\n",
        "\n",
        "population = Population(items, totalWeight,esize, mutationRate, popSize)\n",
        " \n",
        "while(population.generations < iterations):\n",
        "    population.naturalSelection()\n",
        "    population.generateNewPopulation()\n",
        "    population.calculate_Population_Fitness()\n",
        "    population.evaluate()\n",
        "    history.append(generateSummary(population))\n",
        "\n",
        "assert np.allclose(history[0][1],253.82) and np.allclose(history[0][2],441)\n",
        "assert np.allclose(history[24][1],373.96) and np.allclose(history[24][2],482)\n",
        "assert np.allclose(history[49][1],401.612) and np.allclose(history[49][2],486)\n",
        "print('Sample Test passed', '\\U0001F44D \\n\\n')\n",
        "\n",
        "print(tabulate(history,headers = ['Generation','Average Fitness','Maximum Fitness','Weight','Item List']))"
      ],
      "execution_count": 293,
      "outputs": [
        {
          "output_type": "stream",
          "name": "stdout",
          "text": [
            "Sample Test passed 👍 \n",
            "\n",
            "\n",
            "  Generation    Average Fitness    Maximum Fitness    Weight  Item List\n",
            "------------  -----------------  -----------------  --------  ---------------------------------------\n",
            "           1            253.82                 441       293  1,2,4,6,7,8,9,10,11,12,13,14,16,17,20\n",
            "           2            266.008                441       293  1,2,4,6,7,8,9,10,11,12,13,14,16,17,20\n",
            "           3            287.3                  441       293  1,2,4,6,7,8,9,10,11,12,13,14,16,17,20\n",
            "           4            283.716                444       249  1,2,4,7,8,10,11,12,13,14,15,16,19,20\n",
            "           5            306.764                451       287  1,2,3,4,5,7,8,10,11,12,13,14,16,17,18\n",
            "           6            314.86                 451       287  1,2,3,4,5,7,8,10,11,12,13,14,16,17,18\n",
            "           7            314.36                 468       261  1,2,3,4,7,8,10,11,12,13,14,15,16,19,20\n",
            "           8            325.352                468       261  1,2,3,4,7,8,10,11,12,13,14,15,16,19,20\n",
            "           9            324.812                468       261  1,2,3,4,7,8,10,11,12,13,14,15,16,19,20\n",
            "          10            331.008                482       300  1,2,3,4,5,7,8,9,10,11,12,13,14,16,19,20\n",
            "          11            331.996                482       300  1,2,3,4,5,7,8,9,10,11,12,13,14,16,19,20\n",
            "          12            338.688                482       300  1,2,3,4,5,7,8,9,10,11,12,13,14,16,19,20\n",
            "          13            337.564                482       300  1,2,3,4,5,7,8,9,10,11,12,13,14,16,19,20\n",
            "          14            343.78                 482       300  1,2,3,4,5,7,8,9,10,11,12,13,14,16,19,20\n",
            "          15            343.632                482       300  1,2,3,4,5,7,8,9,10,11,12,13,14,16,19,20\n",
            "          16            354.196                482       300  1,2,3,4,5,7,8,9,10,11,12,13,14,16,19,20\n",
            "          17            358.772                482       300  1,2,3,4,5,7,8,9,10,11,12,13,14,16,19,20\n",
            "          18            356.812                482       300  1,2,3,4,5,7,8,9,10,11,12,13,14,16,19,20\n",
            "          19            356.032                482       300  1,2,3,4,5,7,8,9,10,11,12,13,14,16,19,20\n",
            "          20            360.928                482       300  1,2,3,4,5,7,8,9,10,11,12,13,14,16,19,20\n",
            "          21            361.936                482       300  1,2,3,4,5,7,8,9,10,11,12,13,14,16,19,20\n",
            "          22            356.552                482       300  1,2,3,4,5,7,8,9,10,11,12,13,14,16,19,20\n",
            "          23            352.588                482       300  1,2,3,4,5,7,8,9,10,11,12,13,14,16,19,20\n",
            "          24            356.512                482       300  1,2,3,4,5,7,8,9,10,11,12,13,14,16,19,20\n",
            "          25            373.96                 482       300  1,2,3,4,5,7,8,9,10,11,12,13,14,16,19,20\n",
            "          26            377.78                 482       300  1,2,3,4,5,7,8,9,10,11,12,13,14,16,19,20\n",
            "          27            374.304                482       300  1,2,3,4,5,7,8,9,10,11,12,13,14,16,19,20\n",
            "          28            368.612                486       295  1,2,3,4,5,7,8,9,10,11,12,13,14,15,16,20\n",
            "          29            385.596                486       295  1,2,3,4,5,7,8,9,10,11,12,13,14,15,16,20\n",
            "          30            382.44                 486       295  1,2,3,4,5,7,8,9,10,11,12,13,14,15,16,20\n",
            "          31            384.796                486       295  1,2,3,4,5,7,8,9,10,11,12,13,14,15,16,20\n",
            "          32            378.708                486       295  1,2,3,4,5,7,8,9,10,11,12,13,14,15,16,20\n",
            "          33            377.856                486       295  1,2,3,4,5,7,8,9,10,11,12,13,14,15,16,20\n",
            "          34            382.596                486       295  1,2,3,4,5,7,8,9,10,11,12,13,14,15,16,20\n",
            "          35            385.868                486       295  1,2,3,4,5,7,8,9,10,11,12,13,14,15,16,20\n",
            "          36            392.416                486       295  1,2,3,4,5,7,8,9,10,11,12,13,14,15,16,20\n",
            "          37            386.684                486       295  1,2,3,4,5,7,8,9,10,11,12,13,14,15,16,20\n",
            "          38            388.42                 486       295  1,2,3,4,5,7,8,9,10,11,12,13,14,15,16,20\n",
            "          39            384.112                486       295  1,2,3,4,5,7,8,9,10,11,12,13,14,15,16,20\n",
            "          40            385.556                486       295  1,2,3,4,5,7,8,9,10,11,12,13,14,15,16,20\n",
            "          41            386.416                486       295  1,2,3,4,5,7,8,9,10,11,12,13,14,15,16,20\n",
            "          42            381.812                486       295  1,2,3,4,5,7,8,9,10,11,12,13,14,15,16,20\n",
            "          43            386.612                486       295  1,2,3,4,5,7,8,9,10,11,12,13,14,15,16,20\n",
            "          44            393.988                486       295  1,2,3,4,5,7,8,9,10,11,12,13,14,15,16,20\n",
            "          45            389.944                486       295  1,2,3,4,5,7,8,9,10,11,12,13,14,15,16,20\n",
            "          46            394.22                 486       295  1,2,3,4,5,7,8,9,10,11,12,13,14,15,16,20\n",
            "          47            390.236                486       295  1,2,3,4,5,7,8,9,10,11,12,13,14,15,16,20\n",
            "          48            397.404                486       295  1,2,3,4,5,7,8,9,10,11,12,13,14,15,16,20\n",
            "          49            398.212                486       295  1,2,3,4,5,7,8,9,10,11,12,13,14,15,16,20\n",
            "          50            401.612                486       295  1,2,3,4,5,7,8,9,10,11,12,13,14,15,16,20\n"
          ]
        }
      ]
    },
    {
      "cell_type": "code",
      "metadata": {
        "deletable": false,
        "editable": false,
        "id": "ZF7qgmrcMMSU",
        "nbgrader": {
          "cell_type": "code",
          "checksum": "bb97a05e5d0f05c0bfff0d55e719ec0b",
          "grade": false,
          "grade_id": "cell-e7139267c1492cb7",
          "locked": true,
          "schema_version": 3,
          "solution": false,
          "task": false
        },
        "colab": {
          "base_uri": "https://localhost:8080/",
          "height": 444
        },
        "outputId": "bce87388-33c9-48ba-a74b-cea219051693"
      },
      "source": [
        "plotGenerations(history)"
      ],
      "execution_count": 294,
      "outputs": [
        {
          "output_type": "display_data",
          "data": {
            "text/plain": [
              "<Figure size 640x480 with 1 Axes>"
            ],
            "image/png": "[encoded data removed]"
          },
          "metadata": {
            "needs_background": "light"
          }
        }
      ]
    },
    {
      "cell_type": "code",
      "metadata": {
        "deletable": false,
        "editable": false,
        "id": "VGPQn-p2A7Qe",
        "nbgrader": {
          "cell_type": "code",
          "checksum": "bff17f546c88cf7aeed16e0694d4ef3b",
          "grade": false,
          "grade_id": "cell-357220d41434f8a5",
          "locked": true,
          "schema_version": 3,
          "solution": false,
          "task": false
        },
        "colab": {
          "base_uri": "https://localhost:8080/"
        },
        "outputId": "b2349f4c-0f87-4ac6-f8eb-7a75b9c8629d"
      },
      "source": [
        "# Sample Test Case with Elitism\n",
        "# Getting it all together see if your getE() and merge() are working properly or not\n",
        "items = []\n",
        "np.random.seed(101)\n",
        "for i in range(20):\n",
        "    item = Item(f'{i+1}',np.random.randint(1,50),np.random.randint(1,50))\n",
        "    items.append(item)\n",
        "\n",
        "totalWeight = 300\n",
        "popSize = 250\n",
        "mutationRate = 0.01\n",
        "esize = 10\n",
        "iterations = 50\n",
        "history = []\n",
        "\n",
        "population = Population(items, totalWeight,esize, mutationRate, popSize)\n",
        " \n",
        "while(population.generations < iterations):\n",
        "    population.getE()\n",
        "    population.naturalSelection()\n",
        "    population.generateNewPopulation()\n",
        "    population.merge()\n",
        "    population.calculate_Population_Fitness()\n",
        "    population.evaluate()\n",
        "    history.append(generateSummary(population))\n",
        "\n",
        "assert np.allclose(history[0][1],256.612) and np.allclose(history[0][2],441)\n",
        "assert np.allclose(history[24][1],370.684) and np.allclose(history[24][2],473)\n",
        "assert np.allclose(history[49][1],404.444) and np.allclose(history[49][2],482)\n",
        "print('Sample Test passed', '\\U0001F44D \\n\\n')\n",
        "\n",
        "print(tabulate(history,headers = ['Generation','Avg Fitness','Max Fitness','Weight','Item List']))"
      ],
      "execution_count": 295,
      "outputs": [
        {
          "output_type": "stream",
          "name": "stdout",
          "text": [
            "Sample Test passed 👍 \n",
            "\n",
            "\n",
            "  Generation    Avg Fitness    Max Fitness    Weight  Item List\n",
            "------------  -------------  -------------  --------  ---------------------------------------\n",
            "           1        256.612            441       293  1,2,4,6,7,8,9,10,11,12,13,14,16,17,20\n",
            "           2        280.388            441       293  1,2,4,6,7,8,9,10,11,12,13,14,16,17,20\n",
            "           3        276.324            441       293  1,2,4,6,7,8,9,10,11,12,13,14,16,17,20\n",
            "           4        288                441       293  1,2,4,6,7,8,9,10,11,12,13,14,16,17,20\n",
            "           5        298.584            441       293  1,2,4,6,7,8,9,10,11,12,13,14,16,17,20\n",
            "           6        296.008            441       293  1,2,4,6,7,8,9,10,11,12,13,14,16,17,20\n",
            "           7        310.58             450       270  1,2,3,4,5,7,8,10,11,12,13,16,18,20\n",
            "           8        316.012            462       266  1,2,3,4,5,7,8,10,11,12,13,14,15,16,19\n",
            "           9        309.868            462       266  1,2,3,4,5,7,8,10,11,12,13,14,15,16,19\n",
            "          10        306.276            462       266  1,2,3,4,5,7,8,10,11,12,13,14,15,16,19\n",
            "          11        319.192            462       266  1,2,3,4,5,7,8,10,11,12,13,14,15,16,19\n",
            "          12        318.76             462       266  1,2,3,4,5,7,8,10,11,12,13,14,15,16,19\n",
            "          13        327.828            462       266  1,2,3,4,5,7,8,10,11,12,13,14,15,16,19\n",
            "          14        333.06             462       266  1,2,3,4,5,7,8,10,11,12,13,14,15,16,19\n",
            "          15        341.764            462       266  1,2,3,4,5,7,8,10,11,12,13,14,15,16,19\n",
            "          16        347.516            462       266  1,2,3,4,5,7,8,10,11,12,13,14,15,16,19\n",
            "          17        347.916            462       266  1,2,3,4,5,7,8,10,11,12,13,14,15,16,19\n",
            "          18        342.368            462       266  1,2,3,4,5,7,8,10,11,12,13,14,15,16,19\n",
            "          19        345.86             462       266  1,2,3,4,5,7,8,10,11,12,13,14,15,16,19\n",
            "          20        350.908            462       266  1,2,3,4,5,7,8,10,11,12,13,14,15,16,19\n",
            "          21        352.752            462       266  1,2,3,4,5,7,8,10,11,12,13,14,15,16,19\n",
            "          22        363.824            462       266  1,2,3,4,5,7,8,10,11,12,13,14,15,16,19\n",
            "          23        365.48             470       281  1,2,3,4,5,7,8,10,11,12,13,14,16,18,20\n",
            "          24        371.148            473       265  1,2,3,4,5,7,8,10,11,12,13,14,15,16,20\n",
            "          25        370.684            473       265  1,2,3,4,5,7,8,10,11,12,13,14,15,16,20\n",
            "          26        376.528            473       265  1,2,3,4,5,7,8,10,11,12,13,14,15,16,20\n",
            "          27        375.108            473       265  1,2,3,4,5,7,8,10,11,12,13,14,15,16,20\n",
            "          28        370.276            473       265  1,2,3,4,5,7,8,10,11,12,13,14,15,16,20\n",
            "          29        376.972            473       265  1,2,3,4,5,7,8,10,11,12,13,14,15,16,20\n",
            "          30        379.936            473       265  1,2,3,4,5,7,8,10,11,12,13,14,15,16,20\n",
            "          31        381.436            473       265  1,2,3,4,5,7,8,10,11,12,13,14,15,16,20\n",
            "          32        387.324            473       265  1,2,3,4,5,7,8,10,11,12,13,14,15,16,20\n",
            "          33        384.868            482       300  1,2,3,4,5,7,8,9,10,11,12,13,14,16,19,20\n",
            "          34        376.296            482       300  1,2,3,4,5,7,8,9,10,11,12,13,14,16,19,20\n",
            "          35        389.192            482       300  1,2,3,4,5,7,8,9,10,11,12,13,14,16,19,20\n",
            "          36        383.64             482       300  1,2,3,4,5,7,8,9,10,11,12,13,14,16,19,20\n",
            "          37        394.876            482       300  1,2,3,4,5,7,8,9,10,11,12,13,14,16,19,20\n",
            "          38        397.768            482       300  1,2,3,4,5,7,8,9,10,11,12,13,14,16,19,20\n",
            "          39        390.328            482       300  1,2,3,4,5,7,8,9,10,11,12,13,14,16,19,20\n",
            "          40        388.636            482       300  1,2,3,4,5,7,8,9,10,11,12,13,14,16,19,20\n",
            "          41        391.044            482       300  1,2,3,4,5,7,8,9,10,11,12,13,14,16,19,20\n",
            "          42        393.084            482       300  1,2,3,4,5,7,8,9,10,11,12,13,14,16,19,20\n",
            "          43        401.812            482       300  1,2,3,4,5,7,8,9,10,11,12,13,14,16,19,20\n",
            "          44        404.124            482       300  1,2,3,4,5,7,8,9,10,11,12,13,14,16,19,20\n",
            "          45        397.316            482       300  1,2,3,4,5,7,8,9,10,11,12,13,14,16,19,20\n",
            "          46        390.732            482       300  1,2,3,4,5,7,8,9,10,11,12,13,14,16,19,20\n",
            "          47        394.264            482       300  1,2,3,4,5,7,8,9,10,11,12,13,14,16,19,20\n",
            "          48        399.544            482       300  1,2,3,4,5,7,8,9,10,11,12,13,14,16,19,20\n",
            "          49        402.088            482       300  1,2,3,4,5,7,8,9,10,11,12,13,14,16,19,20\n",
            "          50        404.444            482       300  1,2,3,4,5,7,8,9,10,11,12,13,14,16,19,20\n"
          ]
        }
      ]
    },
    {
      "cell_type": "code",
      "metadata": {
        "deletable": false,
        "editable": false,
        "id": "2waXVWtaMWej",
        "nbgrader": {
          "cell_type": "code",
          "checksum": "165259ee7979327bfa9298744e58e207",
          "grade": false,
          "grade_id": "cell-d10f72f77e0734f4",
          "locked": true,
          "schema_version": 3,
          "solution": false,
          "task": false
        },
        "colab": {
          "base_uri": "https://localhost:8080/",
          "height": 444
        },
        "outputId": "9b5bb7d0-0334-4d7c-e986-9fb8fa3ad8d2"
      },
      "source": [
        "plotGenerations(history)"
      ],
      "execution_count": 296,
      "outputs": [
        {
          "output_type": "display_data",
          "data": {
            "text/plain": [
              "<Figure size 640x480 with 1 Axes>"
            ],
            "image/png": "[encoded data removed]"
          },
          "metadata": {
            "needs_background": "light"
          }
        }
      ]
    },
    {
      "cell_type": "code",
      "metadata": {
        "deletable": false,
        "editable": false,
        "id": "wpjeTHS2A8hs",
        "nbgrader": {
          "cell_type": "code",
          "checksum": "d083e927b71a1440da4ba69529254ab9",
          "grade": true,
          "grade_id": "cell-96cd5791bb97a878",
          "locked": true,
          "points": 1,
          "schema_version": 3,
          "solution": false,
          "task": false
        }
      },
      "source": [
        "# hidden test cases. Do not modify - 1 MARK"
      ],
      "execution_count": 297,
      "outputs": []
    },
    {
      "cell_type": "markdown",
      "metadata": {
        "deletable": false,
        "editable": false,
        "id": "LmK0_TIRb-1N",
        "nbgrader": {
          "cell_type": "markdown",
          "checksum": "4ab0a1dda676ddad901949a4896dd41d",
          "grade": false,
          "grade_id": "cell-6551023b3c445afc",
          "locked": true,
          "schema_version": 3,
          "solution": false,
          "task": false
        }
      },
      "source": [
        "#Thank You!\n",
        "This completes the assignment. Kudos on making it this far! We hope that you learnt some new things from this assignment and that it was interesting and engaging!"
      ]
    },
    {
      "cell_type": "code",
      "source": [],
      "metadata": {
        "id": "NJSI_JqTi3-d"
      },
      "execution_count": 297,
      "outputs": []
    }
  ],
  "metadata": {
    "colab": {
      "collapsed_sections": [
        "yKKEbEnFKqVa",
        "YJ7Ns8SkKqVb"
      ],
      "provenance": []
    },
    "kernelspec": {
      "display_name": "Python 3",
      "name": "python3"
    },
    "language_info": {
      "name": "python"
    }
  },
  "nbformat": 4,
  "nbformat_minor": 0
}